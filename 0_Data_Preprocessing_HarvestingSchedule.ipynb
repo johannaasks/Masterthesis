{
 "cells": [
  {
   "cell_type": "markdown",
   "metadata": {},
   "source": [
    "# Data Preprocessing - Harvesting Schedule\n",
    "*This notebook contains the preprocessing steps performed to create a clean and structured dataset for further processing and analysis.\n",
    "The provided data to be worked with is contained in several Excel sheets and one log-file, these will be imported and cleaned separately initially, then processed into a suitable format for further analysis.*"
   ]
  },
  {
   "cell_type": "code",
   "execution_count": 1,
   "metadata": {},
   "outputs": [],
   "source": [
    "# imports\n",
    "import pandas as pd\n",
    "import os\n",
    "import re\n",
    "pd.options.mode.chained_assignment = None  # default='warn'"
   ]
  },
  {
   "cell_type": "markdown",
   "metadata": {},
   "source": [
    "## 🏁 Goal\n",
    "We need a tabular dataset that contains for the three selected harvesting schedules (MaxRes Solution, MaxWood solution, Stakeholder solution) the following columns:\n",
    "- UG (stand ID)\n",
    "- Period\n",
    "- Presc (prescription ID)\n",
    "- ShPer\n",
    "\n",
    "We then need to create, for each of the three harvesting schedules, a matrix (FIR)st telling if UG number s during period t needs:\n",
    "- 10m road access (1),\n",
    "- no 10m road access (0),  \n",
    "\n",
    "and a matrix (TIM)st telling if UG number s during period t needs:\n",
    "- 5m road access (1),\n",
    "- no 5m road access (0)."
   ]
  },
  {
   "cell_type": "markdown",
   "metadata": {},
   "source": [
    "## 0.A. 📂 Prescription data sheet"
   ]
  },
  {
   "cell_type": "code",
   "execution_count": 2,
   "metadata": {},
   "outputs": [
    {
     "name": "stdout",
     "output_type": "stream",
     "text": [
      "df shape: (317883, 41)\n",
      "columns: Index(['UG', 'ug_Sp', 'area', 'presc', 'Control', 'Na sol MaxRES',\n",
      "       'Na sol MaxWood', 'period', 'species', 'c', 'v (m3)', 'vthin (m3) ',\n",
      "       'vharv (m3)', 'vthin (ton)', 'vharv (ton)', 'Vremovido(ton)', 'fmm1',\n",
      "       'fmm2', 'fmm3', 'fmm4', 'fmm5', 'fmm6', 'fmm7', 'fmm8', 'fmm9', 'fmm10',\n",
      "       'fmm11', 'npv0', 'npv5', 'npv10', 'biodiversity0', 'biodiversity5',\n",
      "       'biodiversity10', 'rait0', 'rait5', 'rait10', 'rit0', 'rit5', 'rit10',\n",
      "       'erosion', 'Cortiça'],\n",
      "      dtype='object')\n"
     ]
    },
    {
     "data": {
      "text/html": [
       "<div>\n",
       "<style scoped>\n",
       "    .dataframe tbody tr th:only-of-type {\n",
       "        vertical-align: middle;\n",
       "    }\n",
       "\n",
       "    .dataframe tbody tr th {\n",
       "        vertical-align: top;\n",
       "    }\n",
       "\n",
       "    .dataframe thead th {\n",
       "        text-align: right;\n",
       "    }\n",
       "</style>\n",
       "<table border=\"1\" class=\"dataframe\">\n",
       "  <thead>\n",
       "    <tr style=\"text-align: right;\">\n",
       "      <th></th>\n",
       "      <th>UG</th>\n",
       "      <th>ug_Sp</th>\n",
       "      <th>area</th>\n",
       "      <th>presc</th>\n",
       "      <th>Control</th>\n",
       "      <th>Na sol MaxRES</th>\n",
       "      <th>Na sol MaxWood</th>\n",
       "      <th>period</th>\n",
       "      <th>species</th>\n",
       "      <th>c</th>\n",
       "      <th>...</th>\n",
       "      <th>biodiversity5</th>\n",
       "      <th>biodiversity10</th>\n",
       "      <th>rait0</th>\n",
       "      <th>rait5</th>\n",
       "      <th>rait10</th>\n",
       "      <th>rit0</th>\n",
       "      <th>rit5</th>\n",
       "      <th>rit10</th>\n",
       "      <th>erosion</th>\n",
       "      <th>Cortiça</th>\n",
       "    </tr>\n",
       "  </thead>\n",
       "  <tbody>\n",
       "    <tr>\n",
       "      <th>0</th>\n",
       "      <td>1</td>\n",
       "      <td>1_Ec</td>\n",
       "      <td>42.601782</td>\n",
       "      <td>1</td>\n",
       "      <td>1.1000</td>\n",
       "      <td>NaN</td>\n",
       "      <td>NaN</td>\n",
       "      <td>1</td>\n",
       "      <td>Ec</td>\n",
       "      <td>20290.7145</td>\n",
       "      <td>...</td>\n",
       "      <td>68.8904</td>\n",
       "      <td>73.4017</td>\n",
       "      <td>132.0655</td>\n",
       "      <td>166.1470</td>\n",
       "      <td>136.3257</td>\n",
       "      <td>0.9880</td>\n",
       "      <td>0.9963</td>\n",
       "      <td>0.9880</td>\n",
       "      <td>81862.7924</td>\n",
       "      <td>0.0000</td>\n",
       "    </tr>\n",
       "    <tr>\n",
       "      <th>1</th>\n",
       "      <td>1</td>\n",
       "      <td>1_Ec</td>\n",
       "      <td>42.601782</td>\n",
       "      <td>1</td>\n",
       "      <td>1.1000</td>\n",
       "      <td>NaN</td>\n",
       "      <td>NaN</td>\n",
       "      <td>2</td>\n",
       "      <td>Ec</td>\n",
       "      <td>36915.3071</td>\n",
       "      <td>...</td>\n",
       "      <td>68.6481</td>\n",
       "      <td>72.9810</td>\n",
       "      <td>140.5859</td>\n",
       "      <td>166.1470</td>\n",
       "      <td>140.5859</td>\n",
       "      <td>0.9912</td>\n",
       "      <td>0.9963</td>\n",
       "      <td>0.9883</td>\n",
       "      <td>78103.5629</td>\n",
       "      <td>0.0000</td>\n",
       "    </tr>\n",
       "    <tr>\n",
       "      <th>2</th>\n",
       "      <td>1</td>\n",
       "      <td>1_Ec</td>\n",
       "      <td>42.601782</td>\n",
       "      <td>1</td>\n",
       "      <td>1.1000</td>\n",
       "      <td>NaN</td>\n",
       "      <td>NaN</td>\n",
       "      <td>3</td>\n",
       "      <td>Ec</td>\n",
       "      <td>31452.4225</td>\n",
       "      <td>...</td>\n",
       "      <td>68.7367</td>\n",
       "      <td>73.1087</td>\n",
       "      <td>144.8461</td>\n",
       "      <td>166.1470</td>\n",
       "      <td>140.5859</td>\n",
       "      <td>0.9919</td>\n",
       "      <td>0.9967</td>\n",
       "      <td>0.9895</td>\n",
       "      <td>77765.0774</td>\n",
       "      <td>0.0000</td>\n",
       "    </tr>\n",
       "    <tr>\n",
       "      <th>3</th>\n",
       "      <td>1</td>\n",
       "      <td>1_Ec</td>\n",
       "      <td>42.601782</td>\n",
       "      <td>1</td>\n",
       "      <td>1.1000</td>\n",
       "      <td>NaN</td>\n",
       "      <td>NaN</td>\n",
       "      <td>4</td>\n",
       "      <td>Ec</td>\n",
       "      <td>33321.7817</td>\n",
       "      <td>...</td>\n",
       "      <td>67.4269</td>\n",
       "      <td>69.3376</td>\n",
       "      <td>161.8868</td>\n",
       "      <td>170.4071</td>\n",
       "      <td>161.8868</td>\n",
       "      <td>0.9959</td>\n",
       "      <td>0.9975</td>\n",
       "      <td>0.9959</td>\n",
       "      <td>70974.4382</td>\n",
       "      <td>0.0000</td>\n",
       "    </tr>\n",
       "    <tr>\n",
       "      <th>4</th>\n",
       "      <td>1</td>\n",
       "      <td>1_Ec</td>\n",
       "      <td>42.601782</td>\n",
       "      <td>1</td>\n",
       "      <td>1.1000</td>\n",
       "      <td>NaN</td>\n",
       "      <td>NaN</td>\n",
       "      <td>5</td>\n",
       "      <td>Ec</td>\n",
       "      <td>31034.9927</td>\n",
       "      <td>...</td>\n",
       "      <td>68.7400</td>\n",
       "      <td>73.1555</td>\n",
       "      <td>149.1062</td>\n",
       "      <td>166.1470</td>\n",
       "      <td>140.5859</td>\n",
       "      <td>0.9918</td>\n",
       "      <td>0.9966</td>\n",
       "      <td>0.9891</td>\n",
       "      <td>81249.0464</td>\n",
       "      <td>0.0000</td>\n",
       "    </tr>\n",
       "    <tr>\n",
       "      <th>...</th>\n",
       "      <td>...</td>\n",
       "      <td>...</td>\n",
       "      <td>...</td>\n",
       "      <td>...</td>\n",
       "      <td>...</td>\n",
       "      <td>...</td>\n",
       "      <td>...</td>\n",
       "      <td>...</td>\n",
       "      <td>...</td>\n",
       "      <td>...</td>\n",
       "      <td>...</td>\n",
       "      <td>...</td>\n",
       "      <td>...</td>\n",
       "      <td>...</td>\n",
       "      <td>...</td>\n",
       "      <td>...</td>\n",
       "      <td>...</td>\n",
       "      <td>...</td>\n",
       "      <td>...</td>\n",
       "      <td>...</td>\n",
       "      <td>...</td>\n",
       "    </tr>\n",
       "    <tr>\n",
       "      <th>317878</th>\n",
       "      <td>1626</td>\n",
       "      <td>1626_Pb</td>\n",
       "      <td>0.761332</td>\n",
       "      <td>503700</td>\n",
       "      <td>1626.5037</td>\n",
       "      <td>NaN</td>\n",
       "      <td>NaN</td>\n",
       "      <td>6</td>\n",
       "      <td>Sb</td>\n",
       "      <td>30.8645</td>\n",
       "      <td>...</td>\n",
       "      <td>1.0996</td>\n",
       "      <td>1.1132</td>\n",
       "      <td>3.0453</td>\n",
       "      <td>3.0453</td>\n",
       "      <td>3.0453</td>\n",
       "      <td>4.7000</td>\n",
       "      <td>4.8000</td>\n",
       "      <td>4.8000</td>\n",
       "      <td>633.4482</td>\n",
       "      <td>151.3299</td>\n",
       "    </tr>\n",
       "    <tr>\n",
       "      <th>317879</th>\n",
       "      <td>1626</td>\n",
       "      <td>1626_Pb</td>\n",
       "      <td>0.761332</td>\n",
       "      <td>503700</td>\n",
       "      <td>1626.5037</td>\n",
       "      <td>NaN</td>\n",
       "      <td>NaN</td>\n",
       "      <td>7</td>\n",
       "      <td>Sb</td>\n",
       "      <td>42.4194</td>\n",
       "      <td>...</td>\n",
       "      <td>1.1208</td>\n",
       "      <td>1.1306</td>\n",
       "      <td>3.0453</td>\n",
       "      <td>3.0453</td>\n",
       "      <td>3.0453</td>\n",
       "      <td>5.0000</td>\n",
       "      <td>5.0000</td>\n",
       "      <td>5.0000</td>\n",
       "      <td>19.9468</td>\n",
       "      <td>232.7392</td>\n",
       "    </tr>\n",
       "    <tr>\n",
       "      <th>317880</th>\n",
       "      <td>1626</td>\n",
       "      <td>1626_Pb</td>\n",
       "      <td>0.761332</td>\n",
       "      <td>503700</td>\n",
       "      <td>1626.5037</td>\n",
       "      <td>NaN</td>\n",
       "      <td>NaN</td>\n",
       "      <td>8</td>\n",
       "      <td>Sb</td>\n",
       "      <td>51.7995</td>\n",
       "      <td>...</td>\n",
       "      <td>1.1461</td>\n",
       "      <td>1.1556</td>\n",
       "      <td>3.0453</td>\n",
       "      <td>3.0453</td>\n",
       "      <td>3.0453</td>\n",
       "      <td>5.0000</td>\n",
       "      <td>5.0000</td>\n",
       "      <td>5.0000</td>\n",
       "      <td>12.5449</td>\n",
       "      <td>232.2747</td>\n",
       "    </tr>\n",
       "    <tr>\n",
       "      <th>317881</th>\n",
       "      <td>1626</td>\n",
       "      <td>1626_Pb</td>\n",
       "      <td>0.761332</td>\n",
       "      <td>503700</td>\n",
       "      <td>1626.5037</td>\n",
       "      <td>NaN</td>\n",
       "      <td>NaN</td>\n",
       "      <td>9</td>\n",
       "      <td>Sb</td>\n",
       "      <td>59.9478</td>\n",
       "      <td>...</td>\n",
       "      <td>1.1713</td>\n",
       "      <td>1.1808</td>\n",
       "      <td>3.0453</td>\n",
       "      <td>3.0453</td>\n",
       "      <td>3.0453</td>\n",
       "      <td>5.0000</td>\n",
       "      <td>5.0000</td>\n",
       "      <td>5.0000</td>\n",
       "      <td>12.5572</td>\n",
       "      <td>231.5058</td>\n",
       "    </tr>\n",
       "    <tr>\n",
       "      <th>317882</th>\n",
       "      <td>1626</td>\n",
       "      <td>1626_Pb</td>\n",
       "      <td>0.761332</td>\n",
       "      <td>503700</td>\n",
       "      <td>1626.5037</td>\n",
       "      <td>NaN</td>\n",
       "      <td>NaN</td>\n",
       "      <td>10</td>\n",
       "      <td>Sb</td>\n",
       "      <td>69.9052</td>\n",
       "      <td>...</td>\n",
       "      <td>1.1960</td>\n",
       "      <td>1.2053</td>\n",
       "      <td>3.0453</td>\n",
       "      <td>3.0453</td>\n",
       "      <td>3.0453</td>\n",
       "      <td>5.0000</td>\n",
       "      <td>5.0000</td>\n",
       "      <td>5.0000</td>\n",
       "      <td>12.6360</td>\n",
       "      <td>229.8309</td>\n",
       "    </tr>\n",
       "  </tbody>\n",
       "</table>\n",
       "<p>317883 rows × 41 columns</p>\n",
       "</div>"
      ],
      "text/plain": [
       "          UG    ug_Sp       area   presc    Control Na sol MaxRES  \\\n",
       "0          1     1_Ec  42.601782       1     1.1000           NaN   \n",
       "1          1     1_Ec  42.601782       1     1.1000           NaN   \n",
       "2          1     1_Ec  42.601782       1     1.1000           NaN   \n",
       "3          1     1_Ec  42.601782       1     1.1000           NaN   \n",
       "4          1     1_Ec  42.601782       1     1.1000           NaN   \n",
       "...      ...      ...        ...     ...        ...           ...   \n",
       "317878  1626  1626_Pb   0.761332  503700  1626.5037           NaN   \n",
       "317879  1626  1626_Pb   0.761332  503700  1626.5037           NaN   \n",
       "317880  1626  1626_Pb   0.761332  503700  1626.5037           NaN   \n",
       "317881  1626  1626_Pb   0.761332  503700  1626.5037           NaN   \n",
       "317882  1626  1626_Pb   0.761332  503700  1626.5037           NaN   \n",
       "\n",
       "       Na sol MaxWood  period species           c  ...  biodiversity5  \\\n",
       "0                 NaN       1      Ec  20290.7145  ...        68.8904   \n",
       "1                 NaN       2      Ec  36915.3071  ...        68.6481   \n",
       "2                 NaN       3      Ec  31452.4225  ...        68.7367   \n",
       "3                 NaN       4      Ec  33321.7817  ...        67.4269   \n",
       "4                 NaN       5      Ec  31034.9927  ...        68.7400   \n",
       "...               ...     ...     ...         ...  ...            ...   \n",
       "317878            NaN       6      Sb     30.8645  ...         1.0996   \n",
       "317879            NaN       7      Sb     42.4194  ...         1.1208   \n",
       "317880            NaN       8      Sb     51.7995  ...         1.1461   \n",
       "317881            NaN       9      Sb     59.9478  ...         1.1713   \n",
       "317882            NaN      10      Sb     69.9052  ...         1.1960   \n",
       "\n",
       "        biodiversity10     rait0     rait5    rait10    rit0    rit5   rit10  \\\n",
       "0              73.4017  132.0655  166.1470  136.3257  0.9880  0.9963  0.9880   \n",
       "1              72.9810  140.5859  166.1470  140.5859  0.9912  0.9963  0.9883   \n",
       "2              73.1087  144.8461  166.1470  140.5859  0.9919  0.9967  0.9895   \n",
       "3              69.3376  161.8868  170.4071  161.8868  0.9959  0.9975  0.9959   \n",
       "4              73.1555  149.1062  166.1470  140.5859  0.9918  0.9966  0.9891   \n",
       "...                ...       ...       ...       ...     ...     ...     ...   \n",
       "317878          1.1132    3.0453    3.0453    3.0453  4.7000  4.8000  4.8000   \n",
       "317879          1.1306    3.0453    3.0453    3.0453  5.0000  5.0000  5.0000   \n",
       "317880          1.1556    3.0453    3.0453    3.0453  5.0000  5.0000  5.0000   \n",
       "317881          1.1808    3.0453    3.0453    3.0453  5.0000  5.0000  5.0000   \n",
       "317882          1.2053    3.0453    3.0453    3.0453  5.0000  5.0000  5.0000   \n",
       "\n",
       "           erosion   Cortiça  \n",
       "0       81862.7924    0.0000  \n",
       "1       78103.5629    0.0000  \n",
       "2       77765.0774    0.0000  \n",
       "3       70974.4382    0.0000  \n",
       "4       81249.0464    0.0000  \n",
       "...            ...       ...  \n",
       "317878    633.4482  151.3299  \n",
       "317879     19.9468  232.7392  \n",
       "317880     12.5449  232.2747  \n",
       "317881     12.5572  231.5058  \n",
       "317882     12.6360  229.8309  \n",
       "\n",
       "[317883 rows x 41 columns]"
      ]
     },
     "execution_count": 2,
     "metadata": {},
     "output_type": "execute_result"
    }
   ],
   "source": [
    "# Load prescription data from excel sheet\n",
    "file_path = r'0_Received_Data\\3-Harvesting_Schedule\\Presc_dataset21_missingstakeholders_sol.xlsx'\n",
    "\n",
    "# Read 1st sheet into df\n",
    "presc_raw = pd.read_excel(file_path, sheet_name=0)\n",
    "\n",
    "# Look at DataFrame shape and columns\n",
    "print('df shape:', presc_raw.shape)\n",
    "print('columns:', presc_raw.columns)\n",
    "presc_raw"
   ]
  },
  {
   "cell_type": "code",
   "execution_count": 141,
   "metadata": {},
   "outputs": [],
   "source": [
    "pd.DataFrame(presc_raw['UG'].unique(), columns=['UG']).to_csv('1_Preprocessed_Data/0_Lists_of_Stands_Needing_Road_Access/all_UG.csv', index=False)"
   ]
  },
  {
   "cell_type": "markdown",
   "metadata": {},
   "source": [
    "### 0. Subset & format the data\n",
    "Create a smaller df:\n",
    "- without the columns that are not to be used in this problem,\n",
    "- that only contains data for the timeframe under study, i.e. the first 5 time periods (=50 years)."
   ]
  },
  {
   "cell_type": "code",
   "execution_count": 142,
   "metadata": {},
   "outputs": [
    {
     "name": "stdout",
     "output_type": "stream",
     "text": [
      "shape after subsetting columns: (317883, 18)\n"
     ]
    },
    {
     "data": {
      "text/html": [
       "<div>\n",
       "<style scoped>\n",
       "    .dataframe tbody tr th:only-of-type {\n",
       "        vertical-align: middle;\n",
       "    }\n",
       "\n",
       "    .dataframe tbody tr th {\n",
       "        vertical-align: top;\n",
       "    }\n",
       "\n",
       "    .dataframe thead th {\n",
       "        text-align: right;\n",
       "    }\n",
       "</style>\n",
       "<table border=\"1\" class=\"dataframe\">\n",
       "  <thead>\n",
       "    <tr style=\"text-align: right;\">\n",
       "      <th></th>\n",
       "      <th>UG</th>\n",
       "      <th>ug_Sp</th>\n",
       "      <th>species</th>\n",
       "      <th>presc</th>\n",
       "      <th>area</th>\n",
       "      <th>Control</th>\n",
       "      <th>Na sol MaxRES</th>\n",
       "      <th>Na sol MaxWood</th>\n",
       "      <th>period</th>\n",
       "      <th>v (m3)</th>\n",
       "      <th>vthin (m3)</th>\n",
       "      <th>vharv (m3)</th>\n",
       "      <th>vthin (ton)</th>\n",
       "      <th>vharv (ton)</th>\n",
       "      <th>Vremovido(ton)</th>\n",
       "      <th>rait0</th>\n",
       "      <th>rait5</th>\n",
       "      <th>rait10</th>\n",
       "    </tr>\n",
       "  </thead>\n",
       "  <tbody>\n",
       "    <tr>\n",
       "      <th>0</th>\n",
       "      <td>1</td>\n",
       "      <td>1_Ec</td>\n",
       "      <td>Ec</td>\n",
       "      <td>1</td>\n",
       "      <td>42.601782</td>\n",
       "      <td>1.1</td>\n",
       "      <td>NaN</td>\n",
       "      <td>NaN</td>\n",
       "      <td>1</td>\n",
       "      <td>1222.6712</td>\n",
       "      <td>0.0</td>\n",
       "      <td>4443.3659</td>\n",
       "      <td>0.0</td>\n",
       "      <td>2999.271982</td>\n",
       "      <td>2999.271982</td>\n",
       "      <td>132.0655</td>\n",
       "      <td>166.147</td>\n",
       "      <td>136.3257</td>\n",
       "    </tr>\n",
       "  </tbody>\n",
       "</table>\n",
       "</div>"
      ],
      "text/plain": [
       "   UG ug_Sp species  presc       area  Control Na sol MaxRES Na sol MaxWood  \\\n",
       "0   1  1_Ec      Ec      1  42.601782      1.1           NaN            NaN   \n",
       "\n",
       "   period     v (m3)  vthin (m3)   vharv (m3)  vthin (ton)  vharv (ton)  \\\n",
       "0       1  1222.6712          0.0   4443.3659          0.0  2999.271982   \n",
       "\n",
       "   Vremovido(ton)     rait0    rait5    rait10  \n",
       "0     2999.271982  132.0655  166.147  136.3257  "
      ]
     },
     "execution_count": 142,
     "metadata": {},
     "output_type": "execute_result"
    }
   ],
   "source": [
    "# Create the subset of columns to be used\n",
    "presc = presc_raw[['UG', 'ug_Sp','species', 'presc', 'area', 'Control', 'Na sol MaxRES',\n",
    "       'Na sol MaxWood', 'period', 'v (m3)', 'vthin (m3) ',\n",
    "       'vharv (m3)', 'vthin (ton)', 'vharv (ton)', 'Vremovido(ton)', 'rait0', 'rait5', 'rait10']].copy()\n",
    "print('shape after subsetting columns:', presc.shape)\n",
    "presc.head(1)"
   ]
  },
  {
   "cell_type": "code",
   "execution_count": 143,
   "metadata": {},
   "outputs": [
    {
     "data": {
      "text/html": [
       "<div>\n",
       "<style scoped>\n",
       "    .dataframe tbody tr th:only-of-type {\n",
       "        vertical-align: middle;\n",
       "    }\n",
       "\n",
       "    .dataframe tbody tr th {\n",
       "        vertical-align: top;\n",
       "    }\n",
       "\n",
       "    .dataframe thead th {\n",
       "        text-align: right;\n",
       "    }\n",
       "</style>\n",
       "<table border=\"1\" class=\"dataframe\">\n",
       "  <thead>\n",
       "    <tr style=\"text-align: right;\">\n",
       "      <th></th>\n",
       "      <th>UG</th>\n",
       "      <th>ug_Sp</th>\n",
       "      <th>species</th>\n",
       "      <th>Presc</th>\n",
       "      <th>area</th>\n",
       "      <th>Control</th>\n",
       "      <th>NasolMaxRES</th>\n",
       "      <th>NasolMaxWood</th>\n",
       "      <th>period</th>\n",
       "      <th>v(m3)</th>\n",
       "      <th>vthin(m3)</th>\n",
       "      <th>vharv(m3)</th>\n",
       "      <th>vthin(ton)</th>\n",
       "      <th>vharv(ton)</th>\n",
       "      <th>Vremovido(ton)</th>\n",
       "      <th>rait0</th>\n",
       "      <th>rait5</th>\n",
       "      <th>rait10</th>\n",
       "    </tr>\n",
       "  </thead>\n",
       "  <tbody>\n",
       "    <tr>\n",
       "      <th>0</th>\n",
       "      <td>1</td>\n",
       "      <td>1_Ec</td>\n",
       "      <td>Ec</td>\n",
       "      <td>1</td>\n",
       "      <td>42.601782</td>\n",
       "      <td>1.1</td>\n",
       "      <td>NaN</td>\n",
       "      <td>NaN</td>\n",
       "      <td>1</td>\n",
       "      <td>1222.6712</td>\n",
       "      <td>0.0</td>\n",
       "      <td>4443.3659</td>\n",
       "      <td>0.0</td>\n",
       "      <td>2999.271982</td>\n",
       "      <td>2999.271982</td>\n",
       "      <td>132.0655</td>\n",
       "      <td>166.147</td>\n",
       "      <td>136.3257</td>\n",
       "    </tr>\n",
       "  </tbody>\n",
       "</table>\n",
       "</div>"
      ],
      "text/plain": [
       "  UG ug_Sp species Presc       area Control NasolMaxRES NasolMaxWood  period  \\\n",
       "0  1  1_Ec      Ec     1  42.601782     1.1         NaN          NaN       1   \n",
       "\n",
       "       v(m3)  vthin(m3)  vharv(m3)  vthin(ton)   vharv(ton)  Vremovido(ton)  \\\n",
       "0  1222.6712        0.0  4443.3659         0.0  2999.271982     2999.271982   \n",
       "\n",
       "      rait0    rait5    rait10  \n",
       "0  132.0655  166.147  136.3257  "
      ]
     },
     "execution_count": 143,
     "metadata": {},
     "output_type": "execute_result"
    }
   ],
   "source": [
    "# decide format, capitalize some columns, also strip the spaces from column names\n",
    "presc = presc.astype({'UG': str, \n",
    "    'ug_Sp': str, \n",
    "    'species': str,\n",
    "    'presc': str, \n",
    "    'Control': str, \n",
    "    'Na sol MaxRES': object, \n",
    "    'Na sol MaxWood': object, \n",
    "    'period': int,\n",
    "    'v (m3)': float, \n",
    "    'vthin (m3) ': float, \n",
    "    'vharv (m3)': float, \n",
    "    'vthin (ton)': float, \n",
    "    'vharv (ton)': float, \n",
    "    'Vremovido(ton)': float, \n",
    "    'rait0': float, \n",
    "    'rait5': float, \n",
    "    'rait10': float})\n",
    "\n",
    "# capitalize col name presc\n",
    "presc.rename(columns={'presc': 'Presc'}, inplace=True)\n",
    "\n",
    "# remove spaces from col names\n",
    "presc.columns = presc.columns.str.replace(' ', '')\n",
    "\n",
    "presc.head(1)"
   ]
  },
  {
   "cell_type": "code",
   "execution_count": 144,
   "metadata": {},
   "outputs": [
    {
     "name": "stdout",
     "output_type": "stream",
     "text": [
      "before subsetting: 317883 rows\n",
      "subset period 1-5: 169693 rows\n"
     ]
    }
   ],
   "source": [
    "# subset the first 5 time periods\n",
    "print('before subsetting:', len(presc), 'rows')\n",
    "presc['period'] = presc['period'].astype(int)\n",
    "presc = presc[presc['period']<=5]\n",
    "print('subset period 1-5:', len(presc), 'rows')"
   ]
  },
  {
   "cell_type": "code",
   "execution_count": 145,
   "metadata": {},
   "outputs": [
    {
     "data": {
      "text/plain": [
       "1406"
      ]
     },
     "execution_count": 145,
     "metadata": {},
     "output_type": "execute_result"
    }
   ],
   "source": [
    "#count number of different stands\n",
    "presc['UG'].nunique()"
   ]
  },
  {
   "cell_type": "markdown",
   "metadata": {},
   "source": [
    "### 1. 🔍 Check data consistency/plausibility"
   ]
  },
  {
   "cell_type": "code",
   "execution_count": 146,
   "metadata": {},
   "outputs": [
    {
     "data": {
      "text/plain": [
       "0"
      ]
     },
     "execution_count": 146,
     "metadata": {},
     "output_type": "execute_result"
    }
   ],
   "source": [
    "# check for duplicates\n",
    "presc.duplicated(keep=False).sum()"
   ]
  },
  {
   "cell_type": "code",
   "execution_count": 147,
   "metadata": {},
   "outputs": [
    {
     "name": "stdout",
     "output_type": "stream",
     "text": [
      "Columns with NaN values: ['NasolMaxRES', 'NasolMaxWood', 'vthin(m3)']\n"
     ]
    }
   ],
   "source": [
    "# Get a list of columns with NaN values\n",
    "columns_with_nan = presc.columns[presc.isna().any()].tolist()\n",
    "print(\"Columns with NaN values:\", columns_with_nan)"
   ]
  },
  {
   "cell_type": "code",
   "execution_count": 148,
   "metadata": {},
   "outputs": [
    {
     "name": "stdout",
     "output_type": "stream",
     "text": [
      "NasolMaxRES\n",
      "Yes    8212\n",
      "Name: count, dtype: int64\n",
      "NasolMaxWood\n",
      "Yes    7670\n",
      "Name: count, dtype: int64\n",
      "vthin(m3)\n",
      "0.0000      125557\n",
      "192.0672        44\n",
      "231.2539        44\n",
      "363.6956        44\n",
      "687.1360        44\n",
      "             ...  \n",
      "170.0766         1\n",
      "717.6061         1\n",
      "255.6229         1\n",
      "318.6551         1\n",
      "264.3240         1\n",
      "Name: count, Length: 9617, dtype: int64\n"
     ]
    }
   ],
   "source": [
    "# look at the other values in the columns\n",
    "print(presc['NasolMaxRES'].value_counts())\n",
    "print(presc['NasolMaxWood'].value_counts())\n",
    "print(presc['vthin(m3)'].value_counts())"
   ]
  },
  {
   "cell_type": "markdown",
   "metadata": {},
   "source": [
    "Check if columns\n",
    "\n",
    "- `Control` == `UG`.`Presc`\n",
    "- `ug_Sp` == `UG`_`species`\n",
    "- (`vthin(ton)` = 0) IFF (`vthin(m3)` = 0)\n",
    "- (`vharv(ton)` = 0) IFF (`vharv(m3)` = 0)\n",
    "- `vthin(ton)`+`vharv(ton)` == `Vremovido(ton)`"
   ]
  },
  {
   "cell_type": "code",
   "execution_count": 149,
   "metadata": {},
   "outputs": [
    {
     "name": "stdout",
     "output_type": "stream",
     "text": [
      "169693 `rows\n",
      "⚠ column 'Control' has 45902 inconsistencies\n",
      "⚠ column 'ug_Sp' has 108525 inconsistencies\n",
      "⚠ Thinning:\n",
      "There are 5565 rows where 'vthin(ton)' and 'vthin(m3)' are inconsistent.\n",
      "✓ Harvest:\n",
      "There are 0 rows where 'vharv(ton)' and 'vharv(m3)' are inconsistent.\n",
      "✓ Removed wood:\n",
      "There are 0 rows where the sum of 'vthin (ton)' and 'vharv (ton)' does not equal 'Vremovido(ton)'.\n"
     ]
    }
   ],
   "source": [
    "## some data plausibility checks\n",
    "\n",
    "print(len(presc), '`rows')\n",
    "# Check if concatenating 'UG' with a dot ('.') and 'Presc' gives the 'Control' column\n",
    "check_control_column = (presc['UG'] + '.' + presc['Presc']) == presc['Control']\n",
    "\n",
    "if check_control_column.all(): \n",
    "    print(\"\\u2713 column 'Control' is consistent. Can be dropped.\")\n",
    "else: print(\"\\u26A0 column 'Control' has\", len(presc) - check_control_column.sum(), 'inconsistencies')\n",
    "\n",
    "# Check if concatenating 'UG' with species gives the 'ug_sp' column\n",
    "check_ugsp_column = (presc['UG'] + '_' + presc['species']) == presc['ug_Sp']\n",
    "\n",
    "if check_ugsp_column.all(): \n",
    "    print(\"\\u2713 column 'ug_Sp' is consistent. Can be dropped.\")\n",
    "else: print(\"\\u26A0 column 'ug_Sp' has\", len(presc) - check_ugsp_column.sum(), 'inconsistencies')\n",
    "\n",
    "# Check if vthin (ton) and vthin (m3) are either both zero or both nonzero\n",
    "bmask_thinning = ((presc['vthin(ton)'] == 0) & (presc['vthin(m3)'] == 0)) | ((presc['vthin(ton)'] != 0) & (presc['vthin(m3)'] != 0))\n",
    "if bmask_thinning.all():\n",
    "    print(\"\\u2713 Thinning\")\n",
    "else: \n",
    "    print(\"\\u26A0 Thinning:\")\n",
    "print(f\"There are {len(presc) - bmask_thinning.sum()} rows where 'vthin(ton)' and 'vthin(m3)' are inconsistent.\")\n",
    "\n",
    "# Check if vharv (ton) and vharv (m3) are either both zero or both nonzero\n",
    "bmask_harvest = ((presc['vharv(ton)'] == 0) & (presc['vharv(m3)'] == 0)) | ((presc['vharv(ton)'] != 0) & (presc['vharv(m3)'] != 0))\n",
    "if bmask_harvest.all():\n",
    "    print(\"\\u2713 Harvest:\")\n",
    "else:\n",
    "    print(f\"\\u26A0 Harvest:\")\n",
    "print(f\"There are {len(presc) - bmask_harvest.sum()} rows where 'vharv(ton)' and 'vharv(m3)' are inconsistent.\")\n",
    "\n",
    "# check if the amount of removed timber equals the sum of harvested and thinned timber\n",
    "bmask_removido = presc['Vremovido(ton)'] == (presc['vthin(ton)'] + presc['vharv(ton)'])\n",
    "if bmask_removido.all():\n",
    "    print(\"\\u2713 Removed wood:\")\n",
    "else:\n",
    "    print(f\"\\u26A0 Harvest:\")\n",
    "print(f\"There are {len(presc) - bmask_removido.sum()} rows where the sum of 'vthin (ton)' and 'vharv (ton)' does not equal 'Vremovido(ton)'.\")"
   ]
  },
  {
   "cell_type": "markdown",
   "metadata": {},
   "source": [
    "⚠️ We need to address the inconsistencies between the columns\n",
    "- `vthin(ton)` and `vthin(m3)`,\n",
    "- `ug_Sp` and `UG`_`species`,\n",
    "- `Control` and `UG`.`Presc`\n",
    "\n",
    "### 2. Address data inconsistencies"
   ]
  },
  {
   "cell_type": "markdown",
   "metadata": {},
   "source": [
    "#### a. Resolve inconsistencies between `vthin(ton)` and `vthin(m3)` "
   ]
  },
  {
   "cell_type": "code",
   "execution_count": 150,
   "metadata": {},
   "outputs": [
    {
     "name": "stdout",
     "output_type": "stream",
     "text": [
      "# of rows with inconsistent thinning values: 5565\n"
     ]
    },
    {
     "data": {
      "text/html": [
       "<div>\n",
       "<style scoped>\n",
       "    .dataframe tbody tr th:only-of-type {\n",
       "        vertical-align: middle;\n",
       "    }\n",
       "\n",
       "    .dataframe tbody tr th {\n",
       "        vertical-align: top;\n",
       "    }\n",
       "\n",
       "    .dataframe thead th {\n",
       "        text-align: right;\n",
       "    }\n",
       "</style>\n",
       "<table border=\"1\" class=\"dataframe\">\n",
       "  <thead>\n",
       "    <tr style=\"text-align: right;\">\n",
       "      <th></th>\n",
       "      <th>UG</th>\n",
       "      <th>ug_Sp</th>\n",
       "      <th>species</th>\n",
       "      <th>Presc</th>\n",
       "      <th>area</th>\n",
       "      <th>Control</th>\n",
       "      <th>NasolMaxRES</th>\n",
       "      <th>NasolMaxWood</th>\n",
       "      <th>period</th>\n",
       "      <th>v(m3)</th>\n",
       "      <th>vthin(m3)</th>\n",
       "      <th>vharv(m3)</th>\n",
       "      <th>vthin(ton)</th>\n",
       "      <th>vharv(ton)</th>\n",
       "      <th>Vremovido(ton)</th>\n",
       "      <th>rait0</th>\n",
       "      <th>rait5</th>\n",
       "      <th>rait10</th>\n",
       "    </tr>\n",
       "  </thead>\n",
       "  <tbody>\n",
       "    <tr>\n",
       "      <th>492</th>\n",
       "      <td>1</td>\n",
       "      <td>1_Ec</td>\n",
       "      <td>Ec</td>\n",
       "      <td>9001</td>\n",
       "      <td>42.6</td>\n",
       "      <td>1.9001</td>\n",
       "      <td>NaN</td>\n",
       "      <td>NaN</td>\n",
       "      <td>1</td>\n",
       "      <td>7263.30</td>\n",
       "      <td>NaN</td>\n",
       "      <td>0.0</td>\n",
       "      <td>0.0</td>\n",
       "      <td>0.0</td>\n",
       "      <td>0.0</td>\n",
       "      <td>140.58</td>\n",
       "      <td>166.14</td>\n",
       "      <td>136.32</td>\n",
       "    </tr>\n",
       "    <tr>\n",
       "      <th>493</th>\n",
       "      <td>1</td>\n",
       "      <td>1_Ec</td>\n",
       "      <td>Ec</td>\n",
       "      <td>9001</td>\n",
       "      <td>42.6</td>\n",
       "      <td>1.9001</td>\n",
       "      <td>NaN</td>\n",
       "      <td>NaN</td>\n",
       "      <td>2</td>\n",
       "      <td>12975.96</td>\n",
       "      <td>NaN</td>\n",
       "      <td>0.0</td>\n",
       "      <td>0.0</td>\n",
       "      <td>0.0</td>\n",
       "      <td>0.0</td>\n",
       "      <td>51.12</td>\n",
       "      <td>170.40</td>\n",
       "      <td>153.36</td>\n",
       "    </tr>\n",
       "    <tr>\n",
       "      <th>494</th>\n",
       "      <td>1</td>\n",
       "      <td>1_Ec</td>\n",
       "      <td>Ec</td>\n",
       "      <td>9001</td>\n",
       "      <td>42.6</td>\n",
       "      <td>1.9001</td>\n",
       "      <td>NaN</td>\n",
       "      <td>NaN</td>\n",
       "      <td>3</td>\n",
       "      <td>16916.46</td>\n",
       "      <td>NaN</td>\n",
       "      <td>0.0</td>\n",
       "      <td>0.0</td>\n",
       "      <td>0.0</td>\n",
       "      <td>0.0</td>\n",
       "      <td>42.60</td>\n",
       "      <td>178.92</td>\n",
       "      <td>157.62</td>\n",
       "    </tr>\n",
       "  </tbody>\n",
       "</table>\n",
       "</div>"
      ],
      "text/plain": [
       "    UG ug_Sp species Presc  area Control NasolMaxRES NasolMaxWood  period  \\\n",
       "492  1  1_Ec      Ec  9001  42.6  1.9001         NaN          NaN       1   \n",
       "493  1  1_Ec      Ec  9001  42.6  1.9001         NaN          NaN       2   \n",
       "494  1  1_Ec      Ec  9001  42.6  1.9001         NaN          NaN       3   \n",
       "\n",
       "        v(m3)  vthin(m3)  vharv(m3)  vthin(ton)  vharv(ton)  Vremovido(ton)  \\\n",
       "492   7263.30        NaN        0.0         0.0         0.0             0.0   \n",
       "493  12975.96        NaN        0.0         0.0         0.0             0.0   \n",
       "494  16916.46        NaN        0.0         0.0         0.0             0.0   \n",
       "\n",
       "      rait0   rait5  rait10  \n",
       "492  140.58  166.14  136.32  \n",
       "493   51.12  170.40  153.36  \n",
       "494   42.60  178.92  157.62  "
      ]
     },
     "execution_count": 150,
     "metadata": {},
     "output_type": "execute_result"
    }
   ],
   "source": [
    "# show some rows where thinning values are inconsistent:\n",
    "print('# of rows with inconsistent thinning values:', len(presc[~bmask_thinning]))\n",
    "presc[~bmask_thinning].head(3)"
   ]
  },
  {
   "cell_type": "markdown",
   "metadata": {},
   "source": [
    "Problem seems to be caused by NaN values in `vthin(m3)`. Replace them by 0 and check if the problem persists:"
   ]
  },
  {
   "cell_type": "code",
   "execution_count": 151,
   "metadata": {},
   "outputs": [
    {
     "name": "stderr",
     "output_type": "stream",
     "text": [
      "C:\\Users\\johan\\AppData\\Local\\Temp\\ipykernel_16600\\2889342294.py:2: FutureWarning: A value is trying to be set on a copy of a DataFrame or Series through chained assignment using an inplace method.\n",
      "The behavior will change in pandas 3.0. This inplace method will never work because the intermediate object on which we are setting values always behaves as a copy.\n",
      "\n",
      "For example, when doing 'df[col].method(value, inplace=True)', try using 'df.method({col: value}, inplace=True)' or df[col] = df[col].method(value) instead, to perform the operation inplace on the original object.\n",
      "\n",
      "\n",
      "  presc['vthin(m3)'].fillna(0, inplace=True)\n"
     ]
    },
    {
     "data": {
      "text/html": [
       "<div>\n",
       "<style scoped>\n",
       "    .dataframe tbody tr th:only-of-type {\n",
       "        vertical-align: middle;\n",
       "    }\n",
       "\n",
       "    .dataframe tbody tr th {\n",
       "        vertical-align: top;\n",
       "    }\n",
       "\n",
       "    .dataframe thead th {\n",
       "        text-align: right;\n",
       "    }\n",
       "</style>\n",
       "<table border=\"1\" class=\"dataframe\">\n",
       "  <thead>\n",
       "    <tr style=\"text-align: right;\">\n",
       "      <th></th>\n",
       "      <th>UG</th>\n",
       "      <th>ug_Sp</th>\n",
       "      <th>species</th>\n",
       "      <th>Presc</th>\n",
       "      <th>area</th>\n",
       "      <th>Control</th>\n",
       "      <th>NasolMaxRES</th>\n",
       "      <th>NasolMaxWood</th>\n",
       "      <th>period</th>\n",
       "      <th>v(m3)</th>\n",
       "      <th>vthin(m3)</th>\n",
       "      <th>vharv(m3)</th>\n",
       "      <th>vthin(ton)</th>\n",
       "      <th>vharv(ton)</th>\n",
       "      <th>Vremovido(ton)</th>\n",
       "      <th>rait0</th>\n",
       "      <th>rait5</th>\n",
       "      <th>rait10</th>\n",
       "    </tr>\n",
       "  </thead>\n",
       "  <tbody>\n",
       "    <tr>\n",
       "      <th>492</th>\n",
       "      <td>1</td>\n",
       "      <td>1_Ec</td>\n",
       "      <td>Ec</td>\n",
       "      <td>9001</td>\n",
       "      <td>42.6</td>\n",
       "      <td>1.9001</td>\n",
       "      <td>NaN</td>\n",
       "      <td>NaN</td>\n",
       "      <td>1</td>\n",
       "      <td>7263.30</td>\n",
       "      <td>0.0</td>\n",
       "      <td>0.0</td>\n",
       "      <td>0.0</td>\n",
       "      <td>0.0</td>\n",
       "      <td>0.0</td>\n",
       "      <td>140.58</td>\n",
       "      <td>166.14</td>\n",
       "      <td>136.32</td>\n",
       "    </tr>\n",
       "    <tr>\n",
       "      <th>493</th>\n",
       "      <td>1</td>\n",
       "      <td>1_Ec</td>\n",
       "      <td>Ec</td>\n",
       "      <td>9001</td>\n",
       "      <td>42.6</td>\n",
       "      <td>1.9001</td>\n",
       "      <td>NaN</td>\n",
       "      <td>NaN</td>\n",
       "      <td>2</td>\n",
       "      <td>12975.96</td>\n",
       "      <td>0.0</td>\n",
       "      <td>0.0</td>\n",
       "      <td>0.0</td>\n",
       "      <td>0.0</td>\n",
       "      <td>0.0</td>\n",
       "      <td>51.12</td>\n",
       "      <td>170.40</td>\n",
       "      <td>153.36</td>\n",
       "    </tr>\n",
       "  </tbody>\n",
       "</table>\n",
       "</div>"
      ],
      "text/plain": [
       "    UG ug_Sp species Presc  area Control NasolMaxRES NasolMaxWood  period  \\\n",
       "492  1  1_Ec      Ec  9001  42.6  1.9001         NaN          NaN       1   \n",
       "493  1  1_Ec      Ec  9001  42.6  1.9001         NaN          NaN       2   \n",
       "\n",
       "        v(m3)  vthin(m3)  vharv(m3)  vthin(ton)  vharv(ton)  Vremovido(ton)  \\\n",
       "492   7263.30        0.0        0.0         0.0         0.0             0.0   \n",
       "493  12975.96        0.0        0.0         0.0         0.0             0.0   \n",
       "\n",
       "      rait0   rait5  rait10  \n",
       "492  140.58  166.14  136.32  \n",
       "493   51.12  170.40  153.36  "
      ]
     },
     "execution_count": 151,
     "metadata": {},
     "output_type": "execute_result"
    }
   ],
   "source": [
    "# replace NaN by 0\n",
    "presc['vthin(m3)'].fillna(0, inplace=True)\n",
    "presc[~bmask_thinning].head(2)"
   ]
  },
  {
   "cell_type": "code",
   "execution_count": 152,
   "metadata": {},
   "outputs": [
    {
     "name": "stdout",
     "output_type": "stream",
     "text": [
      "✓ Thinning:\n",
      "There are 0 rows where 'vthin(ton)' and 'vthin(m3)' are inconsistent.\n"
     ]
    }
   ],
   "source": [
    "# Validate: vthin(ton) and vthin(m3) are either both zero or both nonzero\n",
    "bmask_thinning = ((presc['vthin(ton)'] == 0) & (presc['vthin(m3)'] == 0)) | ((presc['vthin(ton)'] != 0) & (presc['vthin(m3)'] != 0))\n",
    "if bmask_thinning.all():\n",
    "    print(\"\\u2713 Thinning:\")\n",
    "else: \n",
    "    print(\"\\u26A0 Thinning:\")\n",
    "print(f\"There are {len(presc) - bmask_thinning.sum()} rows where 'vthin(ton)' and 'vthin(m3)' are inconsistent.\")"
   ]
  },
  {
   "cell_type": "markdown",
   "metadata": {},
   "source": [
    "#### b. Resolve inconsistencies between `ug_Sp` and `Ug`_`species` "
   ]
  },
  {
   "cell_type": "code",
   "execution_count": 153,
   "metadata": {},
   "outputs": [
    {
     "name": "stdout",
     "output_type": "stream",
     "text": [
      "108525 rows where ug_Sp does not match UG _ species\n"
     ]
    },
    {
     "data": {
      "text/html": [
       "<div>\n",
       "<style scoped>\n",
       "    .dataframe tbody tr th:only-of-type {\n",
       "        vertical-align: middle;\n",
       "    }\n",
       "\n",
       "    .dataframe tbody tr th {\n",
       "        vertical-align: top;\n",
       "    }\n",
       "\n",
       "    .dataframe thead th {\n",
       "        text-align: right;\n",
       "    }\n",
       "</style>\n",
       "<table border=\"1\" class=\"dataframe\">\n",
       "  <thead>\n",
       "    <tr style=\"text-align: right;\">\n",
       "      <th></th>\n",
       "      <th>UG</th>\n",
       "      <th>ug_Sp</th>\n",
       "      <th>species</th>\n",
       "      <th>Presc</th>\n",
       "      <th>area</th>\n",
       "      <th>Control</th>\n",
       "      <th>NasolMaxRES</th>\n",
       "      <th>NasolMaxWood</th>\n",
       "      <th>period</th>\n",
       "      <th>v(m3)</th>\n",
       "      <th>vthin(m3)</th>\n",
       "      <th>vharv(m3)</th>\n",
       "      <th>vthin(ton)</th>\n",
       "      <th>vharv(ton)</th>\n",
       "      <th>Vremovido(ton)</th>\n",
       "      <th>rait0</th>\n",
       "      <th>rait5</th>\n",
       "      <th>rait10</th>\n",
       "    </tr>\n",
       "  </thead>\n",
       "  <tbody>\n",
       "    <tr>\n",
       "      <th>30</th>\n",
       "      <td>1</td>\n",
       "      <td>1_Ec</td>\n",
       "      <td>Ct</td>\n",
       "      <td>1312</td>\n",
       "      <td>42.601782</td>\n",
       "      <td>1.1312</td>\n",
       "      <td>NaN</td>\n",
       "      <td>NaN</td>\n",
       "      <td>1</td>\n",
       "      <td>0.0</td>\n",
       "      <td>0.0</td>\n",
       "      <td>0.0</td>\n",
       "      <td>0.0</td>\n",
       "      <td>0.0</td>\n",
       "      <td>0.0</td>\n",
       "      <td>40.2712</td>\n",
       "      <td>51.1221</td>\n",
       "      <td>63.9027</td>\n",
       "    </tr>\n",
       "  </tbody>\n",
       "</table>\n",
       "</div>"
      ],
      "text/plain": [
       "   UG ug_Sp species Presc       area Control NasolMaxRES NasolMaxWood  period  \\\n",
       "30  1  1_Ec      Ct  1312  42.601782  1.1312         NaN          NaN       1   \n",
       "\n",
       "    v(m3)  vthin(m3)  vharv(m3)  vthin(ton)  vharv(ton)  Vremovido(ton)  \\\n",
       "30    0.0        0.0        0.0         0.0         0.0             0.0   \n",
       "\n",
       "      rait0    rait5   rait10  \n",
       "30  40.2712  51.1221  63.9027  "
      ]
     },
     "execution_count": 153,
     "metadata": {},
     "output_type": "execute_result"
    }
   ],
   "source": [
    "# look at rows where ug_Sp is not consistent with species or UG\n",
    "print(len(presc[~check_ugsp_column]), 'rows where ug_Sp does not match UG _ species')\n",
    "presc[~check_ugsp_column].head(1)"
   ]
  },
  {
   "cell_type": "markdown",
   "metadata": {},
   "source": [
    "`ug_Sp` seems to be only inconsistent with `species` column, not `UG`.\n",
    "Validation that `ug_Sp` is consistent with `UG`:"
   ]
  },
  {
   "cell_type": "code",
   "execution_count": 154,
   "metadata": {},
   "outputs": [
    {
     "data": {
      "text/plain": [
       "True"
      ]
     },
     "execution_count": 154,
     "metadata": {},
     "output_type": "execute_result"
    }
   ],
   "source": [
    "# check if ug in UG column and ug in ug_sp column are the same\n",
    "import re\n",
    "# create column ug coming from ug_sp for comparison\n",
    "presc['UG_from_ug_SP'] = presc['ug_Sp'].apply(lambda x: re.search(r'(\\d+)_', x).group(1))\n",
    "\n",
    "# check if ug in UG column and ug_sp are the same\n",
    "(presc['UG'] == presc['UG_from_ug_SP']).all()"
   ]
  },
  {
   "cell_type": "markdown",
   "metadata": {},
   "source": [
    "UG values are consistent, so the inconsistencies are only between `species` and `ug_Sp`."
   ]
  },
  {
   "cell_type": "code",
   "execution_count": 155,
   "metadata": {},
   "outputs": [
    {
     "data": {
      "text/html": [
       "<div>\n",
       "<style scoped>\n",
       "    .dataframe tbody tr th:only-of-type {\n",
       "        vertical-align: middle;\n",
       "    }\n",
       "\n",
       "    .dataframe tbody tr th {\n",
       "        vertical-align: top;\n",
       "    }\n",
       "\n",
       "    .dataframe thead th {\n",
       "        text-align: right;\n",
       "    }\n",
       "</style>\n",
       "<table border=\"1\" class=\"dataframe\">\n",
       "  <thead>\n",
       "    <tr style=\"text-align: right;\">\n",
       "      <th></th>\n",
       "      <th>UG</th>\n",
       "      <th>ug_Sp</th>\n",
       "      <th>species</th>\n",
       "      <th>Presc</th>\n",
       "      <th>area</th>\n",
       "      <th>Control</th>\n",
       "      <th>NasolMaxRES</th>\n",
       "      <th>NasolMaxWood</th>\n",
       "      <th>period</th>\n",
       "      <th>v(m3)</th>\n",
       "      <th>vthin(m3)</th>\n",
       "      <th>vharv(m3)</th>\n",
       "      <th>vthin(ton)</th>\n",
       "      <th>vharv(ton)</th>\n",
       "      <th>Vremovido(ton)</th>\n",
       "      <th>rait0</th>\n",
       "      <th>rait5</th>\n",
       "      <th>rait10</th>\n",
       "      <th>UG_from_ug_SP</th>\n",
       "    </tr>\n",
       "  </thead>\n",
       "  <tbody>\n",
       "    <tr>\n",
       "      <th>30</th>\n",
       "      <td>1</td>\n",
       "      <td>1_Ec</td>\n",
       "      <td>Ct</td>\n",
       "      <td>1312</td>\n",
       "      <td>42.601782</td>\n",
       "      <td>1.1312</td>\n",
       "      <td>NaN</td>\n",
       "      <td>NaN</td>\n",
       "      <td>1</td>\n",
       "      <td>0.0000</td>\n",
       "      <td>0.0000</td>\n",
       "      <td>0.0000</td>\n",
       "      <td>0.000000</td>\n",
       "      <td>0.000000</td>\n",
       "      <td>0.000000</td>\n",
       "      <td>40.2712</td>\n",
       "      <td>51.1221</td>\n",
       "      <td>63.9027</td>\n",
       "      <td>1</td>\n",
       "    </tr>\n",
       "    <tr>\n",
       "      <th>31</th>\n",
       "      <td>1</td>\n",
       "      <td>1_Ec</td>\n",
       "      <td>Ec</td>\n",
       "      <td>1312</td>\n",
       "      <td>42.601782</td>\n",
       "      <td>1.1312</td>\n",
       "      <td>NaN</td>\n",
       "      <td>NaN</td>\n",
       "      <td>1</td>\n",
       "      <td>0.0000</td>\n",
       "      <td>0.0000</td>\n",
       "      <td>4443.3659</td>\n",
       "      <td>0.000000</td>\n",
       "      <td>2999.271982</td>\n",
       "      <td>2999.271982</td>\n",
       "      <td>57.0695</td>\n",
       "      <td>110.7646</td>\n",
       "      <td>115.0248</td>\n",
       "      <td>1</td>\n",
       "    </tr>\n",
       "    <tr>\n",
       "      <th>32</th>\n",
       "      <td>1</td>\n",
       "      <td>1_Ec</td>\n",
       "      <td>Ct</td>\n",
       "      <td>1312</td>\n",
       "      <td>42.601782</td>\n",
       "      <td>1.1312</td>\n",
       "      <td>NaN</td>\n",
       "      <td>NaN</td>\n",
       "      <td>2</td>\n",
       "      <td>941.2790</td>\n",
       "      <td>0.0000</td>\n",
       "      <td>0.0000</td>\n",
       "      <td>0.000000</td>\n",
       "      <td>0.000000</td>\n",
       "      <td>0.000000</td>\n",
       "      <td>146.2009</td>\n",
       "      <td>170.4071</td>\n",
       "      <td>213.0089</td>\n",
       "      <td>1</td>\n",
       "    </tr>\n",
       "    <tr>\n",
       "      <th>33</th>\n",
       "      <td>1</td>\n",
       "      <td>1_Ec</td>\n",
       "      <td>Ct</td>\n",
       "      <td>1312</td>\n",
       "      <td>42.601782</td>\n",
       "      <td>1.1312</td>\n",
       "      <td>NaN</td>\n",
       "      <td>NaN</td>\n",
       "      <td>3</td>\n",
       "      <td>4879.1639</td>\n",
       "      <td>65.1807</td>\n",
       "      <td>0.0000</td>\n",
       "      <td>50.840946</td>\n",
       "      <td>0.000000</td>\n",
       "      <td>50.840946</td>\n",
       "      <td>151.4155</td>\n",
       "      <td>170.4071</td>\n",
       "      <td>213.0089</td>\n",
       "      <td>1</td>\n",
       "    </tr>\n",
       "    <tr>\n",
       "      <th>34</th>\n",
       "      <td>1</td>\n",
       "      <td>1_Ec</td>\n",
       "      <td>Ct</td>\n",
       "      <td>1312</td>\n",
       "      <td>42.601782</td>\n",
       "      <td>1.1312</td>\n",
       "      <td>NaN</td>\n",
       "      <td>NaN</td>\n",
       "      <td>4</td>\n",
       "      <td>6782.4034</td>\n",
       "      <td>2023.5847</td>\n",
       "      <td>0.0000</td>\n",
       "      <td>1578.396066</td>\n",
       "      <td>0.000000</td>\n",
       "      <td>1578.396066</td>\n",
       "      <td>160.0579</td>\n",
       "      <td>170.4071</td>\n",
       "      <td>213.0089</td>\n",
       "      <td>1</td>\n",
       "    </tr>\n",
       "  </tbody>\n",
       "</table>\n",
       "</div>"
      ],
      "text/plain": [
       "   UG ug_Sp species Presc       area Control NasolMaxRES NasolMaxWood  period  \\\n",
       "30  1  1_Ec      Ct  1312  42.601782  1.1312         NaN          NaN       1   \n",
       "31  1  1_Ec      Ec  1312  42.601782  1.1312         NaN          NaN       1   \n",
       "32  1  1_Ec      Ct  1312  42.601782  1.1312         NaN          NaN       2   \n",
       "33  1  1_Ec      Ct  1312  42.601782  1.1312         NaN          NaN       3   \n",
       "34  1  1_Ec      Ct  1312  42.601782  1.1312         NaN          NaN       4   \n",
       "\n",
       "        v(m3)  vthin(m3)  vharv(m3)   vthin(ton)   vharv(ton)  Vremovido(ton)  \\\n",
       "30     0.0000     0.0000     0.0000     0.000000     0.000000        0.000000   \n",
       "31     0.0000     0.0000  4443.3659     0.000000  2999.271982     2999.271982   \n",
       "32   941.2790     0.0000     0.0000     0.000000     0.000000        0.000000   \n",
       "33  4879.1639    65.1807     0.0000    50.840946     0.000000       50.840946   \n",
       "34  6782.4034  2023.5847     0.0000  1578.396066     0.000000     1578.396066   \n",
       "\n",
       "       rait0     rait5    rait10 UG_from_ug_SP  \n",
       "30   40.2712   51.1221   63.9027             1  \n",
       "31   57.0695  110.7646  115.0248             1  \n",
       "32  146.2009  170.4071  213.0089             1  \n",
       "33  151.4155  170.4071  213.0089             1  \n",
       "34  160.0579  170.4071  213.0089             1  "
      ]
     },
     "execution_count": 155,
     "metadata": {},
     "output_type": "execute_result"
    }
   ],
   "source": [
    "# look at more data for one Prescription value from the rows where ug_Sp is not consistent with species\n",
    "presc[presc['Presc']=='1312'].head(5)"
   ]
  },
  {
   "cell_type": "markdown",
   "metadata": {},
   "source": [
    "In this example, the `species` changes from Ec to Ct. during period 1. While `species` column indicates the species change, the column `ug_Sp` does not contain that information.\n",
    "\n",
    "--> drop column `ug_Sp`."
   ]
  },
  {
   "cell_type": "markdown",
   "metadata": {},
   "source": [
    "#### c. Resolve inconsistencies between `Control` and `UG`.`Presc`"
   ]
  },
  {
   "cell_type": "code",
   "execution_count": 156,
   "metadata": {},
   "outputs": [
    {
     "name": "stdout",
     "output_type": "stream",
     "text": [
      "45902 rows where control does not match UG Presc\n"
     ]
    },
    {
     "data": {
      "text/html": [
       "<div>\n",
       "<style scoped>\n",
       "    .dataframe tbody tr th:only-of-type {\n",
       "        vertical-align: middle;\n",
       "    }\n",
       "\n",
       "    .dataframe tbody tr th {\n",
       "        vertical-align: top;\n",
       "    }\n",
       "\n",
       "    .dataframe thead th {\n",
       "        text-align: right;\n",
       "    }\n",
       "</style>\n",
       "<table border=\"1\" class=\"dataframe\">\n",
       "  <thead>\n",
       "    <tr style=\"text-align: right;\">\n",
       "      <th></th>\n",
       "      <th>UG</th>\n",
       "      <th>ug_Sp</th>\n",
       "      <th>species</th>\n",
       "      <th>Presc</th>\n",
       "      <th>area</th>\n",
       "      <th>Control</th>\n",
       "      <th>NasolMaxRES</th>\n",
       "      <th>NasolMaxWood</th>\n",
       "      <th>period</th>\n",
       "      <th>v(m3)</th>\n",
       "      <th>vthin(m3)</th>\n",
       "      <th>vharv(m3)</th>\n",
       "      <th>vthin(ton)</th>\n",
       "      <th>vharv(ton)</th>\n",
       "      <th>Vremovido(ton)</th>\n",
       "      <th>rait0</th>\n",
       "      <th>rait5</th>\n",
       "      <th>rait10</th>\n",
       "      <th>UG_from_ug_SP</th>\n",
       "    </tr>\n",
       "  </thead>\n",
       "  <tbody>\n",
       "    <tr>\n",
       "      <th>74</th>\n",
       "      <td>1</td>\n",
       "      <td>1_Ec</td>\n",
       "      <td>Ec</td>\n",
       "      <td>1500</td>\n",
       "      <td>42.601782</td>\n",
       "      <td>1.15</td>\n",
       "      <td>NaN</td>\n",
       "      <td>NaN</td>\n",
       "      <td>1</td>\n",
       "      <td>0.0</td>\n",
       "      <td>0.0</td>\n",
       "      <td>4443.3659</td>\n",
       "      <td>0.0</td>\n",
       "      <td>2999.271982</td>\n",
       "      <td>2999.271982</td>\n",
       "      <td>110.7646</td>\n",
       "      <td>115.0248</td>\n",
       "      <td>85.2036</td>\n",
       "      <td>1</td>\n",
       "    </tr>\n",
       "  </tbody>\n",
       "</table>\n",
       "</div>"
      ],
      "text/plain": [
       "   UG ug_Sp species Presc       area Control NasolMaxRES NasolMaxWood  period  \\\n",
       "74  1  1_Ec      Ec  1500  42.601782    1.15         NaN          NaN       1   \n",
       "\n",
       "    v(m3)  vthin(m3)  vharv(m3)  vthin(ton)   vharv(ton)  Vremovido(ton)  \\\n",
       "74    0.0        0.0  4443.3659         0.0  2999.271982     2999.271982   \n",
       "\n",
       "       rait0     rait5   rait10 UG_from_ug_SP  \n",
       "74  110.7646  115.0248  85.2036             1  "
      ]
     },
     "execution_count": 156,
     "metadata": {},
     "output_type": "execute_result"
    }
   ],
   "source": [
    "# look at rows where control is not consistent with UG or presc\n",
    "bad_rows = presc[~check_control_column]\n",
    "print(len(bad_rows), 'rows where control does not match UG Presc')\n",
    "bad_rows.head(1)"
   ]
  },
  {
   "cell_type": "markdown",
   "metadata": {},
   "source": [
    "`Control`(=UG.Presc) seems to be only inconsistent with `Presc`. Validate consistency between `Control`and `UG`:"
   ]
  },
  {
   "cell_type": "code",
   "execution_count": 157,
   "metadata": {},
   "outputs": [
    {
     "data": {
      "text/plain": [
       "True"
      ]
     },
     "execution_count": 157,
     "metadata": {},
     "output_type": "execute_result"
    }
   ],
   "source": [
    "# check if ug in UG column and Control column are the same\n",
    "# create column ug coming from ug_sp for comparison\n",
    "presc['UG_from_control'] = presc['Control'].apply(lambda x: re.search(r'(\\d+).', x).group(1))\n",
    "\n",
    "# check if ug in UG column and Control column are the same\n",
    "(presc['UG'] == presc['UG_from_control']).all()"
   ]
  },
  {
   "cell_type": "markdown",
   "metadata": {},
   "source": [
    "UG values in columns `UG` and `Control`(=UG.Presc) are consistent. Thus the inconsistencies are only  between `Presc` column and `Control` column."
   ]
  },
  {
   "cell_type": "code",
   "execution_count": 158,
   "metadata": {},
   "outputs": [
    {
     "data": {
      "text/html": [
       "<div>\n",
       "<style scoped>\n",
       "    .dataframe tbody tr th:only-of-type {\n",
       "        vertical-align: middle;\n",
       "    }\n",
       "\n",
       "    .dataframe tbody tr th {\n",
       "        vertical-align: top;\n",
       "    }\n",
       "\n",
       "    .dataframe thead th {\n",
       "        text-align: right;\n",
       "    }\n",
       "</style>\n",
       "<table border=\"1\" class=\"dataframe\">\n",
       "  <thead>\n",
       "    <tr style=\"text-align: right;\">\n",
       "      <th></th>\n",
       "      <th>Presc</th>\n",
       "      <th>Presc_from_control</th>\n",
       "      <th>Control</th>\n",
       "    </tr>\n",
       "  </thead>\n",
       "  <tbody>\n",
       "    <tr>\n",
       "      <th>74</th>\n",
       "      <td>1500</td>\n",
       "      <td>15</td>\n",
       "      <td>1.15</td>\n",
       "    </tr>\n",
       "    <tr>\n",
       "      <th>75</th>\n",
       "      <td>1500</td>\n",
       "      <td>15</td>\n",
       "      <td>1.15</td>\n",
       "    </tr>\n",
       "    <tr>\n",
       "      <th>76</th>\n",
       "      <td>1500</td>\n",
       "      <td>15</td>\n",
       "      <td>1.15</td>\n",
       "    </tr>\n",
       "    <tr>\n",
       "      <th>77</th>\n",
       "      <td>1500</td>\n",
       "      <td>15</td>\n",
       "      <td>1.15</td>\n",
       "    </tr>\n",
       "    <tr>\n",
       "      <th>78</th>\n",
       "      <td>1500</td>\n",
       "      <td>15</td>\n",
       "      <td>1.15</td>\n",
       "    </tr>\n",
       "    <tr>\n",
       "      <th>...</th>\n",
       "      <td>...</td>\n",
       "      <td>...</td>\n",
       "      <td>...</td>\n",
       "    </tr>\n",
       "    <tr>\n",
       "      <th>317873</th>\n",
       "      <td>503700</td>\n",
       "      <td>5037</td>\n",
       "      <td>1626.5037</td>\n",
       "    </tr>\n",
       "    <tr>\n",
       "      <th>317874</th>\n",
       "      <td>503700</td>\n",
       "      <td>5037</td>\n",
       "      <td>1626.5037</td>\n",
       "    </tr>\n",
       "    <tr>\n",
       "      <th>317875</th>\n",
       "      <td>503700</td>\n",
       "      <td>5037</td>\n",
       "      <td>1626.5037</td>\n",
       "    </tr>\n",
       "    <tr>\n",
       "      <th>317876</th>\n",
       "      <td>503700</td>\n",
       "      <td>5037</td>\n",
       "      <td>1626.5037</td>\n",
       "    </tr>\n",
       "    <tr>\n",
       "      <th>317877</th>\n",
       "      <td>503700</td>\n",
       "      <td>5037</td>\n",
       "      <td>1626.5037</td>\n",
       "    </tr>\n",
       "  </tbody>\n",
       "</table>\n",
       "<p>45902 rows × 3 columns</p>\n",
       "</div>"
      ],
      "text/plain": [
       "         Presc Presc_from_control    Control\n",
       "74        1500                 15       1.15\n",
       "75        1500                 15       1.15\n",
       "76        1500                 15       1.15\n",
       "77        1500                 15       1.15\n",
       "78        1500                 15       1.15\n",
       "...        ...                ...        ...\n",
       "317873  503700               5037  1626.5037\n",
       "317874  503700               5037  1626.5037\n",
       "317875  503700               5037  1626.5037\n",
       "317876  503700               5037  1626.5037\n",
       "317877  503700               5037  1626.5037\n",
       "\n",
       "[45902 rows x 3 columns]"
      ]
     },
     "execution_count": 158,
     "metadata": {},
     "output_type": "execute_result"
    }
   ],
   "source": [
    "# compare Presc column with presc value in control column in inconsistent cases:\n",
    "# create column Presc coming from ug_sp for comparison\n",
    "presc['Presc_from_control'] = presc['Control'].apply(lambda x: re.search(r'\\.(.*)', x).group(1))\n",
    "\n",
    "# look at the inconsistent cases\n",
    "presc[presc['Presc_from_control']!=presc['Presc']][['Presc', 'Presc_from_control', 'Control']]"
   ]
  },
  {
   "cell_type": "markdown",
   "metadata": {},
   "source": [
    "Seems like column `Presc` has two additional zeros at the end. Validate this:"
   ]
  },
  {
   "cell_type": "code",
   "execution_count": 159,
   "metadata": {},
   "outputs": [
    {
     "data": {
      "text/plain": [
       "False"
      ]
     },
     "execution_count": 159,
     "metadata": {},
     "output_type": "execute_result"
    }
   ],
   "source": [
    "# check if all the inconsistent Presc values end with \"00\"\n",
    "bad_rows['Presc'].str.endswith('00').all()"
   ]
  },
  {
   "cell_type": "code",
   "execution_count": 160,
   "metadata": {},
   "outputs": [
    {
     "name": "stdout",
     "output_type": "stream",
     "text": [
      "42628 inconsistent rows with Presc = Presc_from_control + '00'\n",
      "45902 inconsistent rows in total\n"
     ]
    }
   ],
   "source": [
    "# look at inconsistent rows where the Presc value is Presc_from_control + \"00\"\n",
    "bad_rows = presc[~check_control_column]\n",
    "mask00 = bad_rows['Presc'] == bad_rows['Presc_from_control'] + '00' #str.endswith('00').sum(), 'inconsistent rows ending with 00')\n",
    "\n",
    "# Apply the mask to find the rows where the condition is met\n",
    "bad_rows_00 = bad_rows[mask00]\n",
    "\n",
    "print(len(bad_rows_00), \"inconsistent rows with Presc = Presc_from_control + '00'\")\n",
    "print(len(bad_rows), 'inconsistent rows in total')"
   ]
  },
  {
   "cell_type": "markdown",
   "metadata": {},
   "source": [
    "Not all inconsistent rows' `Presc` values end with \"00\". Look at the remaining ones:"
   ]
  },
  {
   "cell_type": "code",
   "execution_count": 161,
   "metadata": {},
   "outputs": [
    {
     "data": {
      "text/html": [
       "<div>\n",
       "<style scoped>\n",
       "    .dataframe tbody tr th:only-of-type {\n",
       "        vertical-align: middle;\n",
       "    }\n",
       "\n",
       "    .dataframe tbody tr th {\n",
       "        vertical-align: top;\n",
       "    }\n",
       "\n",
       "    .dataframe thead th {\n",
       "        text-align: right;\n",
       "    }\n",
       "</style>\n",
       "<table border=\"1\" class=\"dataframe\">\n",
       "  <thead>\n",
       "    <tr style=\"text-align: right;\">\n",
       "      <th></th>\n",
       "      <th>UG</th>\n",
       "      <th>Control</th>\n",
       "      <th>Presc</th>\n",
       "    </tr>\n",
       "  </thead>\n",
       "  <tbody>\n",
       "    <tr>\n",
       "      <th>512</th>\n",
       "      <td>2</td>\n",
       "      <td>2.2</td>\n",
       "      <td>20</td>\n",
       "    </tr>\n",
       "    <tr>\n",
       "      <th>513</th>\n",
       "      <td>2</td>\n",
       "      <td>2.2</td>\n",
       "      <td>20</td>\n",
       "    </tr>\n",
       "    <tr>\n",
       "      <th>514</th>\n",
       "      <td>2</td>\n",
       "      <td>2.2</td>\n",
       "      <td>20</td>\n",
       "    </tr>\n",
       "    <tr>\n",
       "      <th>515</th>\n",
       "      <td>2</td>\n",
       "      <td>2.2</td>\n",
       "      <td>20</td>\n",
       "    </tr>\n",
       "    <tr>\n",
       "      <th>516</th>\n",
       "      <td>2</td>\n",
       "      <td>2.2</td>\n",
       "      <td>20</td>\n",
       "    </tr>\n",
       "    <tr>\n",
       "      <th>...</th>\n",
       "      <td>...</td>\n",
       "      <td>...</td>\n",
       "      <td>...</td>\n",
       "    </tr>\n",
       "    <tr>\n",
       "      <th>317432</th>\n",
       "      <td>1623</td>\n",
       "      <td>1623.2</td>\n",
       "      <td>20</td>\n",
       "    </tr>\n",
       "    <tr>\n",
       "      <th>317433</th>\n",
       "      <td>1623</td>\n",
       "      <td>1623.2</td>\n",
       "      <td>20</td>\n",
       "    </tr>\n",
       "    <tr>\n",
       "      <th>317434</th>\n",
       "      <td>1623</td>\n",
       "      <td>1623.2</td>\n",
       "      <td>20</td>\n",
       "    </tr>\n",
       "    <tr>\n",
       "      <th>317435</th>\n",
       "      <td>1623</td>\n",
       "      <td>1623.2</td>\n",
       "      <td>20</td>\n",
       "    </tr>\n",
       "    <tr>\n",
       "      <th>317436</th>\n",
       "      <td>1623</td>\n",
       "      <td>1623.2</td>\n",
       "      <td>20</td>\n",
       "    </tr>\n",
       "  </tbody>\n",
       "</table>\n",
       "<p>3274 rows × 3 columns</p>\n",
       "</div>"
      ],
      "text/plain": [
       "          UG Control Presc\n",
       "512        2     2.2    20\n",
       "513        2     2.2    20\n",
       "514        2     2.2    20\n",
       "515        2     2.2    20\n",
       "516        2     2.2    20\n",
       "...      ...     ...   ...\n",
       "317432  1623  1623.2    20\n",
       "317433  1623  1623.2    20\n",
       "317434  1623  1623.2    20\n",
       "317435  1623  1623.2    20\n",
       "317436  1623  1623.2    20\n",
       "\n",
       "[3274 rows x 3 columns]"
      ]
     },
     "execution_count": 161,
     "metadata": {},
     "output_type": "execute_result"
    }
   ],
   "source": [
    "# show `Presc` values that are inconsistent with control but do not end with \"00\":\n",
    "bad_rows[~bad_rows['Presc'].str.endswith('00')][['UG','Control','Presc']]"
   ]
  },
  {
   "cell_type": "markdown",
   "metadata": {},
   "source": [
    "Inconsistent rows' `Presc` values seem to have an additional 0 at the end. Validate this:"
   ]
  },
  {
   "cell_type": "code",
   "execution_count": 162,
   "metadata": {},
   "outputs": [
    {
     "data": {
      "text/plain": [
       "True"
      ]
     },
     "execution_count": 162,
     "metadata": {},
     "output_type": "execute_result"
    }
   ],
   "source": [
    "# check if all Presc values in inconsistent columns have an additional 0 at the end\n",
    "bad_rows['Presc'].str.endswith('0').all()"
   ]
  },
  {
   "cell_type": "code",
   "execution_count": 163,
   "metadata": {},
   "outputs": [
    {
     "name": "stdout",
     "output_type": "stream",
     "text": [
      "3274 inconsistent rows with Presc = Presc_from_control + '0'\n",
      "42628 inconsistent rows with Presc = Presc_from_control + '00'\n",
      "45902 inconsistent rows in total\n",
      "✓ checksum 45902\n"
     ]
    }
   ],
   "source": [
    "# look at inconsistent rows where the Presc value is Presc_from_control + \"0\"\n",
    "mask0 = bad_rows['Presc'] == bad_rows['Presc_from_control'] + '0' #str.endswith('00').sum(), 'inconsistent rows ending with 00')\n",
    "\n",
    "# Apply the mask to find the rows where the condition is met\n",
    "bad_rows_0 = bad_rows[mask0]\n",
    "\n",
    "print(len(bad_rows_0), \"inconsistent rows with Presc = Presc_from_control + '0'\")\n",
    "print(len(bad_rows_00), \"inconsistent rows with Presc = Presc_from_control + '00'\")\n",
    "print(len(bad_rows), 'inconsistent rows in total')\n",
    "\n",
    "# validate\n",
    "checksum = bad_rows['Presc'].str.endswith('00').sum() + (bad_rows['Presc'].str.endswith('0') & ~bad_rows['Presc'].str.endswith('00')).sum()\n",
    "\n",
    "if len(bad_rows)==checksum:\n",
    "    print('\\u2713 checksum', checksum)\n",
    "else:\n",
    "    print('\\u26A0 checksum', checksum)"
   ]
  },
  {
   "cell_type": "markdown",
   "metadata": {},
   "source": [
    "We drop the `Control` column and keep the `Presc`, because in solution data also exists a column `Presc` and we need to be consistent there for merging later."
   ]
  },
  {
   "cell_type": "markdown",
   "metadata": {},
   "source": [
    "### 🗑️ Keep only the necessary columns"
   ]
  },
  {
   "cell_type": "code",
   "execution_count": 164,
   "metadata": {},
   "outputs": [
    {
     "data": {
      "text/html": [
       "<div>\n",
       "<style scoped>\n",
       "    .dataframe tbody tr th:only-of-type {\n",
       "        vertical-align: middle;\n",
       "    }\n",
       "\n",
       "    .dataframe tbody tr th {\n",
       "        vertical-align: top;\n",
       "    }\n",
       "\n",
       "    .dataframe thead th {\n",
       "        text-align: right;\n",
       "    }\n",
       "</style>\n",
       "<table border=\"1\" class=\"dataframe\">\n",
       "  <thead>\n",
       "    <tr style=\"text-align: right;\">\n",
       "      <th></th>\n",
       "      <th>UG</th>\n",
       "      <th>species</th>\n",
       "      <th>Presc</th>\n",
       "      <th>area</th>\n",
       "      <th>NasolMaxRES</th>\n",
       "      <th>NasolMaxWood</th>\n",
       "      <th>period</th>\n",
       "      <th>Vremovido(ton)</th>\n",
       "      <th>rait0</th>\n",
       "      <th>rait5</th>\n",
       "      <th>rait10</th>\n",
       "    </tr>\n",
       "  </thead>\n",
       "  <tbody>\n",
       "    <tr>\n",
       "      <th>0</th>\n",
       "      <td>1</td>\n",
       "      <td>Ec</td>\n",
       "      <td>1</td>\n",
       "      <td>42.601782</td>\n",
       "      <td>NaN</td>\n",
       "      <td>NaN</td>\n",
       "      <td>1</td>\n",
       "      <td>2999.271982</td>\n",
       "      <td>132.0655</td>\n",
       "      <td>166.147</td>\n",
       "      <td>136.3257</td>\n",
       "    </tr>\n",
       "  </tbody>\n",
       "</table>\n",
       "</div>"
      ],
      "text/plain": [
       "  UG species Presc       area NasolMaxRES NasolMaxWood  period  \\\n",
       "0  1      Ec     1  42.601782         NaN          NaN       1   \n",
       "\n",
       "   Vremovido(ton)     rait0    rait5    rait10  \n",
       "0     2999.271982  132.0655  166.147  136.3257  "
      ]
     },
     "execution_count": 164,
     "metadata": {},
     "output_type": "execute_result"
    }
   ],
   "source": [
    "# Define the columns to keep\n",
    "columns_to_keep = [\n",
    "    'UG', 'species', 'Presc', 'area', \n",
    "    'NasolMaxRES', 'NasolMaxWood', 'period', \n",
    "    'Vremovido(ton)', 'rait0', 'rait5', 'rait10'\n",
    "]\n",
    "\n",
    "# Subset the DataFrame to include only the specified columns\n",
    "presc = presc[columns_to_keep]\n",
    "presc.head(1)"
   ]
  },
  {
   "cell_type": "markdown",
   "metadata": {},
   "source": [
    "## 0.B. 📂📂Solution data sheets (Maxres / Maxwood)\n",
    "The data we are looking at are three different solutions to a linear program (a previous work of Susete Marques). MaxRes and MaxWood solutions are coming from two separate excel sheets. The stakeholder solution was provieded in a different format and needs to be transformed to the same format as MaxRes and MaxWood."
   ]
  },
  {
   "cell_type": "markdown",
   "metadata": {},
   "source": [
    "####  load MaxWood and MaxRes solution"
   ]
  },
  {
   "cell_type": "code",
   "execution_count": 165,
   "metadata": {},
   "outputs": [
    {
     "name": "stdout",
     "output_type": "stream",
     "text": [
      "MaxRes (1512, 7)\n",
      "  Decision Variable name  Control Presc UG  Sp ShPer  Sol\n",
      "0      Presc1601_Pa1_Ec_5  1.1601  1601  1  Ec     5  Yes\n",
      "-----------------------------------------------------------------\n",
      "MaxWood (1512, 7)\n",
      "  Decision Variable name  Control Presc UG  Sp ShPer  Sol\n",
      "0      Presc3502_Pa1_Ec_0  1.3502  3502  1  Ec     0  Yes\n",
      "-----------------------------------------------------------------\n"
     ]
    }
   ],
   "source": [
    "# Read solution sheets into dfs\n",
    "sol_mres = pd.read_excel('0_Received_Data/3-Harvesting_Schedule/Presc_dataset21_missingstakeholders_sol.xlsx', sheet_name=3)\n",
    "sol_mres = sol_mres.astype(str)\n",
    "sol_mres.name = \"MaxRes\"\n",
    "\n",
    "sol_mwood = pd.read_excel('0_Received_Data/3-Harvesting_Schedule/Presc_dataset21_missingstakeholders_sol.xlsx', sheet_name=2)\n",
    "sol_mwood = sol_mwood.astype(str)\n",
    "sol_mwood.name = \"MaxWood\"\n",
    "\n",
    "for sol in [sol_mres, sol_mwood]:\n",
    "    print(sol.name, sol.shape)\n",
    "    print(sol.head(1))\n",
    "    print('-----------------------------------------------------------------')"
   ]
  },
  {
   "cell_type": "code",
   "execution_count": 166,
   "metadata": {},
   "outputs": [
    {
     "data": {
      "text/plain": [
       "<bound method NDFrame.head of       Decision Variable name     Control   Presc    UG  Sp ShPer  Sol\n",
       "0          Presc1601_Pa1_Ec_5     1.1601    1601     1  Ec     5  Yes\n",
       "1         Presc19301_Pa2_Ec_0    2.19301   19301     2  Ec     0  Yes\n",
       "2            Presc21_Pa3_Ec_5       3.21      21     3  Ec     5  Yes\n",
       "3        Presc500308_Pa4_Pb_5   4.500308  500308     4  Pb     5  Yes\n",
       "4           Presc503_Pa5_Pb_5      5.503     503     5  Pb     5  Yes\n",
       "...                       ...        ...     ...   ...  ..   ...  ...\n",
       "1507       Presc2_Pa1620_Ec_5     1620.2       2  1620  Ec     5  Yes\n",
       "1508       Presc3_Pa1622_Ec_5     1622.3       3  1622  Ec     5  Yes\n",
       "1509      Presc21_Pa1623_Ec_5    1623.21      21  1623  Ec     5  Yes\n",
       "1510      Presc36_Pa1626_Ec_5    1626.36      36  1626  Ec     5  Yes\n",
       "1511  Presc500700_Pa1626_Pb_5  1626.5007  500700  1626  Pb     5  Yes\n",
       "\n",
       "[1512 rows x 7 columns]>"
      ]
     },
     "execution_count": 166,
     "metadata": {},
     "output_type": "execute_result"
    }
   ],
   "source": [
    "sol_mres.head"
   ]
  },
  {
   "cell_type": "markdown",
   "metadata": {},
   "source": [
    "#### 🔍 check data consistency of MaxWood and MaxRes solution"
   ]
  },
  {
   "cell_type": "code",
   "execution_count": 167,
   "metadata": {},
   "outputs": [
    {
     "name": "stdout",
     "output_type": "stream",
     "text": [
      "Duplicates in sol_mres: 0\n",
      "sol_mres columns with NaN values: []\n",
      "--------------------\n",
      "Duplicates in sol_mwood: 0\n",
      "sol_mwood columns with NaN values: []\n"
     ]
    }
   ],
   "source": [
    "# Check for duplicates and NaN\n",
    "print(\"Duplicates in sol_mres:\", sol_mres.duplicated(subset=['UG', 'Presc']).sum())\n",
    "\n",
    "# Get a list of columns with NaN values in sol_mres\n",
    "columns_with_nan = sol_mres.columns[sol_mres.isna().any()].tolist()\n",
    "print(\"sol_mres columns with NaN values:\", columns_with_nan)\n",
    "\n",
    "print('--------------------')\n",
    "print(\"Duplicates in sol_mwood:\", sol_mwood.duplicated(subset=['UG', 'Presc']).sum())\n",
    "\n",
    "# Get a list of columns with NaN values in sol_mwood\n",
    "columns_with_nan = sol_mwood.columns[sol_mwood.isna().any()].tolist()\n",
    "print(\"sol_mwood columns with NaN values:\", columns_with_nan)"
   ]
  },
  {
   "cell_type": "markdown",
   "metadata": {},
   "source": [
    "Check if:\n",
    "1. `Decision Variable name` == Presc`Presc`_ Pa`UG` _ `species`_ `ShPer`\n",
    "2. `Control` == `UG`.`Presc`\n",
    "3. `Sol` == 1 in every row"
   ]
  },
  {
   "cell_type": "code",
   "execution_count": 168,
   "metadata": {},
   "outputs": [
    {
     "name": "stdout",
     "output_type": "stream",
     "text": [
      "-----------------------------------------------------------------\n",
      "sol_mres\n",
      "✓ column 'Decision Variable name ' is consistent. Can be dropped.\n",
      "✓ column 'Control' is consistent. Can be dropped.\n",
      "✓ column 'Sol' contains no additional information. Can be dropped.\n",
      "-----------------------------------------------------------------\n",
      "sol_mwood\n",
      "✓ column 'Decision Variable name ' is consistent. Can be dropped.\n",
      "✓ column 'Control' is consistent. Can be dropped.\n",
      "✓ column 'Sol' contains no additional information. Can be dropped.\n"
     ]
    }
   ],
   "source": [
    "## Check data consistency of solmres and solmwood\n",
    "\n",
    "solutions = [(sol_mres, 'sol_mres'), (sol_mwood, 'sol_mwood')]\n",
    "for sol, name in solutions:\n",
    "    print('-----------------------------------------------------------------')\n",
    "    print(name)\n",
    "\n",
    "    # change dtypes\n",
    "    sol = sol.astype(str)\n",
    "    \n",
    "    # Check if concatenating Presc\tUG\tSp\tShPer gives the Decision Variable name column\n",
    "    check_Dvar_column = ('Presc'+ sol['Presc'] + \"_Pa\" + sol['UG'] + \"_\" + sol['Sp'] + \"_\" + sol['ShPer']) == sol['Decision Variable name ']\n",
    "\n",
    "    if check_Dvar_column.all(): \n",
    "        print(\"\\u2713 column 'Decision Variable name ' is consistent. Can be dropped.\")\n",
    "    else: print(\"\\u26A0 column 'Decision Variable name ' has a problem.\")\n",
    "\n",
    "    # Remove trailing zeros \n",
    "    sol['Control'] = sol['Control'].str.rstrip('0')\n",
    "    sol['Presc'] = sol['Presc'].str.rstrip('0')\n",
    "\n",
    "    # Check if concatenating 'UG' with a dot ('.') and 'Presc' gives the 'Control' column\n",
    "    check_control_column = (sol['UG'] + '.' + sol['Presc']) == sol['Control']\n",
    "\n",
    "    if check_control_column.all(): \n",
    "        print(\"\\u2713 column 'Control' is consistent. Can be dropped.\")\n",
    "    else: print(\"\\u26A0 column 'Control' has a problem.\")\n",
    "\n",
    "    # Check if column 'Sol' contains values other than 'Yes'\n",
    "    if len(sol['Sol'].unique()) != 1:\n",
    "        # Display the other values\n",
    "        print('\\u26A0', sol['Sol'].unique())\n",
    "    else:\n",
    "        print(\"\\u2713 column 'Sol' contains no additional information. Can be dropped.\")"
   ]
  },
  {
   "cell_type": "code",
   "execution_count": 169,
   "metadata": {},
   "outputs": [
    {
     "name": "stdout",
     "output_type": "stream",
     "text": [
      "-------------------\n",
      "sol_mres\n",
      "(1512, 3)\n",
      "  UG Presc ShPer\n",
      "0  1  1601     5\n",
      "-------------------\n",
      "sol_mwood\n",
      "(1512, 3)\n",
      "  UG Presc ShPer\n",
      "0  1  3502     0\n"
     ]
    }
   ],
   "source": [
    "# subset the dataframes \n",
    "solutions = [(sol_mres, 'sol_mres'), (sol_mwood, 'sol_mwood')]\n",
    "for sol, name in solutions:\n",
    "    print('-------------------')\n",
    "    print(name)\n",
    "\n",
    "   # change the order and drop unnecessary columns\n",
    "    sol = sol[['UG', 'Presc', 'ShPer']]\n",
    "    print(sol.shape)\n",
    "    print(sol.head(1))\n",
    "\n",
    "    # Update the original DataFrame\n",
    "    if name == 'sol_mres':\n",
    "        sol_mres = sol\n",
    "    elif name == 'sol_mwood':\n",
    "        sol_mwood = sol"
   ]
  },
  {
   "cell_type": "markdown",
   "metadata": {},
   "source": [
    "##### look at mixed stands"
   ]
  },
  {
   "cell_type": "code",
   "execution_count": 170,
   "metadata": {},
   "outputs": [
    {
     "data": {
      "text/html": [
       "<div>\n",
       "<style scoped>\n",
       "    .dataframe tbody tr th:only-of-type {\n",
       "        vertical-align: middle;\n",
       "    }\n",
       "\n",
       "    .dataframe tbody tr th {\n",
       "        vertical-align: top;\n",
       "    }\n",
       "\n",
       "    .dataframe thead th {\n",
       "        text-align: right;\n",
       "    }\n",
       "</style>\n",
       "<table border=\"1\" class=\"dataframe\">\n",
       "  <thead>\n",
       "    <tr style=\"text-align: right;\">\n",
       "      <th></th>\n",
       "      <th>UG</th>\n",
       "      <th>Presc</th>\n",
       "      <th>ShPer</th>\n",
       "    </tr>\n",
       "  </thead>\n",
       "  <tbody>\n",
       "    <tr>\n",
       "      <th>0</th>\n",
       "      <td>1</td>\n",
       "      <td>1601</td>\n",
       "      <td>5</td>\n",
       "    </tr>\n",
       "    <tr>\n",
       "      <th>1</th>\n",
       "      <td>2</td>\n",
       "      <td>19301</td>\n",
       "      <td>0</td>\n",
       "    </tr>\n",
       "    <tr>\n",
       "      <th>2</th>\n",
       "      <td>3</td>\n",
       "      <td>21</td>\n",
       "      <td>5</td>\n",
       "    </tr>\n",
       "    <tr>\n",
       "      <th>3</th>\n",
       "      <td>4</td>\n",
       "      <td>500308</td>\n",
       "      <td>5</td>\n",
       "    </tr>\n",
       "    <tr>\n",
       "      <th>4</th>\n",
       "      <td>5</td>\n",
       "      <td>503</td>\n",
       "      <td>5</td>\n",
       "    </tr>\n",
       "    <tr>\n",
       "      <th>...</th>\n",
       "      <td>...</td>\n",
       "      <td>...</td>\n",
       "      <td>...</td>\n",
       "    </tr>\n",
       "    <tr>\n",
       "      <th>1401</th>\n",
       "      <td>1618</td>\n",
       "      <td>36700</td>\n",
       "      <td>5</td>\n",
       "    </tr>\n",
       "    <tr>\n",
       "      <th>1402</th>\n",
       "      <td>1620</td>\n",
       "      <td>2</td>\n",
       "      <td>5</td>\n",
       "    </tr>\n",
       "    <tr>\n",
       "      <th>1403</th>\n",
       "      <td>1622</td>\n",
       "      <td>3</td>\n",
       "      <td>5</td>\n",
       "    </tr>\n",
       "    <tr>\n",
       "      <th>1404</th>\n",
       "      <td>1623</td>\n",
       "      <td>21</td>\n",
       "      <td>5</td>\n",
       "    </tr>\n",
       "    <tr>\n",
       "      <th>1405</th>\n",
       "      <td>1626</td>\n",
       "      <td>36</td>\n",
       "      <td>5</td>\n",
       "    </tr>\n",
       "  </tbody>\n",
       "</table>\n",
       "<p>1406 rows × 3 columns</p>\n",
       "</div>"
      ],
      "text/plain": [
       "        UG   Presc ShPer\n",
       "0        1    1601     5\n",
       "1        2   19301     0\n",
       "2        3      21     5\n",
       "3        4  500308     5\n",
       "4        5     503     5\n",
       "...    ...     ...   ...\n",
       "1401  1618   36700     5\n",
       "1402  1620       2     5\n",
       "1403  1622       3     5\n",
       "1404  1623      21     5\n",
       "1405  1626      36     5\n",
       "\n",
       "[1406 rows x 3 columns]"
      ]
     },
     "execution_count": 170,
     "metadata": {},
     "output_type": "execute_result"
    }
   ],
   "source": [
    "# number of stands in the solutions\n",
    "mres_stands = sol_mres.drop_duplicates(subset='UG').reset_index(drop=True)\n",
    "mres_stands"
   ]
  },
  {
   "cell_type": "code",
   "execution_count": 171,
   "metadata": {},
   "outputs": [
    {
     "name": "stdout",
     "output_type": "stream",
     "text": [
      "212 duplicate stands\n"
     ]
    },
    {
     "data": {
      "text/html": [
       "<div>\n",
       "<style scoped>\n",
       "    .dataframe tbody tr th:only-of-type {\n",
       "        vertical-align: middle;\n",
       "    }\n",
       "\n",
       "    .dataframe tbody tr th {\n",
       "        vertical-align: top;\n",
       "    }\n",
       "\n",
       "    .dataframe thead th {\n",
       "        text-align: right;\n",
       "    }\n",
       "</style>\n",
       "<table border=\"1\" class=\"dataframe\">\n",
       "  <thead>\n",
       "    <tr style=\"text-align: right;\">\n",
       "      <th></th>\n",
       "      <th>UG</th>\n",
       "      <th>Presc</th>\n",
       "      <th>ShPer</th>\n",
       "    </tr>\n",
       "  </thead>\n",
       "  <tbody>\n",
       "    <tr>\n",
       "      <th>0</th>\n",
       "      <td>1015</td>\n",
       "      <td>503</td>\n",
       "      <td>5</td>\n",
       "    </tr>\n",
       "    <tr>\n",
       "      <th>1</th>\n",
       "      <td>1015</td>\n",
       "      <td>3</td>\n",
       "      <td>5</td>\n",
       "    </tr>\n",
       "    <tr>\n",
       "      <th>2</th>\n",
       "      <td>1037</td>\n",
       "      <td>35700</td>\n",
       "      <td>0</td>\n",
       "    </tr>\n",
       "    <tr>\n",
       "      <th>3</th>\n",
       "      <td>1037</td>\n",
       "      <td>700</td>\n",
       "      <td>0</td>\n",
       "    </tr>\n",
       "    <tr>\n",
       "      <th>4</th>\n",
       "      <td>1070</td>\n",
       "      <td>500700</td>\n",
       "      <td>5</td>\n",
       "    </tr>\n",
       "    <tr>\n",
       "      <th>...</th>\n",
       "      <td>...</td>\n",
       "      <td>...</td>\n",
       "      <td>...</td>\n",
       "    </tr>\n",
       "    <tr>\n",
       "      <th>207</th>\n",
       "      <td>977</td>\n",
       "      <td>501700</td>\n",
       "      <td>5</td>\n",
       "    </tr>\n",
       "    <tr>\n",
       "      <th>208</th>\n",
       "      <td>978</td>\n",
       "      <td>21700</td>\n",
       "      <td>5</td>\n",
       "    </tr>\n",
       "    <tr>\n",
       "      <th>209</th>\n",
       "      <td>978</td>\n",
       "      <td>500700</td>\n",
       "      <td>5</td>\n",
       "    </tr>\n",
       "    <tr>\n",
       "      <th>210</th>\n",
       "      <td>979</td>\n",
       "      <td>500700</td>\n",
       "      <td>5</td>\n",
       "    </tr>\n",
       "    <tr>\n",
       "      <th>211</th>\n",
       "      <td>979</td>\n",
       "      <td>10700</td>\n",
       "      <td>5</td>\n",
       "    </tr>\n",
       "  </tbody>\n",
       "</table>\n",
       "<p>212 rows × 3 columns</p>\n",
       "</div>"
      ],
      "text/plain": [
       "       UG   Presc ShPer\n",
       "0    1015     503     5\n",
       "1    1015       3     5\n",
       "2    1037   35700     0\n",
       "3    1037     700     0\n",
       "4    1070  500700     5\n",
       "..    ...     ...   ...\n",
       "207   977  501700     5\n",
       "208   978   21700     5\n",
       "209   978  500700     5\n",
       "210   979  500700     5\n",
       "211   979   10700     5\n",
       "\n",
       "[212 rows x 3 columns]"
      ]
     },
     "execution_count": 171,
     "metadata": {},
     "output_type": "execute_result"
    }
   ],
   "source": [
    "mres_dupl = sol_mres[sol_mres.duplicated(subset='UG', keep=False)].sort_values(by='UG').reset_index(drop=True)\n",
    "print(len(mres_dupl),'duplicate stands')\n",
    "mres_dupl"
   ]
  },
  {
   "cell_type": "markdown",
   "metadata": {},
   "source": [
    "There are 212 stands that have more than one prescription in MaxRes."
   ]
  },
  {
   "cell_type": "code",
   "execution_count": 172,
   "metadata": {},
   "outputs": [
    {
     "data": {
      "text/plain": [
       "106"
      ]
     },
     "execution_count": 172,
     "metadata": {},
     "output_type": "execute_result"
    }
   ],
   "source": [
    "mres_dupl = sol_mres[sol_mres.duplicated(subset='UG', keep='last')].sort_values(by='UG').reset_index(drop=True)\n",
    "len(mres_dupl)"
   ]
  },
  {
   "cell_type": "markdown",
   "metadata": {},
   "source": [
    "There are 106 stands that have 2 prescriptions in MaxRes."
   ]
  },
  {
   "cell_type": "code",
   "execution_count": 173,
   "metadata": {},
   "outputs": [
    {
     "name": "stdout",
     "output_type": "stream",
     "text": [
      "212\n"
     ]
    },
    {
     "data": {
      "text/plain": [
       "106"
      ]
     },
     "execution_count": 173,
     "metadata": {},
     "output_type": "execute_result"
    }
   ],
   "source": [
    "mwood_dupl = sol_mwood[sol_mwood.duplicated(subset='UG', keep=False)].sort_values(by='UG').reset_index(drop=True)\n",
    "print(len(mwood_dupl))\n",
    "mwood_dupl = sol_mwood[sol_mwood.duplicated(subset='UG', keep='last')].sort_values(by='UG').reset_index(drop=True)\n",
    "len(mwood_dupl)"
   ]
  },
  {
   "cell_type": "code",
   "execution_count": 174,
   "metadata": {},
   "outputs": [
    {
     "data": {
      "text/plain": [
       "1406"
      ]
     },
     "execution_count": 174,
     "metadata": {},
     "output_type": "execute_result"
    }
   ],
   "source": [
    "mwood_stands = sol_mwood.drop_duplicates(subset='UG').reset_index(drop=True)\n",
    "len(mwood_stands)"
   ]
  },
  {
   "cell_type": "markdown",
   "metadata": {},
   "source": [
    "Same for MWood. 1406 stands, 106 of them with two prescriptions."
   ]
  },
  {
   "cell_type": "markdown",
   "metadata": {},
   "source": [
    "## 0.C 📂 Solution log file (stakeholder solution)"
   ]
  },
  {
   "cell_type": "markdown",
   "metadata": {},
   "source": [
    "### 1. Bring stakeholder solution to tabular format"
   ]
  },
  {
   "cell_type": "markdown",
   "metadata": {},
   "source": [
    "\n",
    "We need the columns `UG`, `Presc` and `ShPer`:"
   ]
  },
  {
   "cell_type": "code",
   "execution_count": 175,
   "metadata": {},
   "outputs": [
    {
     "name": "stdout",
     "output_type": "stream",
     "text": [
      "(1514, 2)\n"
     ]
    },
    {
     "data": {
      "text/html": [
       "<div>\n",
       "<style scoped>\n",
       "    .dataframe tbody tr th:only-of-type {\n",
       "        vertical-align: middle;\n",
       "    }\n",
       "\n",
       "    .dataframe tbody tr th {\n",
       "        vertical-align: top;\n",
       "    }\n",
       "\n",
       "    .dataframe thead th {\n",
       "        text-align: right;\n",
       "    }\n",
       "</style>\n",
       "<table border=\"1\" class=\"dataframe\">\n",
       "  <thead>\n",
       "    <tr style=\"text-align: right;\">\n",
       "      <th></th>\n",
       "      <th>Variable Name</th>\n",
       "      <th>Solution Value</th>\n",
       "    </tr>\n",
       "  </thead>\n",
       "  <tbody>\n",
       "    <tr>\n",
       "      <th>0</th>\n",
       "      <td>Presc503_Pa101_Pb_10</td>\n",
       "      <td>1.0</td>\n",
       "    </tr>\n",
       "  </tbody>\n",
       "</table>\n",
       "</div>"
      ],
      "text/plain": [
       "          Variable Name  Solution Value\n",
       "0  Presc503_Pa101_Pb_10             1.0"
      ]
     },
     "execution_count": 175,
     "metadata": {},
     "output_type": "execute_result"
    }
   ],
   "source": [
    "# Extract stakeholder solution from logfile\n",
    "\n",
    "log_file_path = '0_Received_Data/3-Harvesting_Schedule/Stakeholders_Solution.log'\n",
    "\n",
    "# Open and read the log file\n",
    "with open(log_file_path, 'r') as file:\n",
    "    log_content = file.read()\n",
    "\n",
    "# Use regular expression to find the variables and their values\n",
    "pattern = r'(Presc\\S+)\\s+(\\d+\\.\\d{6})'\n",
    "matches = re.findall(pattern, log_content)\n",
    "\n",
    "# Extract variables and their respective values\n",
    "variables_values = re.findall(r'(Presc\\S+)\\s+(\\d+\\.\\d{6})', log_content)\n",
    "\n",
    "# Create a DataFrame from the matches\n",
    "sol_stake = pd.DataFrame(matches, columns=['Variable Name', 'Solution Value'])\n",
    "\n",
    "# Convert the 'Solution Value' column to float\n",
    "sol_stake['Solution Value'] = sol_stake['Solution Value'].astype(float)\n",
    "\n",
    "print(sol_stake.shape)\n",
    "sol_stake.head(1)"
   ]
  },
  {
   "cell_type": "code",
   "execution_count": 176,
   "metadata": {},
   "outputs": [
    {
     "data": {
      "text/html": [
       "<div>\n",
       "<style scoped>\n",
       "    .dataframe tbody tr th:only-of-type {\n",
       "        vertical-align: middle;\n",
       "    }\n",
       "\n",
       "    .dataframe tbody tr th {\n",
       "        vertical-align: top;\n",
       "    }\n",
       "\n",
       "    .dataframe thead th {\n",
       "        text-align: right;\n",
       "    }\n",
       "</style>\n",
       "<table border=\"1\" class=\"dataframe\">\n",
       "  <thead>\n",
       "    <tr style=\"text-align: right;\">\n",
       "      <th></th>\n",
       "      <th>Variable Name</th>\n",
       "      <th>Solution Value</th>\n",
       "      <th>UG</th>\n",
       "      <th>Presc</th>\n",
       "      <th>ShPer</th>\n",
       "    </tr>\n",
       "  </thead>\n",
       "  <tbody>\n",
       "    <tr>\n",
       "      <th>0</th>\n",
       "      <td>Presc503_Pa101_Pb_10</td>\n",
       "      <td>1.0</td>\n",
       "      <td>101</td>\n",
       "      <td>503</td>\n",
       "      <td>10</td>\n",
       "    </tr>\n",
       "  </tbody>\n",
       "</table>\n",
       "</div>"
      ],
      "text/plain": [
       "          Variable Name  Solution Value   UG Presc ShPer\n",
       "0  Presc503_Pa101_Pb_10             1.0  101   503    10"
      ]
     },
     "execution_count": 176,
     "metadata": {},
     "output_type": "execute_result"
    }
   ],
   "source": [
    "# Extract the required parts of the variable name into seperate columns via regex\n",
    "sol_stake['UG'] = sol_stake['Variable Name'].apply(lambda x: re.search(r'_Pa(\\d+)_', x).group(1))\n",
    "#sol_stake['ug_Sp'] = sol_stake['Variable Name'].apply(lambda x: re.search(r'_Pa(\\d+_[A-Za-z]{2})_', x).group(1))\n",
    "sol_stake['Presc'] = sol_stake['Variable Name'].apply(lambda x: re.search(r'Presc(\\d+)_Pa', x).group(1))\n",
    "sol_stake['ShPer'] = sol_stake['Variable Name'].apply(lambda x: re.search(r'_[A-Za-z]{2}_(\\d+)$', x).group(1))\n",
    "\n",
    "sol_stake.head(1)"
   ]
  },
  {
   "cell_type": "code",
   "execution_count": 177,
   "metadata": {},
   "outputs": [
    {
     "name": "stdout",
     "output_type": "stream",
     "text": [
      "Number of rows where 'Pa<UG>' is contained in 'Variable Name': 1514\n",
      "Number of rows where 'Presc' is contained in 'Variable Name': 1514\n",
      "Number of rows where '_Shper' is contained in 'Variable Name': 1514\n"
     ]
    }
   ],
   "source": [
    "# validate that all extracted UG, Presc and ShPer are contained in Variable Name\n",
    "count = sol_stake.apply(lambda row: f\"Pa{row['UG']}\" in row['Variable Name'], axis=1).sum()\n",
    "print(\"Number of rows where 'Pa<UG>' is contained in 'Variable Name':\", count)\n",
    "count = sol_stake.apply(lambda row: f\"Presc{row['Presc']}\" in row['Variable Name'], axis=1).sum()\n",
    "print(\"Number of rows where 'Presc' is contained in 'Variable Name':\", count)\n",
    "count = sol_stake.apply(lambda row: f\"_{row['ShPer']}\" in row['Variable Name'], axis=1).sum()\n",
    "print(\"Number of rows where '_Shper' is contained in 'Variable Name':\", count)"
   ]
  },
  {
   "cell_type": "code",
   "execution_count": 178,
   "metadata": {},
   "outputs": [
    {
     "data": {
      "text/html": [
       "<div>\n",
       "<style scoped>\n",
       "    .dataframe tbody tr th:only-of-type {\n",
       "        vertical-align: middle;\n",
       "    }\n",
       "\n",
       "    .dataframe tbody tr th {\n",
       "        vertical-align: top;\n",
       "    }\n",
       "\n",
       "    .dataframe thead th {\n",
       "        text-align: right;\n",
       "    }\n",
       "</style>\n",
       "<table border=\"1\" class=\"dataframe\">\n",
       "  <thead>\n",
       "    <tr style=\"text-align: right;\">\n",
       "      <th></th>\n",
       "      <th>UG</th>\n",
       "      <th>Presc</th>\n",
       "      <th>ShPer</th>\n",
       "      <th>Solution Value</th>\n",
       "    </tr>\n",
       "  </thead>\n",
       "  <tbody>\n",
       "    <tr>\n",
       "      <th>0</th>\n",
       "      <td>101</td>\n",
       "      <td>503</td>\n",
       "      <td>10</td>\n",
       "      <td>1.0</td>\n",
       "    </tr>\n",
       "  </tbody>\n",
       "</table>\n",
       "</div>"
      ],
      "text/plain": [
       "    UG Presc ShPer  Solution Value\n",
       "0  101   503    10             1.0"
      ]
     },
     "execution_count": 178,
     "metadata": {},
     "output_type": "execute_result"
    }
   ],
   "source": [
    "# drop column Variable name\n",
    "sol_stake = sol_stake[['UG','Presc','ShPer', 'Solution Value']]\n",
    "sol_stake.head(1)"
   ]
  },
  {
   "cell_type": "markdown",
   "metadata": {},
   "source": [
    "### 2. Check data consistency of stakeholder solution"
   ]
  },
  {
   "cell_type": "code",
   "execution_count": 179,
   "metadata": {},
   "outputs": [
    {
     "name": "stdout",
     "output_type": "stream",
     "text": [
      "Duplicates in sol_stake:\n",
      "0\n",
      "Columns with NaN values: []\n"
     ]
    }
   ],
   "source": [
    "# check for duplicates and NaN\n",
    "print(\"Duplicates in sol_stake:\")\n",
    "print(sol_stake.duplicated(subset=['UG', 'Presc']).sum())\n",
    "\n",
    "# Get a list of columns with NaN values in sol_mres\n",
    "columns_with_nan = sol_stake.columns[sol_stake.isna().any()].tolist()\n",
    "print(\"Columns with NaN values:\", columns_with_nan)"
   ]
  },
  {
   "cell_type": "code",
   "execution_count": 180,
   "metadata": {},
   "outputs": [
    {
     "name": "stdout",
     "output_type": "stream",
     "text": [
      "⚠ there are different solution values: [1.       0.494295 0.567668 0.505705 0.432332]\n"
     ]
    }
   ],
   "source": [
    "# Check if column 'Solution Value' contains values other than 1\n",
    "if len(sol_stake['Solution Value'].unique()) > 1:\n",
    "    # Display the other values\n",
    "    print('\\u26A0 there are different solution values:', sol_stake['Solution Value'].unique())\n",
    "else:\n",
    "    print(\"\\u2713 column 'Solution Value' contains no additional information. Can be dropped.\")"
   ]
  },
  {
   "cell_type": "markdown",
   "metadata": {},
   "source": [
    "Expecting only binary `Solution Value`s (\"Is the prescription *x* for UG *y* selected?\", yes/no), we surprisingly find some **fractional solution values**:"
   ]
  },
  {
   "cell_type": "code",
   "execution_count": 181,
   "metadata": {},
   "outputs": [
    {
     "data": {
      "text/html": [
       "<div>\n",
       "<style scoped>\n",
       "    .dataframe tbody tr th:only-of-type {\n",
       "        vertical-align: middle;\n",
       "    }\n",
       "\n",
       "    .dataframe tbody tr th {\n",
       "        vertical-align: top;\n",
       "    }\n",
       "\n",
       "    .dataframe thead th {\n",
       "        text-align: right;\n",
       "    }\n",
       "</style>\n",
       "<table border=\"1\" class=\"dataframe\">\n",
       "  <thead>\n",
       "    <tr style=\"text-align: right;\">\n",
       "      <th></th>\n",
       "      <th>UG</th>\n",
       "      <th>Presc</th>\n",
       "      <th>ShPer</th>\n",
       "      <th>Solution Value</th>\n",
       "    </tr>\n",
       "  </thead>\n",
       "  <tbody>\n",
       "    <tr>\n",
       "      <th>298</th>\n",
       "      <td>1253</td>\n",
       "      <td>36503</td>\n",
       "      <td>10</td>\n",
       "      <td>0.494295</td>\n",
       "    </tr>\n",
       "    <tr>\n",
       "      <th>1134</th>\n",
       "      <td>1253</td>\n",
       "      <td>36</td>\n",
       "      <td>5</td>\n",
       "      <td>0.505705</td>\n",
       "    </tr>\n",
       "    <tr>\n",
       "      <th>776</th>\n",
       "      <td>1339</td>\n",
       "      <td>19700</td>\n",
       "      <td>0</td>\n",
       "      <td>0.567668</td>\n",
       "    </tr>\n",
       "    <tr>\n",
       "      <th>1155</th>\n",
       "      <td>1339</td>\n",
       "      <td>19318</td>\n",
       "      <td>0</td>\n",
       "      <td>0.432332</td>\n",
       "    </tr>\n",
       "  </tbody>\n",
       "</table>\n",
       "</div>"
      ],
      "text/plain": [
       "        UG  Presc ShPer  Solution Value\n",
       "298   1253  36503    10        0.494295\n",
       "1134  1253     36     5        0.505705\n",
       "776   1339  19700     0        0.567668\n",
       "1155  1339  19318     0        0.432332"
      ]
     },
     "execution_count": 181,
     "metadata": {},
     "output_type": "execute_result"
    }
   ],
   "source": [
    "# look at solution values that are not 1:\n",
    "weird = sol_stake[sol_stake['Solution Value']!=1].sort_values(by='UG')\n",
    "weird"
   ]
  },
  {
   "cell_type": "markdown",
   "metadata": {},
   "source": [
    "Observations:\n",
    "- There are two `UG`s (1253 and 1339), with two different prescriptions `Presc` each, where the `Solution Value` is <1.\n",
    "- For each `UG`, the two fractional `Solution Value`s add up to 1."
   ]
  },
  {
   "cell_type": "code",
   "execution_count": 182,
   "metadata": {},
   "outputs": [
    {
     "name": "stdout",
     "output_type": "stream",
     "text": [
      "\n",
      "Partial Sums per UG:\n"
     ]
    },
    {
     "data": {
      "text/html": [
       "<div>\n",
       "<style scoped>\n",
       "    .dataframe tbody tr th:only-of-type {\n",
       "        vertical-align: middle;\n",
       "    }\n",
       "\n",
       "    .dataframe tbody tr th {\n",
       "        vertical-align: top;\n",
       "    }\n",
       "\n",
       "    .dataframe thead th {\n",
       "        text-align: right;\n",
       "    }\n",
       "</style>\n",
       "<table border=\"1\" class=\"dataframe\">\n",
       "  <thead>\n",
       "    <tr style=\"text-align: right;\">\n",
       "      <th></th>\n",
       "      <th>UG</th>\n",
       "      <th>Solution Value</th>\n",
       "    </tr>\n",
       "  </thead>\n",
       "  <tbody>\n",
       "    <tr>\n",
       "      <th>0</th>\n",
       "      <td>1253</td>\n",
       "      <td>1.0</td>\n",
       "    </tr>\n",
       "    <tr>\n",
       "      <th>1</th>\n",
       "      <td>1339</td>\n",
       "      <td>1.0</td>\n",
       "    </tr>\n",
       "  </tbody>\n",
       "</table>\n",
       "</div>"
      ],
      "text/plain": [
       "     UG  Solution Value\n",
       "0  1253             1.0\n",
       "1  1339             1.0"
      ]
     },
     "execution_count": 182,
     "metadata": {},
     "output_type": "execute_result"
    }
   ],
   "source": [
    "# Group by 'UG' and sum 'Solution Value'\n",
    "partial_sums = weird.groupby('UG')['Solution Value'].sum().reset_index()\n",
    "\n",
    "print(\"\\nPartial Sums per UG:\")\n",
    "partial_sums"
   ]
  },
  {
   "cell_type": "markdown",
   "metadata": {},
   "source": [
    "Considering the context (*Use prescription \"x\" for UG \"y\": YES/NO*), all solution values are supposed to be binary. The present fractional solution values indicate that a **linear relaxation** was used when obtaining the stakeholder solution. \n",
    "The fractional values are most likely resulting from the linear relaxation of the problem: Supposedly, not only 0 or 1, but any value within a given range (0,1), were allowed as solution values."
   ]
  },
  {
   "cell_type": "markdown",
   "metadata": {},
   "source": [
    "### 3. Correcting Non-Binary Solution Values in stakeholder solution\n",
    "To interpret solution values from a linearly relaxed binary problem, common approaches include the rounding method and the threshold method. We apply these methods by replacing values above 0.5 with 1 and values below 0.5 with 0, and thereby obtain the following:"
   ]
  },
  {
   "cell_type": "code",
   "execution_count": 183,
   "metadata": {},
   "outputs": [
    {
     "name": "stdout",
     "output_type": "stream",
     "text": [
      "        UG  Presc ShPer  Solution Value  Corrected Value\n",
      "298   1253  36503    10        0.494295                0\n",
      "1134  1253     36     5        0.505705                1\n",
      "776   1339  19700     0        0.567668                1\n",
      "1155  1339  19318     0        0.432332                0\n"
     ]
    }
   ],
   "source": [
    "# correct the solution values\n",
    "threshold = 0.5\n",
    "weird['Corrected Value'] = (weird['Solution Value'] >= threshold).astype(int)\n",
    "print(weird)"
   ]
  },
  {
   "cell_type": "code",
   "execution_count": 184,
   "metadata": {},
   "outputs": [
    {
     "name": "stdout",
     "output_type": "stream",
     "text": [
      "sol_stake updated with corrected values (binary)\n"
     ]
    }
   ],
   "source": [
    "# Update original dataframe with corrected binary values\n",
    "sol_stake.loc[sol_stake['Solution Value'] < 1, 'Solution Value'] = weird['Corrected Value']\n",
    "print('sol_stake updated with corrected values (binary)')"
   ]
  },
  {
   "cell_type": "code",
   "execution_count": 185,
   "metadata": {},
   "outputs": [
    {
     "name": "stdout",
     "output_type": "stream",
     "text": [
      "⚠ there are different solution values: [1. 0.]\n"
     ]
    }
   ],
   "source": [
    "# validate\n",
    "if len(sol_stake['Solution Value'].unique()) > 1:\n",
    "    # Display the other values\n",
    "    print('\\u26A0 there are different solution values:', sol_stake['Solution Value'].unique())\n",
    "else:\n",
    "    print(\"\\u2713 column 'Solution Value' contains no additional information. Can be dropped.\")"
   ]
  },
  {
   "cell_type": "code",
   "execution_count": 186,
   "metadata": {},
   "outputs": [
    {
     "name": "stdout",
     "output_type": "stream",
     "text": [
      "shape after drop: (1512, 4)\n"
     ]
    }
   ],
   "source": [
    "# drop the rows that were not selected for the solution\n",
    "sol_stake = sol_stake[sol_stake['Solution Value'] == 1]\n",
    "print('shape after drop:', sol_stake.shape)"
   ]
  },
  {
   "cell_type": "code",
   "execution_count": 187,
   "metadata": {},
   "outputs": [
    {
     "name": "stdout",
     "output_type": "stream",
     "text": [
      "✓ column 'Solution Value' contains no additional information. Can be dropped.\n"
     ]
    }
   ],
   "source": [
    "# validate that now there are only solution values ==1\n",
    "if len(sol_stake['Solution Value'].unique()) > 1:\n",
    "    # Display the other values\n",
    "    print('\\u26A0 there are different solution values:', sol_stake['Solution Value'].unique())\n",
    "else:\n",
    "    print(\"\\u2713 column 'Solution Value' contains no additional information. Can be dropped.\")"
   ]
  },
  {
   "cell_type": "code",
   "execution_count": 188,
   "metadata": {},
   "outputs": [
    {
     "data": {
      "text/html": [
       "<div>\n",
       "<style scoped>\n",
       "    .dataframe tbody tr th:only-of-type {\n",
       "        vertical-align: middle;\n",
       "    }\n",
       "\n",
       "    .dataframe tbody tr th {\n",
       "        vertical-align: top;\n",
       "    }\n",
       "\n",
       "    .dataframe thead th {\n",
       "        text-align: right;\n",
       "    }\n",
       "</style>\n",
       "<table border=\"1\" class=\"dataframe\">\n",
       "  <thead>\n",
       "    <tr style=\"text-align: right;\">\n",
       "      <th></th>\n",
       "      <th>UG</th>\n",
       "      <th>Presc</th>\n",
       "      <th>ShPer</th>\n",
       "    </tr>\n",
       "  </thead>\n",
       "  <tbody>\n",
       "    <tr>\n",
       "      <th>0</th>\n",
       "      <td>101</td>\n",
       "      <td>503</td>\n",
       "      <td>10</td>\n",
       "    </tr>\n",
       "    <tr>\n",
       "      <th>1</th>\n",
       "      <td>1015</td>\n",
       "      <td>503</td>\n",
       "      <td>5</td>\n",
       "    </tr>\n",
       "    <tr>\n",
       "      <th>2</th>\n",
       "      <td>1016</td>\n",
       "      <td>500602</td>\n",
       "      <td>0</td>\n",
       "    </tr>\n",
       "    <tr>\n",
       "      <th>3</th>\n",
       "      <td>102</td>\n",
       "      <td>503</td>\n",
       "      <td>5</td>\n",
       "    </tr>\n",
       "    <tr>\n",
       "      <th>4</th>\n",
       "      <td>103</td>\n",
       "      <td>503</td>\n",
       "      <td>5</td>\n",
       "    </tr>\n",
       "  </tbody>\n",
       "</table>\n",
       "</div>"
      ],
      "text/plain": [
       "     UG   Presc ShPer\n",
       "0   101     503    10\n",
       "1  1015     503     5\n",
       "2  1016  500602     0\n",
       "3   102     503     5\n",
       "4   103     503     5"
      ]
     },
     "execution_count": 188,
     "metadata": {},
     "output_type": "execute_result"
    }
   ],
   "source": [
    "sol_stake = sol_stake[['UG','Presc','ShPer']]\n",
    "sol_stake.head()"
   ]
  },
  {
   "cell_type": "code",
   "execution_count": 189,
   "metadata": {},
   "outputs": [
    {
     "data": {
      "text/plain": [
       "1406"
      ]
     },
     "execution_count": 189,
     "metadata": {},
     "output_type": "execute_result"
    }
   ],
   "source": [
    "stake_stands = sol_stake.drop_duplicates(subset='UG').reset_index(drop=True)\n",
    "len(stake_stands)"
   ]
  },
  {
   "cell_type": "code",
   "execution_count": 190,
   "metadata": {},
   "outputs": [
    {
     "name": "stdout",
     "output_type": "stream",
     "text": [
      "212\n"
     ]
    },
    {
     "data": {
      "text/plain": [
       "106"
      ]
     },
     "execution_count": 190,
     "metadata": {},
     "output_type": "execute_result"
    }
   ],
   "source": [
    "stake_dupl = sol_stake[sol_stake.duplicated(subset='UG', keep=False)].sort_values(by='UG').reset_index(drop=True)\n",
    "print(len(stake_dupl))\n",
    "stake_dupl = sol_stake[sol_stake.duplicated(subset='UG', keep='last')].sort_values(by='UG').reset_index(drop=True)\n",
    "len(stake_dupl)"
   ]
  },
  {
   "cell_type": "markdown",
   "metadata": {},
   "source": [
    "## 1. 🔗 Merge prescription data and solution data"
   ]
  },
  {
   "cell_type": "markdown",
   "metadata": {},
   "source": [
    "To obtain the information in the required format for further work, we need to merge each solution with the prescription data.\n",
    "\n",
    "- Data needed from the prescription sheet: UG, Presc, species, area, period, Vremovido, rait0/5/10\n",
    "- Data needed from the solutions sheet: UG, Presc, ShPer\n"
   ]
  },
  {
   "cell_type": "markdown",
   "metadata": {},
   "source": [
    "### 0. Prep for merge"
   ]
  },
  {
   "cell_type": "code",
   "execution_count": 191,
   "metadata": {},
   "outputs": [],
   "source": [
    "# Formatting all dfs as string\n",
    "sol_mres = sol_mres.astype(str)\n",
    "sol_mwood = sol_mwood.astype(str)\n",
    "sol_stake = sol_stake.astype(str)\n",
    "presc = presc.astype(str)"
   ]
  },
  {
   "cell_type": "code",
   "execution_count": 192,
   "metadata": {},
   "outputs": [
    {
     "name": "stdout",
     "output_type": "stream",
     "text": [
      "Duplicates in sol_mres:\n",
      "0\n",
      "Duplicates in sol_mwood:\n",
      "0\n",
      "Duplicates in sol_stake:\n",
      "0\n"
     ]
    }
   ],
   "source": [
    "# Check for duplicates (again)\n",
    "print(\"Duplicates in sol_mres:\")\n",
    "print(sol_mres.duplicated(subset=['UG', 'Presc']).sum())\n",
    "\n",
    "print(\"Duplicates in sol_mwood:\")\n",
    "print(sol_mwood.duplicated(subset=['UG', 'Presc']).sum())\n",
    "\n",
    "print(\"Duplicates in sol_stake:\")\n",
    "print(sol_stake.duplicated(subset=['UG', 'Presc']).sum())"
   ]
  },
  {
   "cell_type": "code",
   "execution_count": 193,
   "metadata": {},
   "outputs": [
    {
     "name": "stdout",
     "output_type": "stream",
     "text": [
      "Duplicates UG in sol_mres:\n",
      "106\n",
      "Duplicates UG in sol_mwood:\n",
      "106\n",
      "Duplicates UG in sol_stake:\n",
      "106\n"
     ]
    }
   ],
   "source": [
    "# Check for duplicates (again)\n",
    "print(\"Duplicates UG in sol_mres:\")\n",
    "print(sol_mres.duplicated(subset=['UG']).sum())\n",
    "\n",
    "print(\"Duplicates UG in sol_mwood:\")\n",
    "print(sol_mwood.duplicated(subset=['UG']).sum())\n",
    "\n",
    "print(\"Duplicates UG in sol_stake:\")\n",
    "print(sol_stake.duplicated(subset=['UG']).sum())"
   ]
  },
  {
   "cell_type": "code",
   "execution_count": 194,
   "metadata": {},
   "outputs": [
    {
     "data": {
      "text/html": [
       "<div>\n",
       "<style scoped>\n",
       "    .dataframe tbody tr th:only-of-type {\n",
       "        vertical-align: middle;\n",
       "    }\n",
       "\n",
       "    .dataframe tbody tr th {\n",
       "        vertical-align: top;\n",
       "    }\n",
       "\n",
       "    .dataframe thead th {\n",
       "        text-align: right;\n",
       "    }\n",
       "</style>\n",
       "<table border=\"1\" class=\"dataframe\">\n",
       "  <thead>\n",
       "    <tr style=\"text-align: right;\">\n",
       "      <th></th>\n",
       "      <th>UG</th>\n",
       "      <th>Presc</th>\n",
       "      <th>ShPer</th>\n",
       "    </tr>\n",
       "  </thead>\n",
       "  <tbody>\n",
       "    <tr>\n",
       "      <th>977</th>\n",
       "      <td>1015</td>\n",
       "      <td>503</td>\n",
       "      <td>5</td>\n",
       "    </tr>\n",
       "    <tr>\n",
       "      <th>999</th>\n",
       "      <td>1037</td>\n",
       "      <td>35700</td>\n",
       "      <td>0</td>\n",
       "    </tr>\n",
       "    <tr>\n",
       "      <th>1033</th>\n",
       "      <td>1070</td>\n",
       "      <td>500700</td>\n",
       "      <td>5</td>\n",
       "    </tr>\n",
       "    <tr>\n",
       "      <th>1037</th>\n",
       "      <td>1073</td>\n",
       "      <td>500700</td>\n",
       "      <td>5</td>\n",
       "    </tr>\n",
       "    <tr>\n",
       "      <th>1057</th>\n",
       "      <td>1093</td>\n",
       "      <td>503</td>\n",
       "      <td>5</td>\n",
       "    </tr>\n",
       "    <tr>\n",
       "      <th>...</th>\n",
       "      <td>...</td>\n",
       "      <td>...</td>\n",
       "      <td>...</td>\n",
       "    </tr>\n",
       "    <tr>\n",
       "      <th>933</th>\n",
       "      <td>975</td>\n",
       "      <td>500700</td>\n",
       "      <td>5</td>\n",
       "    </tr>\n",
       "    <tr>\n",
       "      <th>935</th>\n",
       "      <td>976</td>\n",
       "      <td>500700</td>\n",
       "      <td>5</td>\n",
       "    </tr>\n",
       "    <tr>\n",
       "      <th>937</th>\n",
       "      <td>977</td>\n",
       "      <td>501700</td>\n",
       "      <td>5</td>\n",
       "    </tr>\n",
       "    <tr>\n",
       "      <th>939</th>\n",
       "      <td>978</td>\n",
       "      <td>500700</td>\n",
       "      <td>5</td>\n",
       "    </tr>\n",
       "    <tr>\n",
       "      <th>941</th>\n",
       "      <td>979</td>\n",
       "      <td>500700</td>\n",
       "      <td>5</td>\n",
       "    </tr>\n",
       "  </tbody>\n",
       "</table>\n",
       "<p>106 rows × 3 columns</p>\n",
       "</div>"
      ],
      "text/plain": [
       "        UG   Presc ShPer\n",
       "977   1015     503     5\n",
       "999   1037   35700     0\n",
       "1033  1070  500700     5\n",
       "1037  1073  500700     5\n",
       "1057  1093     503     5\n",
       "...    ...     ...   ...\n",
       "933    975  500700     5\n",
       "935    976  500700     5\n",
       "937    977  501700     5\n",
       "939    978  500700     5\n",
       "941    979  500700     5\n",
       "\n",
       "[106 rows x 3 columns]"
      ]
     },
     "execution_count": 194,
     "metadata": {},
     "output_type": "execute_result"
    }
   ],
   "source": [
    "sol_mres[sol_mres.duplicated(subset=['UG'])==True].sort_values(by='UG')"
   ]
  },
  {
   "cell_type": "markdown",
   "metadata": {},
   "source": [
    "### a. MaxWood & MaxRes solution"
   ]
  },
  {
   "cell_type": "markdown",
   "metadata": {},
   "source": [
    "#### 1. Filter prescription df for only rows (prescriptions) selected for MaxWood or MaxRES solution"
   ]
  },
  {
   "cell_type": "code",
   "execution_count": 195,
   "metadata": {},
   "outputs": [
    {
     "name": "stdout",
     "output_type": "stream",
     "text": [
      "['nan' 'Yes']\n",
      "['nan' 'Yes']\n"
     ]
    }
   ],
   "source": [
    "# look at the possible values that describe if a prescription is part of maxwood /maxres solution\n",
    "print(presc['NasolMaxWood'].unique())\n",
    "print(presc['NasolMaxRES'].unique())"
   ]
  },
  {
   "cell_type": "code",
   "execution_count": 196,
   "metadata": {},
   "outputs": [
    {
     "name": "stdout",
     "output_type": "stream",
     "text": [
      "length mres: 8212\n",
      "length mwood: 7670\n"
     ]
    }
   ],
   "source": [
    "# filter prescription data for prescriptions contained in mres and mwood solution \n",
    "filter_mres = presc[presc['NasolMaxRES'] == 'Yes']\n",
    "print('length mres:', len(filter_mres))\n",
    "\n",
    "filter_mwood = presc[presc['NasolMaxWood'] == 'Yes']\n",
    "print('length mwood:', len(filter_mwood))"
   ]
  },
  {
   "cell_type": "code",
   "execution_count": 197,
   "metadata": {},
   "outputs": [
    {
     "name": "stdout",
     "output_type": "stream",
     "text": [
      "remaining columns:\n"
     ]
    },
    {
     "data": {
      "text/html": [
       "<div>\n",
       "<style scoped>\n",
       "    .dataframe tbody tr th:only-of-type {\n",
       "        vertical-align: middle;\n",
       "    }\n",
       "\n",
       "    .dataframe tbody tr th {\n",
       "        vertical-align: top;\n",
       "    }\n",
       "\n",
       "    .dataframe thead th {\n",
       "        text-align: right;\n",
       "    }\n",
       "</style>\n",
       "<table border=\"1\" class=\"dataframe\">\n",
       "  <thead>\n",
       "    <tr style=\"text-align: right;\">\n",
       "      <th></th>\n",
       "      <th>UG</th>\n",
       "      <th>Presc</th>\n",
       "      <th>species</th>\n",
       "      <th>area</th>\n",
       "      <th>period</th>\n",
       "      <th>Vremovido(ton)</th>\n",
       "      <th>rait0</th>\n",
       "      <th>rait5</th>\n",
       "      <th>rait10</th>\n",
       "    </tr>\n",
       "  </thead>\n",
       "  <tbody>\n",
       "    <tr>\n",
       "      <th>129</th>\n",
       "      <td>1</td>\n",
       "      <td>1601</td>\n",
       "      <td>Ec</td>\n",
       "      <td>42.60178231</td>\n",
       "      <td>1</td>\n",
       "      <td>2999.2719825</td>\n",
       "      <td>110.7646</td>\n",
       "      <td>115.0248</td>\n",
       "      <td>85.2036</td>\n",
       "    </tr>\n",
       "  </tbody>\n",
       "</table>\n",
       "</div>"
      ],
      "text/plain": [
       "    UG Presc species         area period Vremovido(ton)     rait0     rait5  \\\n",
       "129  1  1601      Ec  42.60178231      1   2999.2719825  110.7646  115.0248   \n",
       "\n",
       "      rait10  \n",
       "129  85.2036  "
      ]
     },
     "execution_count": 197,
     "metadata": {},
     "output_type": "execute_result"
    }
   ],
   "source": [
    "# subset for the needed columns\n",
    "filter_mres = filter_mres[['UG', 'Presc', 'species', 'area', 'period', 'Vremovido(ton)', 'rait0', 'rait5', 'rait10']]\n",
    "filter_mwood = filter_mwood[['UG', 'Presc', 'species',  'area', 'period', 'Vremovido(ton)', 'rait0', 'rait5', 'rait10']]\n",
    "print('remaining columns:')\n",
    "filter_mres.head(1)"
   ]
  },
  {
   "cell_type": "markdown",
   "metadata": {},
   "source": [
    "#### 2. Merge to obtain `ShPer` from solutions sheet"
   ]
  },
  {
   "cell_type": "code",
   "execution_count": 198,
   "metadata": {},
   "outputs": [
    {
     "name": "stdout",
     "output_type": "stream",
     "text": [
      "mres before merge shape: (8212, 9) (1512, 3)\n",
      "after merge shape: (8212, 10)\n",
      "mwood before merge shape: (7670, 9) (1512, 3)\n",
      "after merge shape: (7670, 10)\n"
     ]
    }
   ],
   "source": [
    "# left merge mres with data from solution sheet to get shper values\n",
    "print('mres before merge shape:', filter_mres.shape, sol_mres.shape)\n",
    "mres = pd.merge(filter_mres, sol_mres, how='outer', on=['UG', 'Presc'])\n",
    "print('after merge shape:', mres.shape)\n",
    "\n",
    "# left merge mwood with data from solution sheet to get shper values\n",
    "print('mwood before merge shape:', filter_mwood.shape, sol_mwood.shape)\n",
    "mwood = pd.merge(filter_mwood, sol_mwood, how='outer', on=['UG', 'Presc'])\n",
    "print('after merge shape:', mwood.shape)\n"
   ]
  },
  {
   "cell_type": "code",
   "execution_count": 199,
   "metadata": {},
   "outputs": [
    {
     "data": {
      "text/html": [
       "<div>\n",
       "<style scoped>\n",
       "    .dataframe tbody tr th:only-of-type {\n",
       "        vertical-align: middle;\n",
       "    }\n",
       "\n",
       "    .dataframe tbody tr th {\n",
       "        vertical-align: top;\n",
       "    }\n",
       "\n",
       "    .dataframe thead th {\n",
       "        text-align: right;\n",
       "    }\n",
       "</style>\n",
       "<table border=\"1\" class=\"dataframe\">\n",
       "  <thead>\n",
       "    <tr style=\"text-align: right;\">\n",
       "      <th></th>\n",
       "      <th>UG</th>\n",
       "      <th>Presc</th>\n",
       "      <th>species</th>\n",
       "      <th>area</th>\n",
       "      <th>period</th>\n",
       "      <th>Vremovido(ton)</th>\n",
       "      <th>rait0</th>\n",
       "      <th>rait5</th>\n",
       "      <th>rait10</th>\n",
       "      <th>ShPer</th>\n",
       "    </tr>\n",
       "  </thead>\n",
       "  <tbody>\n",
       "    <tr>\n",
       "      <th>0</th>\n",
       "      <td>1</td>\n",
       "      <td>1601</td>\n",
       "      <td>Ec</td>\n",
       "      <td>42.60178231</td>\n",
       "      <td>1</td>\n",
       "      <td>2999.2719825</td>\n",
       "      <td>110.7646</td>\n",
       "      <td>115.0248</td>\n",
       "      <td>85.2036</td>\n",
       "      <td>5</td>\n",
       "    </tr>\n",
       "  </tbody>\n",
       "</table>\n",
       "</div>"
      ],
      "text/plain": [
       "  UG Presc species         area period Vremovido(ton)     rait0     rait5  \\\n",
       "0  1  1601      Ec  42.60178231      1   2999.2719825  110.7646  115.0248   \n",
       "\n",
       "    rait10 ShPer  \n",
       "0  85.2036     5  "
      ]
     },
     "execution_count": 199,
     "metadata": {},
     "output_type": "execute_result"
    }
   ],
   "source": [
    "mres.head(1)"
   ]
  },
  {
   "cell_type": "markdown",
   "metadata": {},
   "source": [
    "#### 3. Validate the merged data\n",
    "There should be no NaN values in mres or mwood:"
   ]
  },
  {
   "cell_type": "code",
   "execution_count": 200,
   "metadata": {},
   "outputs": [
    {
     "name": "stdout",
     "output_type": "stream",
     "text": [
      "NaN values in mres:\n",
      "0\n",
      "NaN values in mwood:\n",
      "0\n"
     ]
    }
   ],
   "source": [
    "# check for NaN values in mres and mwood\n",
    "\n",
    "# Check for NaN values in mres\n",
    "print(\"NaN values in mres:\")\n",
    "print(mres.isna().sum().sum())\n",
    "\n",
    "# Check for NaN values in mwood\n",
    "print(\"NaN values in mwood:\")\n",
    "print(mwood.isna().sum().sum())"
   ]
  },
  {
   "cell_type": "markdown",
   "metadata": {},
   "source": [
    "We should get the same mres (mwood) dfs by directly merging prescription data (df) and sol_mres (sol_mwood), then filter out the NaNs values after. Validate this:"
   ]
  },
  {
   "cell_type": "code",
   "execution_count": 201,
   "metadata": {},
   "outputs": [
    {
     "name": "stdout",
     "output_type": "stream",
     "text": [
      "MaxRes\n",
      "before merge shapes: (169693, 11) (1512, 3)\n",
      "after merge shape: (169693, 12)\n",
      "after filtering out NaN values shape: (8212, 12)\n",
      "------------------------\n",
      "maxWood\n",
      "before merge shape: (169693, 11) (1512, 3)\n",
      "after merge shape: (169693, 12)\n",
      "after filtering out NaN shape: (7670, 12)\n"
     ]
    }
   ],
   "source": [
    "# validating the obtained merged dfs for maxres and maxwood\n",
    "\n",
    "print('MaxRes')\n",
    "print('before merge shapes:', presc.shape, sol_mres.shape)\n",
    "mres2 = pd.merge(presc, sol_mres, how='left', on=['UG', 'Presc'])\n",
    "print('after merge shape:', mres2.shape)\n",
    "mres2 = mres2[mres2['ShPer'].notna()]\n",
    "print('after filtering out NaN values shape:', mres2.shape)\n",
    "\n",
    "print('------------------------')\n",
    "\n",
    "print('maxWood')\n",
    "print('before merge shape:', presc.shape, sol_mwood.shape)\n",
    "mwood2 = pd.merge(presc, sol_mwood, how='left', on=['UG', 'Presc'])\n",
    "print('after merge shape:', mwood2.shape)\n",
    "mwood2 = mwood2[mwood2['ShPer'].notna()]\n",
    "print('after filtering out NaN shape:', mwood2.shape)"
   ]
  },
  {
   "cell_type": "code",
   "execution_count": 202,
   "metadata": {},
   "outputs": [
    {
     "data": {
      "text/html": [
       "<div>\n",
       "<style scoped>\n",
       "    .dataframe tbody tr th:only-of-type {\n",
       "        vertical-align: middle;\n",
       "    }\n",
       "\n",
       "    .dataframe tbody tr th {\n",
       "        vertical-align: top;\n",
       "    }\n",
       "\n",
       "    .dataframe thead th {\n",
       "        text-align: right;\n",
       "    }\n",
       "</style>\n",
       "<table border=\"1\" class=\"dataframe\">\n",
       "  <thead>\n",
       "    <tr style=\"text-align: right;\">\n",
       "      <th></th>\n",
       "      <th>UG</th>\n",
       "      <th>Presc</th>\n",
       "      <th>species</th>\n",
       "      <th>area</th>\n",
       "      <th>period</th>\n",
       "      <th>Vremovido(ton)</th>\n",
       "      <th>rait0</th>\n",
       "      <th>rait5</th>\n",
       "      <th>rait10</th>\n",
       "      <th>ShPer</th>\n",
       "    </tr>\n",
       "  </thead>\n",
       "  <tbody>\n",
       "    <tr>\n",
       "      <th>0</th>\n",
       "      <td>1</td>\n",
       "      <td>1601</td>\n",
       "      <td>Ec</td>\n",
       "      <td>42.60178231</td>\n",
       "      <td>1</td>\n",
       "      <td>2999.2719825</td>\n",
       "      <td>110.7646</td>\n",
       "      <td>115.0248</td>\n",
       "      <td>85.2036</td>\n",
       "      <td>5</td>\n",
       "    </tr>\n",
       "  </tbody>\n",
       "</table>\n",
       "</div>"
      ],
      "text/plain": [
       "  UG Presc species         area period Vremovido(ton)     rait0     rait5  \\\n",
       "0  1  1601      Ec  42.60178231      1   2999.2719825  110.7646  115.0248   \n",
       "\n",
       "    rait10 ShPer  \n",
       "0  85.2036     5  "
      ]
     },
     "execution_count": 202,
     "metadata": {},
     "output_type": "execute_result"
    }
   ],
   "source": [
    "mres.head(1)"
   ]
  },
  {
   "cell_type": "code",
   "execution_count": 203,
   "metadata": {},
   "outputs": [
    {
     "data": {
      "text/html": [
       "<div>\n",
       "<style scoped>\n",
       "    .dataframe tbody tr th:only-of-type {\n",
       "        vertical-align: middle;\n",
       "    }\n",
       "\n",
       "    .dataframe tbody tr th {\n",
       "        vertical-align: top;\n",
       "    }\n",
       "\n",
       "    .dataframe thead th {\n",
       "        text-align: right;\n",
       "    }\n",
       "</style>\n",
       "<table border=\"1\" class=\"dataframe\">\n",
       "  <thead>\n",
       "    <tr style=\"text-align: right;\">\n",
       "      <th></th>\n",
       "      <th>UG</th>\n",
       "      <th>Presc</th>\n",
       "      <th>species</th>\n",
       "      <th>area</th>\n",
       "      <th>period</th>\n",
       "      <th>Vremovido(ton)</th>\n",
       "      <th>rait0</th>\n",
       "      <th>rait5</th>\n",
       "      <th>rait10</th>\n",
       "      <th>ShPer</th>\n",
       "    </tr>\n",
       "  </thead>\n",
       "  <tbody>\n",
       "    <tr>\n",
       "      <th>0</th>\n",
       "      <td>1</td>\n",
       "      <td>3502</td>\n",
       "      <td>Ec</td>\n",
       "      <td>42.60178231</td>\n",
       "      <td>1</td>\n",
       "      <td>3968.3560500000003</td>\n",
       "      <td>136.3257</td>\n",
       "      <td>149.1062</td>\n",
       "      <td>119.285</td>\n",
       "      <td>0</td>\n",
       "    </tr>\n",
       "  </tbody>\n",
       "</table>\n",
       "</div>"
      ],
      "text/plain": [
       "  UG Presc species         area period      Vremovido(ton)     rait0  \\\n",
       "0  1  3502      Ec  42.60178231      1  3968.3560500000003  136.3257   \n",
       "\n",
       "      rait5   rait10 ShPer  \n",
       "0  149.1062  119.285     0  "
      ]
     },
     "execution_count": 203,
     "metadata": {},
     "output_type": "execute_result"
    }
   ],
   "source": [
    "mwood.head(1)"
   ]
  },
  {
   "cell_type": "markdown",
   "metadata": {},
   "source": [
    "### b. Stakeholder solution"
   ]
  },
  {
   "cell_type": "markdown",
   "metadata": {},
   "source": [
    "Merge to obtain `ShPer` from solution data"
   ]
  },
  {
   "cell_type": "code",
   "execution_count": 204,
   "metadata": {},
   "outputs": [
    {
     "name": "stdout",
     "output_type": "stream",
     "text": [
      "before merge shape: (169693, 11) (1512, 3)\n",
      "after merge shape: (169693, 12)\n",
      "after filtering out NaN values shape: (8391, 12)\n"
     ]
    }
   ],
   "source": [
    "# merge with data from solution data to get shper value\n",
    "print('before merge shape:', presc.shape, sol_stake.shape)\n",
    "stake = pd.merge(presc, sol_stake, how='outer', on=['UG', 'Presc'])\n",
    "print('after merge shape:', stake.shape)\n",
    "stake = stake[stake['ShPer'].notna()]\n",
    "print('after filtering out NaN values shape:', stake.shape)"
   ]
  },
  {
   "cell_type": "code",
   "execution_count": 205,
   "metadata": {},
   "outputs": [
    {
     "data": {
      "text/html": [
       "<div>\n",
       "<style scoped>\n",
       "    .dataframe tbody tr th:only-of-type {\n",
       "        vertical-align: middle;\n",
       "    }\n",
       "\n",
       "    .dataframe tbody tr th {\n",
       "        vertical-align: top;\n",
       "    }\n",
       "\n",
       "    .dataframe thead th {\n",
       "        text-align: right;\n",
       "    }\n",
       "</style>\n",
       "<table border=\"1\" class=\"dataframe\">\n",
       "  <thead>\n",
       "    <tr style=\"text-align: right;\">\n",
       "      <th></th>\n",
       "      <th>UG</th>\n",
       "      <th>species</th>\n",
       "      <th>Presc</th>\n",
       "      <th>area</th>\n",
       "      <th>NasolMaxRES</th>\n",
       "      <th>NasolMaxWood</th>\n",
       "      <th>period</th>\n",
       "      <th>Vremovido(ton)</th>\n",
       "      <th>rait0</th>\n",
       "      <th>rait5</th>\n",
       "      <th>rait10</th>\n",
       "      <th>ShPer</th>\n",
       "    </tr>\n",
       "  </thead>\n",
       "  <tbody>\n",
       "    <tr>\n",
       "      <th>59</th>\n",
       "      <td>1</td>\n",
       "      <td>Ec</td>\n",
       "      <td>1601</td>\n",
       "      <td>42.60178231</td>\n",
       "      <td>Yes</td>\n",
       "      <td>nan</td>\n",
       "      <td>1</td>\n",
       "      <td>2999.2719825</td>\n",
       "      <td>110.7646</td>\n",
       "      <td>115.0248</td>\n",
       "      <td>85.2036</td>\n",
       "      <td>5</td>\n",
       "    </tr>\n",
       "    <tr>\n",
       "      <th>60</th>\n",
       "      <td>1</td>\n",
       "      <td>Qr</td>\n",
       "      <td>1601</td>\n",
       "      <td>42.60178231</td>\n",
       "      <td>Yes</td>\n",
       "      <td>nan</td>\n",
       "      <td>1</td>\n",
       "      <td>0.0</td>\n",
       "      <td>51.1221</td>\n",
       "      <td>63.9027</td>\n",
       "      <td>51.1221</td>\n",
       "      <td>5</td>\n",
       "    </tr>\n",
       "  </tbody>\n",
       "</table>\n",
       "</div>"
      ],
      "text/plain": [
       "   UG species Presc         area NasolMaxRES NasolMaxWood period  \\\n",
       "59  1      Ec  1601  42.60178231         Yes          nan      1   \n",
       "60  1      Qr  1601  42.60178231         Yes          nan      1   \n",
       "\n",
       "   Vremovido(ton)     rait0     rait5   rait10 ShPer  \n",
       "59   2999.2719825  110.7646  115.0248  85.2036     5  \n",
       "60            0.0   51.1221   63.9027  51.1221     5  "
      ]
     },
     "execution_count": 205,
     "metadata": {},
     "output_type": "execute_result"
    }
   ],
   "source": [
    "stake.head(2)"
   ]
  },
  {
   "cell_type": "markdown",
   "metadata": {},
   "source": [
    "### 4. Validation"
   ]
  },
  {
   "cell_type": "code",
   "execution_count": 206,
   "metadata": {},
   "outputs": [
    {
     "name": "stdout",
     "output_type": "stream",
     "text": [
      "Unique UG values in mwood: 1406\n",
      "Unique UG values in mres: 1406\n",
      "Unique UG values in stake: 1406\n"
     ]
    }
   ],
   "source": [
    "# check if all solution  data (stake, mres, mwood) contain the same number of unique UGs\n",
    "unique_ug_mwood = mwood['UG'].nunique()\n",
    "unique_ug_mres = mres['UG'].nunique()\n",
    "unique_ug_stake = stake['UG'].nunique()\n",
    "\n",
    "# Print the number of unique UG values\n",
    "print(f\"Unique UG values in mwood: {unique_ug_mwood}\")\n",
    "print(f\"Unique UG values in mres: {unique_ug_mres}\")\n",
    "print(f\"Unique UG values in stake: {unique_ug_stake}\")"
   ]
  },
  {
   "cell_type": "code",
   "execution_count": 207,
   "metadata": {},
   "outputs": [
    {
     "name": "stdout",
     "output_type": "stream",
     "text": [
      "NaN values in mwood: 0\n",
      "\n",
      "NaN values in mres: 0\n",
      "\n",
      "NaN values in stake: 0\n",
      "\n"
     ]
    }
   ],
   "source": [
    "# check for NaN values\n",
    "print(f\"NaN values in mwood: {mwood.isna().sum().sum()}\\n\")\n",
    "print(f\"NaN values in mres: {mres.isna().sum().sum()}\\n\")\n",
    "print(f\"NaN values in stake: {stake.isna().sum().sum()}\\n\")"
   ]
  },
  {
   "cell_type": "markdown",
   "metadata": {},
   "source": [
    "## 🔍 Look at a special cases:\n",
    "### a. Different species planted together in the same stand\n",
    "In the provided harvesting schedules (=solutions), we have, for some `UG`, \n",
    "- in the same `period`, \n",
    "- two different prescriptions `Presc`,\n",
    "- (for two different  `species`).\n",
    "\n",
    "These are \"**mixed stands**\" where two different species are prescribed/planted together:"
   ]
  },
  {
   "cell_type": "code",
   "execution_count": 208,
   "metadata": {},
   "outputs": [
    {
     "name": "stdout",
     "output_type": "stream",
     "text": [
      "2221\n",
      "1304\n",
      "917\n"
     ]
    },
    {
     "data": {
      "text/html": [
       "<div>\n",
       "<style scoped>\n",
       "    .dataframe tbody tr th:only-of-type {\n",
       "        vertical-align: middle;\n",
       "    }\n",
       "\n",
       "    .dataframe tbody tr th {\n",
       "        vertical-align: top;\n",
       "    }\n",
       "\n",
       "    .dataframe thead th {\n",
       "        text-align: right;\n",
       "    }\n",
       "</style>\n",
       "<table border=\"1\" class=\"dataframe\">\n",
       "  <thead>\n",
       "    <tr style=\"text-align: right;\">\n",
       "      <th></th>\n",
       "      <th>UG</th>\n",
       "      <th>Presc</th>\n",
       "      <th>species</th>\n",
       "      <th>area</th>\n",
       "      <th>period</th>\n",
       "      <th>Vremovido(ton)</th>\n",
       "      <th>rait0</th>\n",
       "      <th>rait5</th>\n",
       "      <th>rait10</th>\n",
       "      <th>ShPer</th>\n",
       "    </tr>\n",
       "  </thead>\n",
       "  <tbody>\n",
       "    <tr>\n",
       "      <th>104</th>\n",
       "      <td>1015</td>\n",
       "      <td>3</td>\n",
       "      <td>Ec</td>\n",
       "      <td>2.934230183</td>\n",
       "      <td>1</td>\n",
       "      <td>47.336467500000005</td>\n",
       "      <td>9.683</td>\n",
       "      <td>11.7369</td>\n",
       "      <td>11.1501</td>\n",
       "      <td>5</td>\n",
       "    </tr>\n",
       "    <tr>\n",
       "      <th>109</th>\n",
       "      <td>1015</td>\n",
       "      <td>503</td>\n",
       "      <td>Pb</td>\n",
       "      <td>8.036243378</td>\n",
       "      <td>1</td>\n",
       "      <td>0.0</td>\n",
       "      <td>8.0362</td>\n",
       "      <td>9.6435</td>\n",
       "      <td>8.8399</td>\n",
       "      <td>5</td>\n",
       "    </tr>\n",
       "    <tr>\n",
       "      <th>105</th>\n",
       "      <td>1015</td>\n",
       "      <td>3</td>\n",
       "      <td>Ec</td>\n",
       "      <td>2.934230183</td>\n",
       "      <td>2</td>\n",
       "      <td>102.99150000000002</td>\n",
       "      <td>9.683</td>\n",
       "      <td>11.7369</td>\n",
       "      <td>11.4435</td>\n",
       "      <td>5</td>\n",
       "    </tr>\n",
       "    <tr>\n",
       "      <th>110</th>\n",
       "      <td>1015</td>\n",
       "      <td>503</td>\n",
       "      <td>Pb</td>\n",
       "      <td>8.036243378</td>\n",
       "      <td>2</td>\n",
       "      <td>0.0</td>\n",
       "      <td>9.6435</td>\n",
       "      <td>11.2507</td>\n",
       "      <td>10.4471</td>\n",
       "      <td>5</td>\n",
       "    </tr>\n",
       "  </tbody>\n",
       "</table>\n",
       "</div>"
      ],
      "text/plain": [
       "       UG Presc species         area period      Vremovido(ton)   rait0  \\\n",
       "104  1015     3      Ec  2.934230183      1  47.336467500000005   9.683   \n",
       "109  1015   503      Pb  8.036243378      1                 0.0  8.0362   \n",
       "105  1015     3      Ec  2.934230183      2  102.99150000000002   9.683   \n",
       "110  1015   503      Pb  8.036243378      2                 0.0  9.6435   \n",
       "\n",
       "       rait5   rait10 ShPer  \n",
       "104  11.7369  11.1501     5  \n",
       "109   9.6435   8.8399     5  \n",
       "105  11.7369  11.4435     5  \n",
       "110  11.2507  10.4471     5  "
      ]
     },
     "execution_count": 208,
     "metadata": {},
     "output_type": "execute_result"
    }
   ],
   "source": [
    "# filter mixed stands in mres and look at some example rows\n",
    "mres_dupl = mres[mres.duplicated(subset=['UG','period'], keep=False)].copy()\n",
    "mres_mixed = mres_dupl[~mres_dupl.duplicated(subset=['UG','period', 'Presc'], keep=False)].sort_values(by=['UG','period'])\n",
    "print(len(mres_dupl))\n",
    "print(len(mres_dupl[mres_dupl.duplicated(subset=['UG','period', 'Presc'], keep=False)]))\n",
    "print(len(mres_mixed))\n",
    "mres_mixed.head(4)"
   ]
  },
  {
   "cell_type": "markdown",
   "metadata": {},
   "source": [
    "### b. Species changes\n",
    "\n",
    "In the harvesting schedules, we have for some `UG` two rows of data\n",
    "- in the same `period`\n",
    "- with the same prescription `presc`\n",
    "- but with two different `species`.\n",
    "\n",
    "These are species changes, as already observed when looking at the full prescription data."
   ]
  },
  {
   "cell_type": "code",
   "execution_count": 209,
   "metadata": {},
   "outputs": [
    {
     "name": "stdout",
     "output_type": "stream",
     "text": [
      "# of species changes in MaxRes: 652.0\n"
     ]
    },
    {
     "data": {
      "text/html": [
       "<div>\n",
       "<style scoped>\n",
       "    .dataframe tbody tr th:only-of-type {\n",
       "        vertical-align: middle;\n",
       "    }\n",
       "\n",
       "    .dataframe tbody tr th {\n",
       "        vertical-align: top;\n",
       "    }\n",
       "\n",
       "    .dataframe thead th {\n",
       "        text-align: right;\n",
       "    }\n",
       "</style>\n",
       "<table border=\"1\" class=\"dataframe\">\n",
       "  <thead>\n",
       "    <tr style=\"text-align: right;\">\n",
       "      <th></th>\n",
       "      <th>UG</th>\n",
       "      <th>Presc</th>\n",
       "      <th>species</th>\n",
       "      <th>area</th>\n",
       "      <th>period</th>\n",
       "      <th>Vremovido(ton)</th>\n",
       "      <th>rait0</th>\n",
       "      <th>rait5</th>\n",
       "      <th>rait10</th>\n",
       "      <th>ShPer</th>\n",
       "    </tr>\n",
       "  </thead>\n",
       "  <tbody>\n",
       "    <tr>\n",
       "      <th>0</th>\n",
       "      <td>1</td>\n",
       "      <td>1601</td>\n",
       "      <td>Ec</td>\n",
       "      <td>42.60178231</td>\n",
       "      <td>1</td>\n",
       "      <td>2999.2719825</td>\n",
       "      <td>110.7646</td>\n",
       "      <td>115.0248</td>\n",
       "      <td>85.2036</td>\n",
       "      <td>5</td>\n",
       "    </tr>\n",
       "    <tr>\n",
       "      <th>1</th>\n",
       "      <td>1</td>\n",
       "      <td>1601</td>\n",
       "      <td>Qr</td>\n",
       "      <td>42.60178231</td>\n",
       "      <td>1</td>\n",
       "      <td>0.0</td>\n",
       "      <td>51.1221</td>\n",
       "      <td>63.9027</td>\n",
       "      <td>51.1221</td>\n",
       "      <td>5</td>\n",
       "    </tr>\n",
       "    <tr>\n",
       "      <th>7</th>\n",
       "      <td>10</td>\n",
       "      <td>21700</td>\n",
       "      <td>Ec</td>\n",
       "      <td>15.59066931</td>\n",
       "      <td>2</td>\n",
       "      <td>3141.32499</td>\n",
       "      <td>3.1181</td>\n",
       "      <td>15.5907</td>\n",
       "      <td>15.5907</td>\n",
       "      <td>5</td>\n",
       "    </tr>\n",
       "    <tr>\n",
       "      <th>8</th>\n",
       "      <td>10</td>\n",
       "      <td>21700</td>\n",
       "      <td>Sb</td>\n",
       "      <td>15.59066931</td>\n",
       "      <td>2</td>\n",
       "      <td>0.0</td>\n",
       "      <td>62.3627</td>\n",
       "      <td>62.3627</td>\n",
       "      <td>62.3627</td>\n",
       "      <td>5</td>\n",
       "    </tr>\n",
       "  </tbody>\n",
       "</table>\n",
       "</div>"
      ],
      "text/plain": [
       "   UG  Presc species         area period Vremovido(ton)     rait0     rait5  \\\n",
       "0   1   1601      Ec  42.60178231      1   2999.2719825  110.7646  115.0248   \n",
       "1   1   1601      Qr  42.60178231      1            0.0   51.1221   63.9027   \n",
       "7  10  21700      Ec  15.59066931      2     3141.32499    3.1181   15.5907   \n",
       "8  10  21700      Sb  15.59066931      2            0.0   62.3627   62.3627   \n",
       "\n",
       "    rait10 ShPer  \n",
       "0  85.2036     5  \n",
       "1  51.1221     5  \n",
       "7  15.5907     5  \n",
       "8  62.3627     5  "
      ]
     },
     "execution_count": 209,
     "metadata": {},
     "output_type": "execute_result"
    }
   ],
   "source": [
    "# species changes in mres\n",
    "mres_change = mres[mres.duplicated(subset=['UG','period', 'Presc'], keep=False)].sort_values(by=['UG','period'])\n",
    "print('# of species changes in MaxRes:', len(mres_change)/2)\n",
    "mres_change.head(4)"
   ]
  },
  {
   "cell_type": "code",
   "execution_count": 210,
   "metadata": {},
   "outputs": [
    {
     "name": "stdout",
     "output_type": "stream",
     "text": [
      "# of species changes in MaxWood: 110.0\n"
     ]
    },
    {
     "data": {
      "text/html": [
       "<div>\n",
       "<style scoped>\n",
       "    .dataframe tbody tr th:only-of-type {\n",
       "        vertical-align: middle;\n",
       "    }\n",
       "\n",
       "    .dataframe tbody tr th {\n",
       "        vertical-align: top;\n",
       "    }\n",
       "\n",
       "    .dataframe thead th {\n",
       "        text-align: right;\n",
       "    }\n",
       "</style>\n",
       "<table border=\"1\" class=\"dataframe\">\n",
       "  <thead>\n",
       "    <tr style=\"text-align: right;\">\n",
       "      <th></th>\n",
       "      <th>UG</th>\n",
       "      <th>Presc</th>\n",
       "      <th>species</th>\n",
       "      <th>area</th>\n",
       "      <th>period</th>\n",
       "      <th>Vremovido(ton)</th>\n",
       "      <th>rait0</th>\n",
       "      <th>rait5</th>\n",
       "      <th>rait10</th>\n",
       "      <th>ShPer</th>\n",
       "    </tr>\n",
       "  </thead>\n",
       "  <tbody>\n",
       "    <tr>\n",
       "      <th>0</th>\n",
       "      <td>1</td>\n",
       "      <td>3502</td>\n",
       "      <td>Ec</td>\n",
       "      <td>42.60178231</td>\n",
       "      <td>1</td>\n",
       "      <td>3968.3560500000003</td>\n",
       "      <td>136.3257</td>\n",
       "      <td>149.1062</td>\n",
       "      <td>119.285</td>\n",
       "      <td>0</td>\n",
       "    </tr>\n",
       "    <tr>\n",
       "      <th>1</th>\n",
       "      <td>1</td>\n",
       "      <td>3502</td>\n",
       "      <td>Pb</td>\n",
       "      <td>42.60178231</td>\n",
       "      <td>1</td>\n",
       "      <td>0.0</td>\n",
       "      <td>4.2602</td>\n",
       "      <td>4.2602</td>\n",
       "      <td>4.2602</td>\n",
       "      <td>0</td>\n",
       "    </tr>\n",
       "    <tr>\n",
       "      <th>226</th>\n",
       "      <td>1038</td>\n",
       "      <td>23502</td>\n",
       "      <td>Ec</td>\n",
       "      <td>16.20559165</td>\n",
       "      <td>1</td>\n",
       "      <td>835.3823625</td>\n",
       "      <td>8.1028</td>\n",
       "      <td>8.1028</td>\n",
       "      <td>8.1028</td>\n",
       "      <td>5</td>\n",
       "    </tr>\n",
       "    <tr>\n",
       "      <th>227</th>\n",
       "      <td>1038</td>\n",
       "      <td>23502</td>\n",
       "      <td>Pb</td>\n",
       "      <td>16.20559165</td>\n",
       "      <td>1</td>\n",
       "      <td>0.0</td>\n",
       "      <td>14.585</td>\n",
       "      <td>16.2056</td>\n",
       "      <td>14.585</td>\n",
       "      <td>5</td>\n",
       "    </tr>\n",
       "  </tbody>\n",
       "</table>\n",
       "</div>"
      ],
      "text/plain": [
       "       UG  Presc species         area period      Vremovido(ton)     rait0  \\\n",
       "0       1   3502      Ec  42.60178231      1  3968.3560500000003  136.3257   \n",
       "1       1   3502      Pb  42.60178231      1                 0.0    4.2602   \n",
       "226  1038  23502      Ec  16.20559165      1         835.3823625    8.1028   \n",
       "227  1038  23502      Pb  16.20559165      1                 0.0    14.585   \n",
       "\n",
       "        rait5   rait10 ShPer  \n",
       "0    149.1062  119.285     0  \n",
       "1      4.2602   4.2602     0  \n",
       "226    8.1028   8.1028     5  \n",
       "227   16.2056   14.585     5  "
      ]
     },
     "execution_count": 210,
     "metadata": {},
     "output_type": "execute_result"
    }
   ],
   "source": [
    "# species changes in mwood\n",
    "mwood_change = mwood[mwood.duplicated(subset=['UG','period', 'Presc'], keep=False)].sort_values(by=['UG','period'])\n",
    "print('# of species changes in MaxWood:', len(mwood_change)/2)\n",
    "mwood_change.head(4)"
   ]
  },
  {
   "cell_type": "code",
   "execution_count": 211,
   "metadata": {},
   "outputs": [
    {
     "name": "stdout",
     "output_type": "stream",
     "text": [
      "# of species changes in Stakeholder solution: 831.0\n"
     ]
    },
    {
     "data": {
      "text/html": [
       "<div>\n",
       "<style scoped>\n",
       "    .dataframe tbody tr th:only-of-type {\n",
       "        vertical-align: middle;\n",
       "    }\n",
       "\n",
       "    .dataframe tbody tr th {\n",
       "        vertical-align: top;\n",
       "    }\n",
       "\n",
       "    .dataframe thead th {\n",
       "        text-align: right;\n",
       "    }\n",
       "</style>\n",
       "<table border=\"1\" class=\"dataframe\">\n",
       "  <thead>\n",
       "    <tr style=\"text-align: right;\">\n",
       "      <th></th>\n",
       "      <th>UG</th>\n",
       "      <th>species</th>\n",
       "      <th>Presc</th>\n",
       "      <th>area</th>\n",
       "      <th>NasolMaxRES</th>\n",
       "      <th>NasolMaxWood</th>\n",
       "      <th>period</th>\n",
       "      <th>Vremovido(ton)</th>\n",
       "      <th>rait0</th>\n",
       "      <th>rait5</th>\n",
       "      <th>rait10</th>\n",
       "      <th>ShPer</th>\n",
       "    </tr>\n",
       "  </thead>\n",
       "  <tbody>\n",
       "    <tr>\n",
       "      <th>59</th>\n",
       "      <td>1</td>\n",
       "      <td>Ec</td>\n",
       "      <td>1601</td>\n",
       "      <td>42.60178231</td>\n",
       "      <td>Yes</td>\n",
       "      <td>nan</td>\n",
       "      <td>1</td>\n",
       "      <td>2999.2719825</td>\n",
       "      <td>110.7646</td>\n",
       "      <td>115.0248</td>\n",
       "      <td>85.2036</td>\n",
       "      <td>5</td>\n",
       "    </tr>\n",
       "    <tr>\n",
       "      <th>60</th>\n",
       "      <td>1</td>\n",
       "      <td>Qr</td>\n",
       "      <td>1601</td>\n",
       "      <td>42.60178231</td>\n",
       "      <td>Yes</td>\n",
       "      <td>nan</td>\n",
       "      <td>1</td>\n",
       "      <td>0.0</td>\n",
       "      <td>51.1221</td>\n",
       "      <td>63.9027</td>\n",
       "      <td>51.1221</td>\n",
       "      <td>5</td>\n",
       "    </tr>\n",
       "    <tr>\n",
       "      <th>488</th>\n",
       "      <td>1000</td>\n",
       "      <td>Ct</td>\n",
       "      <td>19319</td>\n",
       "      <td>13.47439105</td>\n",
       "      <td>nan</td>\n",
       "      <td>nan</td>\n",
       "      <td>1</td>\n",
       "      <td>0.0</td>\n",
       "      <td>21.3602</td>\n",
       "      <td>33.686</td>\n",
       "      <td>33.686</td>\n",
       "      <td>10</td>\n",
       "    </tr>\n",
       "    <tr>\n",
       "      <th>489</th>\n",
       "      <td>1000</td>\n",
       "      <td>Ec</td>\n",
       "      <td>19319</td>\n",
       "      <td>13.47439105</td>\n",
       "      <td>nan</td>\n",
       "      <td>nan</td>\n",
       "      <td>1</td>\n",
       "      <td>2032.7803200000003</td>\n",
       "      <td>12.3929</td>\n",
       "      <td>33.686</td>\n",
       "      <td>33.686</td>\n",
       "      <td>10</td>\n",
       "    </tr>\n",
       "  </tbody>\n",
       "</table>\n",
       "</div>"
      ],
      "text/plain": [
       "       UG species  Presc         area NasolMaxRES NasolMaxWood period  \\\n",
       "59      1      Ec   1601  42.60178231         Yes          nan      1   \n",
       "60      1      Qr   1601  42.60178231         Yes          nan      1   \n",
       "488  1000      Ct  19319  13.47439105         nan          nan      1   \n",
       "489  1000      Ec  19319  13.47439105         nan          nan      1   \n",
       "\n",
       "         Vremovido(ton)     rait0     rait5   rait10 ShPer  \n",
       "59         2999.2719825  110.7646  115.0248  85.2036     5  \n",
       "60                  0.0   51.1221   63.9027  51.1221     5  \n",
       "488                 0.0   21.3602    33.686   33.686    10  \n",
       "489  2032.7803200000003   12.3929    33.686   33.686    10  "
      ]
     },
     "execution_count": 211,
     "metadata": {},
     "output_type": "execute_result"
    }
   ],
   "source": [
    "# species changes in stakeholder sol\n",
    "stake_change = stake[stake.duplicated(subset=['UG','period', 'Presc'], keep=False)].sort_values(by=['UG','period'])\n",
    "print('# of species changes in Stakeholder solution:', len(stake_change)/2)\n",
    "stake_change.head(4)"
   ]
  },
  {
   "cell_type": "markdown",
   "metadata": {},
   "source": [
    "## 3. Select the correct fire resistance value (rait) based on shrub cleaning periodicity\n",
    "Due to varying shrub cleaning periodicities (0, 5, or 10), corresponding fire resistance values are available in the `rait0`, `rait5`, and `rait10` columns."
   ]
  },
  {
   "cell_type": "markdown",
   "metadata": {},
   "source": [
    "\n",
    "### Step 1: Select the fire resistance value based on shrub cleaning periodicity."
   ]
  },
  {
   "cell_type": "code",
   "execution_count": 212,
   "metadata": {},
   "outputs": [
    {
     "name": "stdout",
     "output_type": "stream",
     "text": [
      "mres\n",
      "  UG Presc species         area period Vremovido(ton)     rait0     rait5  \\\n",
      "0  1  1601      Ec  42.60178231      1   2999.2719825  110.7646  115.0248   \n",
      "\n",
      "    rait10  ShPer      Rait  \n",
      "0  85.2036      5  115.0248  \n",
      "---------------------------------------------------\n",
      "mwood\n",
      "  UG Presc species         area period      Vremovido(ton)     rait0  \\\n",
      "0  1  3502      Ec  42.60178231      1  3968.3560500000003  136.3257   \n",
      "\n",
      "      rait5   rait10  ShPer      Rait  \n",
      "0  149.1062  119.285      0  136.3257  \n",
      "---------------------------------------------------\n",
      "stake\n",
      "   UG species Presc         area NasolMaxRES NasolMaxWood period  \\\n",
      "59  1      Ec  1601  42.60178231         Yes          nan      1   \n",
      "\n",
      "   Vremovido(ton)     rait0     rait5   rait10  ShPer      Rait  \n",
      "59   2999.2719825  110.7646  115.0248  85.2036      5  115.0248  \n",
      "---------------------------------------------------\n"
     ]
    }
   ],
   "source": [
    "# Select the correct fire resistance value depending on shrub cleaning periodicity\n",
    "\n",
    "# Define a function to select the correct 'rait' based on 'ShPer' value\n",
    "def fill_rait(row):\n",
    "    if row['ShPer'] == 0:\n",
    "        return row['rait0']\n",
    "    elif row['ShPer'] == 5:\n",
    "        return row['rait5']\n",
    "    elif row['ShPer'] == 10:\n",
    "        return row['rait10']\n",
    "    else:\n",
    "        return None  # or any default value you prefer for other cases\n",
    "\n",
    "# Use the function defined above in a loop to select the correct rait\n",
    "for name, presc in [(\"mres\", mres), (\"mwood\", mwood), (\"stake\", stake)]:\n",
    "    print(name)\n",
    "    # Ensure correct format\n",
    "    presc['ShPer'] = presc['ShPer'].astype(int)\n",
    "\n",
    "    # Apply the function to create the 'Rait' column\n",
    "    presc['Rait'] = presc.apply(fill_rait, axis=1)\n",
    "\n",
    "    # Look at the result\n",
    "    print(presc.head(1))\n",
    "    print('---------------------------------------------------')"
   ]
  },
  {
   "cell_type": "markdown",
   "metadata": {},
   "source": [
    "### Step 2: Validate if all rait values are correctly selected"
   ]
  },
  {
   "cell_type": "code",
   "execution_count": 213,
   "metadata": {},
   "outputs": [
    {
     "name": "stdout",
     "output_type": "stream",
     "text": [
      "535 rows have Rait == rait0 based on ShPer==0\n",
      "7365 rows have Rait == rait5 based on ShPer==5\n",
      "312 rows have Rait == rait10 based on ShPer==10\n",
      "✓ 8212 out of 8212 were matched correctly\n",
      "--------------------------------------------------\n",
      "3323 rows have Rait == rait0 based on ShPer==0\n",
      "1926 rows have Rait == rait5 based on ShPer==5\n",
      "2421 rows have Rait == rait10 based on ShPer==10\n",
      "✓ 7670 out of 7670 were matched correctly\n",
      "--------------------------------------------------\n",
      "4295 rows have Rait == rait0 based on ShPer==0\n",
      "3440 rows have Rait == rait5 based on ShPer==5\n",
      "656 rows have Rait == rait10 based on ShPer==10\n",
      "✓ 8391 out of 8391 were matched correctly\n",
      "--------------------------------------------------\n"
     ]
    }
   ],
   "source": [
    "# check if the Rait was assigned correctly\n",
    "\n",
    "for i in [mres, mwood, stake]:\n",
    "\n",
    "    # Check if value in 'Rait' column matches 'rait0' when 'ShPer' is 0\n",
    "    is_rait0 = (i['Rait'] == i['rait0']) & (i['ShPer'] == 0)\n",
    "    print(is_rait0.sum(), \"rows have Rait == rait0 based on ShPer==0\")\n",
    "\n",
    "    # Check if value in 'Rait' column matches 'rait5' when 'ShPer' is 5\n",
    "    is_rait5 = (i['Rait'] == i['rait5']) & (i['ShPer'] == 5)\n",
    "    print(is_rait5.sum(), \"rows have Rait == rait5 based on ShPer==5\")\n",
    "\n",
    "    # Check if value in 'Rait' column matches 'rait10' when 'ShPer' is 10\n",
    "    is_rait10 = (i['Rait'] == i['rait10']) & (i['ShPer'] == 10)\n",
    "    print(is_rait10.sum(), \"rows have Rait == rait10 based on ShPer==10\")\n",
    "\n",
    "    if (is_rait10.sum()+is_rait5.sum()+is_rait0.sum())==len(i):\n",
    "        print('\\u2713', (is_rait10.sum()+is_rait5.sum()+is_rait0.sum()), 'out of', len(i),'were matched correctly')\n",
    "    else:\n",
    "        print('u26A0', (is_rait10.sum()+is_rait5.sum()+is_rait0.sum()), 'out of', len(i),'were matched correctly')\n",
    "    print('--------------------------------------------------')"
   ]
  },
  {
   "cell_type": "code",
   "execution_count": 214,
   "metadata": {},
   "outputs": [
    {
     "data": {
      "text/html": [
       "<div>\n",
       "<style scoped>\n",
       "    .dataframe tbody tr th:only-of-type {\n",
       "        vertical-align: middle;\n",
       "    }\n",
       "\n",
       "    .dataframe tbody tr th {\n",
       "        vertical-align: top;\n",
       "    }\n",
       "\n",
       "    .dataframe thead th {\n",
       "        text-align: right;\n",
       "    }\n",
       "</style>\n",
       "<table border=\"1\" class=\"dataframe\">\n",
       "  <thead>\n",
       "    <tr style=\"text-align: right;\">\n",
       "      <th></th>\n",
       "      <th>UG</th>\n",
       "      <th>Presc</th>\n",
       "      <th>species</th>\n",
       "      <th>area</th>\n",
       "      <th>period</th>\n",
       "      <th>Vremovido(ton)</th>\n",
       "      <th>rait0</th>\n",
       "      <th>rait5</th>\n",
       "      <th>rait10</th>\n",
       "      <th>ShPer</th>\n",
       "      <th>Rait</th>\n",
       "    </tr>\n",
       "  </thead>\n",
       "  <tbody>\n",
       "    <tr>\n",
       "      <th>0</th>\n",
       "      <td>1</td>\n",
       "      <td>1601</td>\n",
       "      <td>Ec</td>\n",
       "      <td>42.60178231</td>\n",
       "      <td>1</td>\n",
       "      <td>2999.2719825</td>\n",
       "      <td>110.7646</td>\n",
       "      <td>115.0248</td>\n",
       "      <td>85.2036</td>\n",
       "      <td>5</td>\n",
       "      <td>115.0248</td>\n",
       "    </tr>\n",
       "    <tr>\n",
       "      <th>1</th>\n",
       "      <td>1</td>\n",
       "      <td>1601</td>\n",
       "      <td>Qr</td>\n",
       "      <td>42.60178231</td>\n",
       "      <td>1</td>\n",
       "      <td>0.0</td>\n",
       "      <td>51.1221</td>\n",
       "      <td>63.9027</td>\n",
       "      <td>51.1221</td>\n",
       "      <td>5</td>\n",
       "      <td>63.9027</td>\n",
       "    </tr>\n",
       "    <tr>\n",
       "      <th>2</th>\n",
       "      <td>1</td>\n",
       "      <td>1601</td>\n",
       "      <td>Qr</td>\n",
       "      <td>42.60178231</td>\n",
       "      <td>2</td>\n",
       "      <td>0.0</td>\n",
       "      <td>170.4071</td>\n",
       "      <td>213.0089</td>\n",
       "      <td>170.4071</td>\n",
       "      <td>5</td>\n",
       "      <td>213.0089</td>\n",
       "    </tr>\n",
       "    <tr>\n",
       "      <th>3</th>\n",
       "      <td>1</td>\n",
       "      <td>1601</td>\n",
       "      <td>Qr</td>\n",
       "      <td>42.60178231</td>\n",
       "      <td>3</td>\n",
       "      <td>2.8856880000000005</td>\n",
       "      <td>170.4071</td>\n",
       "      <td>213.0089</td>\n",
       "      <td>170.4071</td>\n",
       "      <td>5</td>\n",
       "      <td>213.0089</td>\n",
       "    </tr>\n",
       "    <tr>\n",
       "      <th>4</th>\n",
       "      <td>1</td>\n",
       "      <td>1601</td>\n",
       "      <td>Qr</td>\n",
       "      <td>42.60178231</td>\n",
       "      <td>4</td>\n",
       "      <td>11.048232</td>\n",
       "      <td>170.4071</td>\n",
       "      <td>213.0089</td>\n",
       "      <td>170.4071</td>\n",
       "      <td>5</td>\n",
       "      <td>213.0089</td>\n",
       "    </tr>\n",
       "  </tbody>\n",
       "</table>\n",
       "</div>"
      ],
      "text/plain": [
       "  UG Presc species         area period      Vremovido(ton)     rait0  \\\n",
       "0  1  1601      Ec  42.60178231      1        2999.2719825  110.7646   \n",
       "1  1  1601      Qr  42.60178231      1                 0.0   51.1221   \n",
       "2  1  1601      Qr  42.60178231      2                 0.0  170.4071   \n",
       "3  1  1601      Qr  42.60178231      3  2.8856880000000005  170.4071   \n",
       "4  1  1601      Qr  42.60178231      4           11.048232  170.4071   \n",
       "\n",
       "      rait5    rait10  ShPer      Rait  \n",
       "0  115.0248   85.2036      5  115.0248  \n",
       "1   63.9027   51.1221      5   63.9027  \n",
       "2  213.0089  170.4071      5  213.0089  \n",
       "3  213.0089  170.4071      5  213.0089  \n",
       "4  213.0089  170.4071      5  213.0089  "
      ]
     },
     "execution_count": 214,
     "metadata": {},
     "output_type": "execute_result"
    }
   ],
   "source": [
    "mres.head()"
   ]
  },
  {
   "cell_type": "markdown",
   "metadata": {},
   "source": [
    "## 4. 💾 Save cleaned data to csv files"
   ]
  },
  {
   "cell_type": "code",
   "execution_count": 215,
   "metadata": {},
   "outputs": [],
   "source": [
    "# subset the data, only keep the necessary\n",
    "columns_to_keep = [\n",
    "    'UG', 'species', 'Presc', 'period', 'Vremovido(ton)', 'Rait'\n",
    "]\n",
    "\n",
    "# Subset each DataFrame to include only the columns to keep\n",
    "mres = mres[columns_to_keep]\n",
    "mwood = mwood[columns_to_keep]\n",
    "stake = stake[columns_to_keep]"
   ]
  },
  {
   "cell_type": "code",
   "execution_count": 216,
   "metadata": {},
   "outputs": [
    {
     "name": "stdout",
     "output_type": "stream",
     "text": [
      "mres shape: (8212, 6)\n",
      "mwood shape: (7670, 6)\n",
      "stake shape: (8391, 6)\n"
     ]
    },
    {
     "data": {
      "text/html": [
       "<div>\n",
       "<style scoped>\n",
       "    .dataframe tbody tr th:only-of-type {\n",
       "        vertical-align: middle;\n",
       "    }\n",
       "\n",
       "    .dataframe tbody tr th {\n",
       "        vertical-align: top;\n",
       "    }\n",
       "\n",
       "    .dataframe thead th {\n",
       "        text-align: right;\n",
       "    }\n",
       "</style>\n",
       "<table border=\"1\" class=\"dataframe\">\n",
       "  <thead>\n",
       "    <tr style=\"text-align: right;\">\n",
       "      <th></th>\n",
       "      <th>UG</th>\n",
       "      <th>species</th>\n",
       "      <th>Presc</th>\n",
       "      <th>period</th>\n",
       "      <th>Vremovido(ton)</th>\n",
       "      <th>Rait</th>\n",
       "    </tr>\n",
       "  </thead>\n",
       "  <tbody>\n",
       "    <tr>\n",
       "      <th>59</th>\n",
       "      <td>1</td>\n",
       "      <td>Ec</td>\n",
       "      <td>1601</td>\n",
       "      <td>1</td>\n",
       "      <td>2999.2719825</td>\n",
       "      <td>115.0248</td>\n",
       "    </tr>\n",
       "  </tbody>\n",
       "</table>\n",
       "</div>"
      ],
      "text/plain": [
       "   UG species Presc period Vremovido(ton)      Rait\n",
       "59  1      Ec  1601      1   2999.2719825  115.0248"
      ]
     },
     "execution_count": 216,
     "metadata": {},
     "output_type": "execute_result"
    }
   ],
   "source": [
    "print('mres shape:', mres.shape)\n",
    "print('mwood shape:', mwood.shape)\n",
    "print('stake shape:', stake.shape)\n",
    "stake.head(1)"
   ]
  },
  {
   "cell_type": "code",
   "execution_count": 217,
   "metadata": {},
   "outputs": [
    {
     "name": "stdout",
     "output_type": "stream",
     "text": [
      " ✓ saved MaxRes_Data.csv to csv file, path 1_Preprocessed_Data\\0_Prescription_Data\\MaxRes_Data.csv\n",
      " ✓ saved MaxWood_Data.csv to csv file, path 1_Preprocessed_Data\\0_Prescription_Data\\MaxWood_Data.csv\n",
      " ✓ saved Stakeholder_Data.csv to csv file, path 1_Preprocessed_Data\\0_Prescription_Data\\Stakeholder_Data.csv\n"
     ]
    }
   ],
   "source": [
    "# Save the selected data to CSV files\n",
    "\n",
    "# Define subfolders\n",
    "subfolder = '1_Preprocessed_Data'\n",
    "subsubfolder = os.path.join(subfolder, '0_Prescription_Data')\n",
    "\n",
    "# Create subfolders if they do not exist\n",
    "os.makedirs(subsubfolder, exist_ok=True)\n",
    "\n",
    "for data, filename in [(mres,'MaxRes_Data.csv'), (mwood,'MaxWood_Data.csv'), (stake,'Stakeholder_Data.csv')]:\n",
    "    file_path = os.path.join(subsubfolder, filename)\n",
    "    data.to_csv(file_path, index=False)\n",
    "    print(' ✓ saved', filename, 'to csv file, path', file_path)"
   ]
  },
  {
   "cell_type": "markdown",
   "metadata": {},
   "source": [
    "## 5. Create road access matrices"
   ]
  },
  {
   "cell_type": "markdown",
   "metadata": {},
   "source": [
    "We wanna create, for each of the three harvesting schedules, a firetruck road access matrix telling if a specific `UG` number during a specific `period` needs:\n",
    "- 10m road access (1),\n",
    "- no 10m road access (0),  \n",
    "\n",
    "and a timber road access matrix telling if `UG` during `period` needs:\n",
    "- 5m road access (1),\n",
    "- no 5m road access (0).\n",
    "\n",
    "To validate we also create for each solution, and each period (1 to 5):\n",
    "- a list of UG that need timbertruck road access (5m)\n",
    "- a list of UG that need firetruck road access (10m) "
   ]
  },
  {
   "cell_type": "markdown",
   "metadata": {},
   "source": [
    "### 0. Extract the stands + validation"
   ]
  },
  {
   "cell_type": "code",
   "execution_count": 218,
   "metadata": {},
   "outputs": [
    {
     "name": "stdout",
     "output_type": "stream",
     "text": [
      "All matching.\n"
     ]
    }
   ],
   "source": [
    "# Extract unique UG values from each DataFrame and compare for validation\n",
    "ug_mres = sol_mres.drop_duplicates(subset=['UG'])['UG'].astype(int).sort_values().astype(str).reset_index(drop=True)\n",
    "ug_mwood = sol_mwood.drop_duplicates(subset=['UG'])['UG'].astype(int).sort_values().astype(str).reset_index(drop=True)\n",
    "ug_stake = sol_stake.drop_duplicates(subset=['UG'])['UG'].astype(int).sort_values().astype(str).reset_index(drop=True)\n",
    "ug_df = presc.drop_duplicates(subset=['UG'])['UG'].astype(int).sort_values().astype(str).reset_index(drop=True)\n",
    "\n",
    "# Check if all unique UG values are the same\n",
    "if ug_mres.equals(ug_mwood) and ug_mres.equals(ug_stake) and ug_mres.equals(ug_df):\n",
    "    print('All matching.')\n",
    "else:\n",
    "    print(\"Matching error: The unique UG values do not match across the DataFrames.\")\n"
   ]
  },
  {
   "cell_type": "code",
   "execution_count": 219,
   "metadata": {},
   "outputs": [],
   "source": [
    "stands = ug_df.to_frame()  # or use ug_mwood or ug_stake, they are the same"
   ]
  },
  {
   "cell_type": "code",
   "execution_count": 220,
   "metadata": {},
   "outputs": [
    {
     "data": {
      "text/html": [
       "<div>\n",
       "<style scoped>\n",
       "    .dataframe tbody tr th:only-of-type {\n",
       "        vertical-align: middle;\n",
       "    }\n",
       "\n",
       "    .dataframe tbody tr th {\n",
       "        vertical-align: top;\n",
       "    }\n",
       "\n",
       "    .dataframe thead th {\n",
       "        text-align: right;\n",
       "    }\n",
       "</style>\n",
       "<table border=\"1\" class=\"dataframe\">\n",
       "  <thead>\n",
       "    <tr style=\"text-align: right;\">\n",
       "      <th></th>\n",
       "      <th>UG</th>\n",
       "    </tr>\n",
       "  </thead>\n",
       "  <tbody>\n",
       "    <tr>\n",
       "      <th>0</th>\n",
       "      <td>1</td>\n",
       "    </tr>\n",
       "    <tr>\n",
       "      <th>1</th>\n",
       "      <td>2</td>\n",
       "    </tr>\n",
       "    <tr>\n",
       "      <th>2</th>\n",
       "      <td>3</td>\n",
       "    </tr>\n",
       "    <tr>\n",
       "      <th>3</th>\n",
       "      <td>4</td>\n",
       "    </tr>\n",
       "    <tr>\n",
       "      <th>4</th>\n",
       "      <td>5</td>\n",
       "    </tr>\n",
       "  </tbody>\n",
       "</table>\n",
       "</div>"
      ],
      "text/plain": [
       "  UG\n",
       "0  1\n",
       "1  2\n",
       "2  3\n",
       "3  4\n",
       "4  5"
      ]
     },
     "execution_count": 220,
     "metadata": {},
     "output_type": "execute_result"
    }
   ],
   "source": [
    "stands.head()"
   ]
  },
  {
   "cell_type": "markdown",
   "metadata": {},
   "source": [
    "### 1. Remove accessible stands from problem"
   ]
  },
  {
   "cell_type": "code",
   "execution_count": 221,
   "metadata": {},
   "outputs": [
    {
     "name": "stdout",
     "output_type": "stream",
     "text": [
      "fully accessible: 324\n",
      "timber access: 151\n",
      "not accessible: 212\n"
     ]
    },
    {
     "data": {
      "text/html": [
       "<div>\n",
       "<style scoped>\n",
       "    .dataframe tbody tr th:only-of-type {\n",
       "        vertical-align: middle;\n",
       "    }\n",
       "\n",
       "    .dataframe tbody tr th {\n",
       "        vertical-align: top;\n",
       "    }\n",
       "\n",
       "    .dataframe thead th {\n",
       "        text-align: right;\n",
       "    }\n",
       "</style>\n",
       "<table border=\"1\" class=\"dataframe\">\n",
       "  <thead>\n",
       "    <tr style=\"text-align: right;\">\n",
       "      <th></th>\n",
       "      <th>UG</th>\n",
       "    </tr>\n",
       "  </thead>\n",
       "  <tbody>\n",
       "    <tr>\n",
       "      <th>0</th>\n",
       "      <td>840</td>\n",
       "    </tr>\n",
       "    <tr>\n",
       "      <th>1</th>\n",
       "      <td>841</td>\n",
       "    </tr>\n",
       "    <tr>\n",
       "      <th>2</th>\n",
       "      <td>846</td>\n",
       "    </tr>\n",
       "    <tr>\n",
       "      <th>3</th>\n",
       "      <td>1204</td>\n",
       "    </tr>\n",
       "    <tr>\n",
       "      <th>4</th>\n",
       "      <td>1206</td>\n",
       "    </tr>\n",
       "  </tbody>\n",
       "</table>\n",
       "</div>"
      ],
      "text/plain": [
       "     UG\n",
       "0   840\n",
       "1   841\n",
       "2   846\n",
       "3  1204\n",
       "4  1206"
      ]
     },
     "execution_count": 221,
     "metadata": {},
     "output_type": "execute_result"
    }
   ],
   "source": [
    "folder_path = '1_Preprocessed_Data/1_Stand_Accessibility'\n",
    "\n",
    "# Load the CSV files into DataFrames\n",
    "stands_accessible = pd.read_csv(f'{folder_path}/stands_accessible.csv')\n",
    "stands_timberroadonly = pd.read_csv(f'{folder_path}/stands_timberroadonly.csv')\n",
    "stands_inaccessible = pd.read_csv(f'{folder_path}/stands_inaccessible.csv')\n",
    "\n",
    "# Rename the column to 'UG'\n",
    "stands_inaccessible.columns = ['UG']\n",
    "stands_timberroadonly.columns = ['UG']\n",
    "stands_accessible.columns = ['UG']\n",
    "\n",
    "print('fully accessible:', len(stands_accessible))\n",
    "print('timber access:', len(stands_timberroadonly))\n",
    "print('not accessible:', len(stands_inaccessible))\n",
    "stands_inaccessible.head()"
   ]
  },
  {
   "cell_type": "code",
   "execution_count": 222,
   "metadata": {},
   "outputs": [
    {
     "data": {
      "text/plain": [
       "687"
      ]
     },
     "execution_count": 222,
     "metadata": {},
     "output_type": "execute_result"
    }
   ],
   "source": [
    "319+139+229"
   ]
  },
  {
   "cell_type": "code",
   "execution_count": 223,
   "metadata": {},
   "outputs": [],
   "source": [
    "# Convert 'UG' to string in both DataFrames to avoid any data type mismatches\n",
    "stands['UG'] = stands['UG'].astype(str)"
   ]
  },
  {
   "cell_type": "code",
   "execution_count": 224,
   "metadata": {},
   "outputs": [
    {
     "name": "stdout",
     "output_type": "stream",
     "text": [
      "324\n",
      "151\n",
      "212\n"
     ]
    }
   ],
   "source": [
    "# Data validation\n",
    "#  Check if entries in 'stands' are contained in 'UG_ID' of 'accessible_stands'\n",
    "stands_accessible['UG'] = stands_accessible['UG'].astype(str)\n",
    "common_entries = stands[stands['UG'].isin(stands_accessible.UG)]\n",
    "\n",
    "# Display the common entries (optional)\n",
    "print(len(common_entries))\n",
    "\n",
    "stands_timberroadonly['UG'] = stands_timberroadonly['UG'].astype(str)\n",
    "common_entries = stands[stands['UG'].isin(stands_timberroadonly['UG'])]\n",
    "\n",
    "# Display the common entries (optional)\n",
    "print(len(common_entries))\n",
    "\n",
    "stands_inaccessible['UG'] = stands_inaccessible['UG'].astype(str)\n",
    "common_entries = stands[stands['UG'].isin(stands_inaccessible['UG'])]\n",
    "\n",
    "# Display the common entries (optional)\n",
    "print(len(common_entries))"
   ]
  },
  {
   "cell_type": "markdown",
   "metadata": {},
   "source": [
    "### 2. create road access matrices"
   ]
  },
  {
   "cell_type": "markdown",
   "metadata": {},
   "source": [
    "We are choosing that the stands within the lowest 0.05 quantile of rait value need fire road access."
   ]
  },
  {
   "cell_type": "markdown",
   "metadata": {},
   "source": [
    "#### Attention, special case\n",
    "We can not simply keep any row from the duplicate ones, due to the species changes/mixed stands we need to make sure:\n",
    "\n",
    "- When creating the timber road access matrix, in case of species changes, we need to keep the row with the higher V_removido value. -> simple, just filter for Vremovido >0\n",
    "- when creating the bigroad access matrix, we keep the one with the lower rait value and drop the one with higher rait value. "
   ]
  },
  {
   "cell_type": "markdown",
   "metadata": {},
   "source": [
    "### 3. Create matrices"
   ]
  },
  {
   "cell_type": "code",
   "execution_count": null,
   "metadata": {},
   "outputs": [
    {
     "name": "stdout",
     "output_type": "stream",
     "text": [
      "Processing mres - Initial shape: (8212, 6)\n",
      "Processing mwood - Initial shape: (7670, 6)\n",
      "Processing stake - Initial shape: (8391, 6)\n",
      "Final access matrix saved to: 1_Preprocessed_Data\\0_Access_Requirements_Matrices\\stake_stands_access_matrix.csv\n"
     ]
    }
   ],
   "source": [
    "# Initialize process info list\n",
    "process_info_list = []\n",
    "\n",
    "# Ensure 'stands_inaccessible' is a DataFrame and rename UG to ID_UG\n",
    "stands_inaccessible = pd.DataFrame({'ID_UG': stands_inaccessible['UG']})\n",
    "\n",
    "# Define the dataframes and their names\n",
    "dataframes = [(\"mres\", mres), (\"mwood\", mwood), (\"stake\", stake)]\n",
    "\n",
    "# Create base matrix for stands_inaccessible\n",
    "basematrix = stands_inaccessible.copy()\n",
    "basematrix[[f'5mt{i}' for i in range(1, 6)]] = 0\n",
    "basematrix[[f'10mt{i}' for i in range(1, 6)]] = 0\n",
    "\n",
    "# Iterate through each DataFrame\n",
    "for name, df in dataframes:\n",
    "    print(f\"Processing {name} - Initial shape:\", df.shape)\n",
    "\n",
    "    # Convert columns to appropriate types\n",
    "    df['Vremovido(ton)'] = df['Vremovido(ton)'].astype(float)\n",
    "    df['period'] = df['period'].astype(int)\n",
    "    df['Rait'] = df['Rait'].astype(float)\n",
    "\n",
    "    for period in range(1, 6):\n",
    "        # Filter data for the current period\n",
    "        period_df = df[df['period'] == period]\n",
    "\n",
    "        # Identify stands needing timber access (Vremovido > 0) - only for stands_inaccessible\n",
    "        stands_with_timber = period_df.loc[period_df['Vremovido(ton)'] > 0, 'UG']\n",
    "        stands_with_timber = stands_with_timber[stands_with_timber.isin(stands_inaccessible['ID_UG'])]\n",
    "\n",
    "        # Identify stands needing firetruck access (Rait in bottom 5%) - only for stands_inaccessible\n",
    "        quantile_threshold = period_df['Rait'].quantile(0.05)\n",
    "        stands_with_low_rait = period_df.loc[period_df['Rait'] < quantile_threshold, 'UG']\n",
    "        stands_with_low_rait = stands_with_low_rait[stands_with_low_rait.isin(stands_inaccessible['ID_UG'])]\n",
    "\n",
    "        # Update the matrix\n",
    "        basematrix.loc[basematrix['ID_UG'].isin(stands_with_timber), f'5mt{period}'] = 1\n",
    "        basematrix.loc[basematrix['ID_UG'].isin(stands_with_low_rait), f'10mt{period}'] = 1\n",
    "\n",
    "    # Save final matrix\n",
    "    output_folder = os.path.join('1_Preprocessed_Data', '0_Access_Requirements_Matrices')\n",
    "    os.makedirs(output_folder, exist_ok=True)\n",
    "    output_file = os.path.join(output_folder, f'{name}_stands_access_needs.csv')\n",
    "    basematrix.to_csv(output_file, index=False)\n",
    "\n",
    "print(f\"Final access matrix saved to: {output_file}\")\n"
   ]
  },
  {
   "cell_type": "markdown",
   "metadata": {},
   "source": [
    "# create the matrices\n",
    "\n",
    "process_info_list = []\n",
    "\n",
    "# Ensure 'stands_inaccessible' and 'stands_timberroadonly' are DataFrames\n",
    "stands_inaccessible = pd.DataFrame({'UG': stands_inaccessible['UG']})  # Assuming 'UG' is the column name in stands_inaccessible\n",
    "stands_timberroadonly = pd.DataFrame({'UG': stands_timberroadonly['UG']})  # Same for stands_timberroadonly\n",
    "\n",
    "# Define the dataframes and their names\n",
    "dataframes = [(\"mres\", mres), (\"mwood\", mwood), (\"stake\", stake)]\n",
    "\n",
    "# Iterate through the dictionary and process each DataFrame\n",
    "for name, df in dataframes:\n",
    "\n",
    "    # Print info of initial df\n",
    "    print(f\"Initial shape of {name}:\", df.shape)\n",
    "\n",
    "    # Convert columns to appropriate types\n",
    "    df['Vremovido(ton)'] = df['Vremovido(ton)'].astype(float)\n",
    "    df['period'] = df['period'].astype(int)\n",
    "    df['Rait'] = df['Rait'].astype(float)\n",
    "\n",
    "    # Initialize matrices by assigning the first column the list of stands\n",
    "    timberaccess = pd.DataFrame({'UG': stands_inaccessible.UG})\n",
    "    fireaccess = pd.DataFrame({'UG': stands_inaccessible.UG.append(stands_timberroadonly.UG, ignore_index=True)})\n",
    "\n",
    "\n",
    "    for period in range(1, 6):\n",
    "        # Filter data for the current period\n",
    "        period_df = df[df['period'] == period]\n",
    "        # Filter only the stands that have timber\n",
    "        stands_with_timber = period_df[period_df['Vremovido(ton)'] > 0]\n",
    "        # filter the lowest rait stands (0.05 quant)\n",
    "        quant = 0.05\n",
    "        stands_with_low_rait = period_df[period_df['Rait'] < period_df['Rait'].quantile(quant)]\n",
    "\n",
    "        # Subset columns to be used for validation\n",
    "        stands_with_timber = stands_with_timber[['UG', 'Vremovido(ton)']]\n",
    "        stands_with_low_rait = stands_with_low_rait[['UG', 'Rait']]\n",
    "\n",
    "        # Update matrices\n",
    "        timberaccess[f'need_5m_access_period{period}'] = timberaccess['UG'].isin(stands_with_timber['UG']).astype(int)\n",
    "        fireaccess[f'need_10m_access_period{period}'] = fireaccess['UG'].isin(stands_with_low_rait['UG']).astype(int)\n",
    "\n",
    "        # Define file paths\n",
    "        subfolder = os.path.join('1_Preprocessed_Data', '0_Lists_of_Stands_Needing_Road_Access')\n",
    "        os.makedirs(subfolder, exist_ok=True)\n",
    "        tfile_path = os.path.join(subfolder, f'{name}_period{period}_timber.csv')\n",
    "        ffile_path = os.path.join(subfolder, f'{name}_period{period}_fire.csv')\n",
    "\n",
    "        # Initialize saved file variables\n",
    "        saved_tfile = 'No data to save'\n",
    "        saved_ffile = 'No data to save'\n",
    "\n",
    "        # Save files if data is not empty\n",
    "        if not stands_with_timber.empty:\n",
    "            stands_with_timber.to_csv(tfile_path, index=False)\n",
    "            saved_tfile = tfile_path\n",
    "\n",
    "        if not stands_with_low_rait.empty:\n",
    "            stands_with_low_rait.to_csv(ffile_path, index=False)\n",
    "            saved_ffile = ffile_path\n",
    "\n",
    "        # Append process info\n",
    "        process_info_list.append({\n",
    "            'DataFrame': name,\n",
    "            'Period': period,\n",
    "            'Filtered_Shape': stands_with_timber.shape,\n",
    "            'Saved_Files': f'{saved_tfile} , {saved_ffile}'\n",
    "        })\n",
    "\n",
    "    # Save matrices\n",
    "    matrixfolder = os.path.join('1_Preprocessed_Data', '0_Access_Requirements_Matrices')\n",
    "    os.makedirs(matrixfolder, exist_ok=True)\n",
    "    timberaccess.to_csv(os.path.join(matrixfolder, f'{name}_stands_needing_timber_access.csv'), index=False)\n",
    "    fireaccess.to_csv(os.path.join(matrixfolder, f'{name}_stands_needing_firetruck_access.csv'), index=False)"
   ]
  },
  {
   "cell_type": "code",
   "execution_count": 226,
   "metadata": {},
   "outputs": [
    {
     "data": {
      "text/plain": [
       "[]"
      ]
     },
     "execution_count": 226,
     "metadata": {},
     "output_type": "execute_result"
    }
   ],
   "source": [
    "process_info_list"
   ]
  },
  {
   "cell_type": "markdown",
   "metadata": {},
   "source": [
    "#### 4. Validate the creation of timber/fire access matrices"
   ]
  },
  {
   "cell_type": "code",
   "execution_count": 227,
   "metadata": {},
   "outputs": [
    {
     "name": "stdout",
     "output_type": "stream",
     "text": [
      "Error: Timber access matrix file 1_Preprocessed_Data\\Matrices_Road_Access\\mres_stands_needing_timber_access.csv does not exist.\n",
      "Error: Timber access matrix file 1_Preprocessed_Data\\Matrices_Road_Access\\mwood_stands_needing_timber_access.csv does not exist.\n",
      "Error: Timber access matrix file 1_Preprocessed_Data\\Matrices_Road_Access\\stake_stands_needing_timber_access.csv does not exist.\n"
     ]
    }
   ],
   "source": [
    "# define a function to check the creation of matrices (compare with created lists)\n",
    "def check_matrices(matrix_folder, dataframes, periods, stands):\n",
    "    for name, _ in dataframes:\n",
    "        timber_file = os.path.join(matrix_folder, f'{name}_stands_needing_timber_access.csv')\n",
    "        fire_file = os.path.join(matrix_folder, f'{name}_stands_needing_firetruck_access.csv')\n",
    "\n",
    "        # Check if files exist\n",
    "        if not os.path.isfile(timber_file):\n",
    "            print(f\"Error: Timber access matrix file {timber_file} does not exist.\")\n",
    "            continue\n",
    "        if not os.path.isfile(fire_file):\n",
    "            print(f\"Error: Firetruck access matrix file {fire_file} does not exist.\")\n",
    "            continue\n",
    "\n",
    "        # Load matrices\n",
    "        timberaccess = pd.read_csv(timber_file)\n",
    "        fireaccess = pd.read_csv(fire_file)\n",
    "\n",
    "        # Check matrix dimensions\n",
    "        expected_rows = len(stands)\n",
    "        expected_cols = len(periods) + 1  # One column for 'UG' plus one for each period\n",
    "\n",
    "        # Check timber access matrix\n",
    "        for matrix, matrix_type in zip([timberaccess, fireaccess], ['timber', 'fire']):\n",
    "            matrix_file = timber_file if matrix_type == 'timber' else fire_file\n",
    "\n",
    "            # Check rows\n",
    "            if matrix.shape[0] != expected_rows:\n",
    "                print(f\"Error: {matrix_type.capitalize()} matrix {matrix_file} has {matrix.shape[0]} rows instead of {expected_rows}.\")\n",
    "\n",
    "            # Check columns\n",
    "            if matrix.shape[1] != expected_cols:\n",
    "                print(f\"Error: {matrix_type.capitalize()} matrix {matrix_file} has {matrix.shape[1]} columns instead of {expected_cols}.\")\n",
    "\n",
    "            # Check values\n",
    "            if not matrix.iloc[:, 1:].isin([0, 1]).all().all():\n",
    "                print(f\"Error: {matrix_type.capitalize()} matrix {matrix_file} contains non-binary values.\")\n",
    "\n",
    "            print(f\"{matrix_type.capitalize()} matrix {matrix_file} is correct.\")\n",
    "\n",
    "# Define paths and parameters\n",
    "matrixfolder = os.path.join('1_Preprocessed_Data', 'Matrices_Road_Access')\n",
    "dataframes = [(\"mres\", mres), (\"mwood\", mwood), (\"stake\", stake)]\n",
    "periods = range(1, 6)  # Periods 1 to 5\n",
    "stands = pd.concat([df['UG'] for _, df in dataframes]).unique()  # Assuming 'UG' column contains stand identifiers\n",
    "\n",
    "# Perform checks\n",
    "check_matrices(matrixfolder, dataframes, periods, stands)"
   ]
  }
 ],
 "metadata": {
  "kernelspec": {
   "display_name": "Python 3",
   "language": "python",
   "name": "python3"
  },
  "language_info": {
   "codemirror_mode": {
    "name": "ipython",
    "version": 3
   },
   "file_extension": ".py",
   "mimetype": "text/x-python",
   "name": "python",
   "nbconvert_exporter": "python",
   "pygments_lexer": "ipython3",
   "version": "3.10.4"
  }
 },
 "nbformat": 4,
 "nbformat_minor": 2
}
